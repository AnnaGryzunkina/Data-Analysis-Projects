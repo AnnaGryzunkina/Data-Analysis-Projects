{
 "cells": [
  {
   "cell_type": "markdown",
   "id": "68e56c9c",
   "metadata": {},
   "source": [
    "# Исследовательский анализ данных"
   ]
  },
  {
   "cell_type": "markdown",
   "id": "fa33352e",
   "metadata": {},
   "source": [
    "**Описание данных**\n",
    "\n",
    "- *Name — название игры*\n",
    "- *Platform — платформа*\n",
    "- *Year_of_Release — год выпуска*\n",
    "- *Genre — жанр игры*\n",
    "- *NA_sales — продажи в Северной Америке (миллионы проданных копий)*\n",
    "- *EU_sales — продажи в Европе (миллионы проданных копий)*\n",
    "- *JP_sales — продажи в Японии (миллионы проданных копий)*\n",
    "- *Other_sales — продажи в других странах (миллионы проданных копий)*\n",
    "- *Critic_Score — оценка критиков (максимум 100)*\n",
    "- *User_Score — оценка пользователей (максимум 10)*\n",
    "- *Rating — рейтинг от организации ESRB (англ. Entertainment Software Rating Board). Эта ассоциация определяет рейтинг компьютерных игр и присваивает им подходящую возрастную категорию.*\n",
    "\n",
    "\n",
    "*Данные за 2016 год могут быть неполными.*\n",
    "\n",
    "----"
   ]
  },
  {
   "cell_type": "markdown",
   "id": "623c9d49",
   "metadata": {},
   "source": [
    "**Ход исследования**\n",
    "\n",
    "Проведем исследование на примере интернет-магазина «Стримчик», который реализует компьютерные игры по всему миру. Из открытых источников доступны данные о продажах игр, оценках пользователей и экспертов, жанрах и платформах. \n",
    "\n",
    "Основная цель - выявить закономерности, определяющие успешность игры. Выводы будут учтены при выборе продукта и планировании для него рекламной кампании.\n",
    "\n",
    "\n",
    "**Этапы:**\n",
    "\n",
    "**1. Подготовка данных к анализу:**\n",
    "\n",
    "    - приведем названия столбцов к нижнему регистру \n",
    "    - исправим тип данных в столбцах: 'year_of_release', 'user_score'\n",
    "    - избавимся от пропусков, где это целесообразно и возможно\n",
    "    - избавимся от аномалий в столбце 'user_score'\n",
    "    - добавим столбец с глобальными продажами\n",
    "    \n",
    "    \n",
    "**2. Исследовательский анализ данных:**\n",
    "\n",
    "    - посмотрим на динамику выпускаемых игр по годам\n",
    "    - посмотрим на продажи игр по годам\n",
    "    - определим актуальный период для исследования\n",
    "    - выделим лидиров продаж по платформам\n",
    "    - посмотрим на распределение глобальных продаж в разбивке по платформам\n",
    "    - изучим влияние оценок пользователей и критиков на продажи платформ\n",
    "    - посмотрим на распределение жанров\n",
    "    \n",
    "    \n",
    "**3. Формирование портрета пользователя по каждому региону:**\n",
    "\n",
    "    - определим популярные платформу по регионам\n",
    "    - определим популярные жанры по регионам\n",
    "    - изучим взаимосвязь рейтинга ESRB на продажи в регионах\n",
    "    \n",
    " \n",
    "**4. Проверка гипотез**\n",
    "\n",
    "    - первая: средние пользовательские рейтинги платформ Xbox One и PC одинаковые\n",
    "    - вторая: пользовательские рейтинги жанров Action и Sports разные\n",
    "    \n",
    "**Общие выводы**\n",
    "    \n",
    "----"
   ]
  },
  {
   "cell_type": "markdown",
   "id": "8c9f158d",
   "metadata": {},
   "source": [
    "## 1 этап. Предобработка данных"
   ]
  },
  {
   "cell_type": "markdown",
   "id": "38034f99",
   "metadata": {},
   "source": [
    "**Задачи**\n",
    "\n",
    "-----\n",
    "1. Приведем названия столбцов к нижнему регистру \n",
    "2. Исправим тип данных в столбцах\n",
    "3. Избавимся от пропусков, где это целесообразно и возможно\n",
    "4. Избавимся от аномалий в данных\n",
    "5. Добавим столбец с глобальными продажами"
   ]
  },
  {
   "cell_type": "code",
   "execution_count": 6,
   "id": "3e579e87",
   "metadata": {},
   "outputs": [],
   "source": [
    "#Импортируем библиотеки\n",
    "import pandas as pd\n",
    "import numpy as np\n",
    "import matplotlib.pyplot as plt\n",
    "import seaborn as sns\n",
    "from scipy import stats as st"
   ]
  },
  {
   "cell_type": "code",
   "execution_count": 7,
   "id": "70d9661c",
   "metadata": {},
   "outputs": [],
   "source": [
    "#Выгружаем датасет\n",
    "try:\n",
    "    df = pd.read_csv('/datasets/games.csv')\n",
    "except:\n",
    "    df = pd.read_csv('games.csv')"
   ]
  },
  {
   "cell_type": "code",
   "execution_count": 8,
   "id": "331cc4ba",
   "metadata": {},
   "outputs": [
    {
     "data": {
      "text/html": [
       "<div>\n",
       "<style scoped>\n",
       "    .dataframe tbody tr th:only-of-type {\n",
       "        vertical-align: middle;\n",
       "    }\n",
       "\n",
       "    .dataframe tbody tr th {\n",
       "        vertical-align: top;\n",
       "    }\n",
       "\n",
       "    .dataframe thead th {\n",
       "        text-align: right;\n",
       "    }\n",
       "</style>\n",
       "<table border=\"1\" class=\"dataframe\">\n",
       "  <thead>\n",
       "    <tr style=\"text-align: right;\">\n",
       "      <th></th>\n",
       "      <th>Name</th>\n",
       "      <th>Platform</th>\n",
       "      <th>Year_of_Release</th>\n",
       "      <th>Genre</th>\n",
       "      <th>NA_sales</th>\n",
       "      <th>EU_sales</th>\n",
       "      <th>JP_sales</th>\n",
       "      <th>Other_sales</th>\n",
       "      <th>Critic_Score</th>\n",
       "      <th>User_Score</th>\n",
       "      <th>Rating</th>\n",
       "    </tr>\n",
       "  </thead>\n",
       "  <tbody>\n",
       "    <tr>\n",
       "      <th>0</th>\n",
       "      <td>Wii Sports</td>\n",
       "      <td>Wii</td>\n",
       "      <td>2006.0</td>\n",
       "      <td>Sports</td>\n",
       "      <td>41.36</td>\n",
       "      <td>28.96</td>\n",
       "      <td>3.77</td>\n",
       "      <td>8.45</td>\n",
       "      <td>76.0</td>\n",
       "      <td>8</td>\n",
       "      <td>E</td>\n",
       "    </tr>\n",
       "    <tr>\n",
       "      <th>1</th>\n",
       "      <td>Super Mario Bros.</td>\n",
       "      <td>NES</td>\n",
       "      <td>1985.0</td>\n",
       "      <td>Platform</td>\n",
       "      <td>29.08</td>\n",
       "      <td>3.58</td>\n",
       "      <td>6.81</td>\n",
       "      <td>0.77</td>\n",
       "      <td>NaN</td>\n",
       "      <td>NaN</td>\n",
       "      <td>NaN</td>\n",
       "    </tr>\n",
       "    <tr>\n",
       "      <th>2</th>\n",
       "      <td>Mario Kart Wii</td>\n",
       "      <td>Wii</td>\n",
       "      <td>2008.0</td>\n",
       "      <td>Racing</td>\n",
       "      <td>15.68</td>\n",
       "      <td>12.76</td>\n",
       "      <td>3.79</td>\n",
       "      <td>3.29</td>\n",
       "      <td>82.0</td>\n",
       "      <td>8.3</td>\n",
       "      <td>E</td>\n",
       "    </tr>\n",
       "    <tr>\n",
       "      <th>3</th>\n",
       "      <td>Wii Sports Resort</td>\n",
       "      <td>Wii</td>\n",
       "      <td>2009.0</td>\n",
       "      <td>Sports</td>\n",
       "      <td>15.61</td>\n",
       "      <td>10.93</td>\n",
       "      <td>3.28</td>\n",
       "      <td>2.95</td>\n",
       "      <td>80.0</td>\n",
       "      <td>8</td>\n",
       "      <td>E</td>\n",
       "    </tr>\n",
       "    <tr>\n",
       "      <th>4</th>\n",
       "      <td>Pokemon Red/Pokemon Blue</td>\n",
       "      <td>GB</td>\n",
       "      <td>1996.0</td>\n",
       "      <td>Role-Playing</td>\n",
       "      <td>11.27</td>\n",
       "      <td>8.89</td>\n",
       "      <td>10.22</td>\n",
       "      <td>1.00</td>\n",
       "      <td>NaN</td>\n",
       "      <td>NaN</td>\n",
       "      <td>NaN</td>\n",
       "    </tr>\n",
       "  </tbody>\n",
       "</table>\n",
       "</div>"
      ],
      "text/plain": [
       "                       Name Platform  Year_of_Release         Genre  NA_sales  \\\n",
       "0                Wii Sports      Wii           2006.0        Sports     41.36   \n",
       "1         Super Mario Bros.      NES           1985.0      Platform     29.08   \n",
       "2            Mario Kart Wii      Wii           2008.0        Racing     15.68   \n",
       "3         Wii Sports Resort      Wii           2009.0        Sports     15.61   \n",
       "4  Pokemon Red/Pokemon Blue       GB           1996.0  Role-Playing     11.27   \n",
       "\n",
       "   EU_sales  JP_sales  Other_sales  Critic_Score User_Score Rating  \n",
       "0     28.96      3.77         8.45          76.0          8      E  \n",
       "1      3.58      6.81         0.77           NaN        NaN    NaN  \n",
       "2     12.76      3.79         3.29          82.0        8.3      E  \n",
       "3     10.93      3.28         2.95          80.0          8      E  \n",
       "4      8.89     10.22         1.00           NaN        NaN    NaN  "
      ]
     },
     "execution_count": 8,
     "metadata": {},
     "output_type": "execute_result"
    }
   ],
   "source": [
    "df.head()"
   ]
  },
  {
   "cell_type": "code",
   "execution_count": 9,
   "id": "c9297dde",
   "metadata": {},
   "outputs": [
    {
     "name": "stdout",
     "output_type": "stream",
     "text": [
      "<class 'pandas.core.frame.DataFrame'>\n",
      "RangeIndex: 16715 entries, 0 to 16714\n",
      "Data columns (total 11 columns):\n",
      " #   Column           Non-Null Count  Dtype  \n",
      "---  ------           --------------  -----  \n",
      " 0   Name             16713 non-null  object \n",
      " 1   Platform         16715 non-null  object \n",
      " 2   Year_of_Release  16446 non-null  float64\n",
      " 3   Genre            16713 non-null  object \n",
      " 4   NA_sales         16715 non-null  float64\n",
      " 5   EU_sales         16715 non-null  float64\n",
      " 6   JP_sales         16715 non-null  float64\n",
      " 7   Other_sales      16715 non-null  float64\n",
      " 8   Critic_Score     8137 non-null   float64\n",
      " 9   User_Score       10014 non-null  object \n",
      " 10  Rating           9949 non-null   object \n",
      "dtypes: float64(6), object(5)\n",
      "memory usage: 1.4+ MB\n"
     ]
    }
   ],
   "source": [
    "#Общая информация\n",
    "df.info()"
   ]
  },
  {
   "cell_type": "code",
   "execution_count": 10,
   "id": "0e0a6f48",
   "metadata": {},
   "outputs": [
    {
     "data": {
      "text/plain": [
       "Index(['name', 'platform', 'year_of_release', 'genre', 'na_sales', 'eu_sales',\n",
       "       'jp_sales', 'other_sales', 'critic_score', 'user_score', 'rating'],\n",
       "      dtype='object')"
      ]
     },
     "execution_count": 10,
     "metadata": {},
     "output_type": "execute_result"
    }
   ],
   "source": [
    "#Приведем названия столбцов к нижнему регистру\n",
    "df.columns = df.columns.str.lower() \n",
    "\n",
    "#Проверим\n",
    "df.columns"
   ]
  },
  {
   "cell_type": "code",
   "execution_count": 6,
   "id": "cce548b1",
   "metadata": {},
   "outputs": [
    {
     "data": {
      "text/plain": [
       "name                0.01\n",
       "platform            0.00\n",
       "year_of_release     1.61\n",
       "genre               0.01\n",
       "na_sales            0.00\n",
       "eu_sales            0.00\n",
       "jp_sales            0.00\n",
       "other_sales         0.00\n",
       "critic_score       51.32\n",
       "user_score         40.09\n",
       "rating             40.48\n",
       "dtype: float64"
      ]
     },
     "execution_count": 6,
     "metadata": {},
     "output_type": "execute_result"
    }
   ],
   "source": [
    "#Количество пропусков в процентах \n",
    "round(df.isna().mean()*100, 2)"
   ]
  },
  {
   "cell_type": "code",
   "execution_count": 7,
   "id": "63f407b2",
   "metadata": {},
   "outputs": [
    {
     "data": {
      "text/plain": [
       "name                  0\n",
       "platform              0\n",
       "year_of_release       0\n",
       "genre                 0\n",
       "na_sales              0\n",
       "eu_sales              0\n",
       "jp_sales              0\n",
       "other_sales           0\n",
       "critic_score       8461\n",
       "user_score         6605\n",
       "rating             6676\n",
       "dtype: int64"
      ]
     },
     "execution_count": 7,
     "metadata": {},
     "output_type": "execute_result"
    }
   ],
   "source": [
    "#Удалим строки с пропусками \n",
    "df = df.dropna(subset = ['year_of_release', 'name', 'genre'])\n",
    "df.isna().sum()"
   ]
  },
  {
   "cell_type": "markdown",
   "id": "98c6b953",
   "metadata": {},
   "source": [
    "*Удалили пропуски в столбцах: **'year_of_release', 'name', 'genre'** - их было меньше 2%. Восстановить данные было невозможно.*"
   ]
  },
  {
   "cell_type": "code",
   "execution_count": 8,
   "id": "7f329d75",
   "metadata": {},
   "outputs": [
    {
     "data": {
      "text/plain": [
       "6534"
      ]
     },
     "execution_count": 8,
     "metadata": {},
     "output_type": "execute_result"
    }
   ],
   "source": [
    "#Посмотрим на взамосвязь пропусков в столбцах 'critic_score', 'user_score', 'rating'\n",
    "df[(df.critic_score.isna()) & (df.user_score.isna()) & (df.rating.isna())].shape[0]"
   ]
  },
  {
   "cell_type": "code",
   "execution_count": 9,
   "id": "8c6fcb82",
   "metadata": {},
   "outputs": [
    {
     "data": {
      "text/plain": [
       "array(['8', nan, '8.3', '8.5', '6.6', '8.4', '8.6', '7.7', '6.3', '7.4',\n",
       "       '8.2', '9', '7.9', '8.1', '8.7', '7.1', '3.4', '5.3', '4.8', '3.2',\n",
       "       '8.9', '6.4', '7.8', '7.5', '2.6', '7.2', '9.2', '7', '7.3', '4.3',\n",
       "       '7.6', '5.7', '5', '9.1', '6.5', 'tbd', '8.8', '6.9', '9.4', '6.8',\n",
       "       '6.1', '6.7', '5.4', '4', '4.9', '4.5', '9.3', '6.2', '4.2', '6',\n",
       "       '3.7', '4.1', '5.8', '5.6', '5.5', '4.4', '4.6', '5.9', '3.9',\n",
       "       '3.1', '2.9', '5.2', '3.3', '4.7', '5.1', '3.5', '2.5', '1.9', '3',\n",
       "       '2.7', '2.2', '2', '9.5', '2.1', '3.6', '2.8', '1.8', '3.8', '0',\n",
       "       '1.6', '9.6', '2.4', '1.7', '1.1', '0.3', '1.5', '0.7', '1.2',\n",
       "       '2.3', '0.5', '1.3', '0.2', '0.6', '1.4', '0.9', '1', '9.7'],\n",
       "      dtype=object)"
      ]
     },
     "execution_count": 9,
     "metadata": {},
     "output_type": "execute_result"
    }
   ],
   "source": [
    "#Рассмотрим детально столбец 'user_score'\n",
    "df.user_score.unique()"
   ]
  },
  {
   "cell_type": "code",
   "execution_count": 10,
   "id": "3516caf5",
   "metadata": {},
   "outputs": [
    {
     "data": {
      "text/plain": [
       "2376"
      ]
     },
     "execution_count": 10,
     "metadata": {},
     "output_type": "execute_result"
    }
   ],
   "source": [
    "df[df['user_score'] == 'tbd'].shape[0]"
   ]
  },
  {
   "cell_type": "markdown",
   "id": "eaa0aa83",
   "metadata": {},
   "source": [
    "*Интересное значение **'tbd'** - аббревиатура от английского To Be Determined (будет определено) или To Be Decided (будет решено). Используется, если какая-то информация еще не определена или решение по вопросу не принято. Оставим пропуски вместо этих значений.*"
   ]
  },
  {
   "cell_type": "code",
   "execution_count": 11,
   "id": "70974175",
   "metadata": {},
   "outputs": [],
   "source": [
    "#Избавимся от значений tbd\n",
    "df.loc[df['user_score'] == 'tbd', 'user_score'] = np.nan"
   ]
  },
  {
   "cell_type": "code",
   "execution_count": 12,
   "id": "0aa7027e",
   "metadata": {
    "scrolled": true
   },
   "outputs": [
    {
     "data": {
      "text/plain": [
       "0"
      ]
     },
     "execution_count": 12,
     "metadata": {},
     "output_type": "execute_result"
    }
   ],
   "source": [
    "#Проверим\n",
    "df.query('user_score == \"tbd\"').shape[0]"
   ]
  },
  {
   "cell_type": "code",
   "execution_count": 13,
   "id": "4142ba6e",
   "metadata": {
    "scrolled": true
   },
   "outputs": [],
   "source": [
    "#Изменим тип данных на 'int'\n",
    "df.year_of_release = df.year_of_release.astype('int')\n",
    "\n",
    "#Изменим тип данных на 'float' \n",
    "df.user_score = pd.to_numeric(df.user_score, errors='coerce')"
   ]
  },
  {
   "cell_type": "code",
   "execution_count": 14,
   "id": "b6959843",
   "metadata": {},
   "outputs": [
    {
     "data": {
      "text/plain": [
       "0"
      ]
     },
     "execution_count": 14,
     "metadata": {},
     "output_type": "execute_result"
    }
   ],
   "source": [
    "#Проверим данные на явные дубликаты\n",
    "df.duplicated().sum()"
   ]
  },
  {
   "cell_type": "code",
   "execution_count": 15,
   "id": "aa4252d1",
   "metadata": {},
   "outputs": [],
   "source": [
    "#Посчитаем суммарные продажи во всех регионах, добавим новый столбец\n",
    "df['total'] = df.na_sales + df.eu_sales + df.jp_sales + df.other_sales"
   ]
  },
  {
   "cell_type": "markdown",
   "id": "2fd111ec",
   "metadata": {},
   "source": [
    "**Вывод**\n",
    "\n",
    "---\n",
    "\n",
    "*Число пропусков, допущенных сразу в трех столбцах **'critic_score', 'user_score', 'rating'** порядка 6534 шт. Для столбцов **'user_score', 'rating'** - практически 100-процентное совпадение, что подтверждает систематичноть. Возможно это ошибка при выгрузке данных. Большое число пропусков в столбце **'user_score'** также связано с ошибкой системы и с тем, что взятые для исследования данные затрагивают периоды, до пика популярности индустрии игр, поэтому данные могли в действительности отсутствовать.*\n",
    "\n",
    "\n",
    "*Удалять пропуски в столбцах **'critic_score', 'user_score', 'rating'** изначально не будем, так мы потеряем множество других данных. Пропуски занимают более 50% от данных. Заполнять пропуски медианными значениями также не будем, это может повлиять на проверку гипотез. Поэтому ближе к этому этапу почистим данные от пропусков.*\n",
    "\n",
    "\n",
    "*Дополнительно были изменены типы данных в столбцах, чтобы производить расчеты в дальнейшем анализе. В столбце **'year_of_release'** вещественные числа поменяли на целочисленные, в столбце **'user_score'** строки поменяли на вещественные числа, а также избавились от анамалий.*\n",
    "\n",
    "*Добавили столбец с глобальными продажами. Данные будут полезны для сводных таблиц и в целом исследования на последующих этапах.*\n",
    "\n",
    "--------\n",
    "*Дополнительно, можно обратиться к коллегам на предмет ошибок при выгрузке данных.* "
   ]
  },
  {
   "cell_type": "markdown",
   "id": "0f50fc90",
   "metadata": {},
   "source": [
    "## 2 этап. Исследовательский анализ данных"
   ]
  },
  {
   "cell_type": "markdown",
   "id": "e676a9b8",
   "metadata": {},
   "source": [
    "**Задачи**\n",
    "\n",
    "-----\n",
    "1. *Изучить количество игр, выпущенных в разные года, продажи по платформам, лидеров продаж.* \n",
    "2. *На основании полученной информации определить актуальный период исследования.*\n",
    "3. *В рамках актуального периода проанализировать лидирующие по продажам платформы, выделить потенциально прибыльные.*\n",
    "4. *Рассмотреть взаимосвязь продаж и отзывов пользователей, отзывов критиков.*\n",
    "5. *Посмотреть на общее распределение игр по жанрам, выделить наиболее прибыльные.*"
   ]
  },
  {
   "cell_type": "code",
   "execution_count": 16,
   "id": "4c417198",
   "metadata": {},
   "outputs": [
    {
     "data": {
      "image/png": "[encoded data removed]",
      "text/plain": [
       "<Figure size 432x288 with 1 Axes>"
      ]
     },
     "metadata": {},
     "output_type": "display_data"
    },
    {
     "data": {
      "text/html": [
       "<div>\n",
       "<style scoped>\n",
       "    .dataframe tbody tr th:only-of-type {\n",
       "        vertical-align: middle;\n",
       "    }\n",
       "\n",
       "    .dataframe tbody tr th {\n",
       "        vertical-align: top;\n",
       "    }\n",
       "\n",
       "    .dataframe thead th {\n",
       "        text-align: right;\n",
       "    }\n",
       "</style>\n",
       "<table border=\"1\" class=\"dataframe\">\n",
       "  <thead>\n",
       "    <tr style=\"text-align: right;\">\n",
       "      <th></th>\n",
       "      <th>year</th>\n",
       "      <th>qty_games</th>\n",
       "    </tr>\n",
       "  </thead>\n",
       "  <tbody>\n",
       "    <tr>\n",
       "      <th>0</th>\n",
       "      <td>2008</td>\n",
       "      <td>1427</td>\n",
       "    </tr>\n",
       "    <tr>\n",
       "      <th>1</th>\n",
       "      <td>2009</td>\n",
       "      <td>1426</td>\n",
       "    </tr>\n",
       "    <tr>\n",
       "      <th>2</th>\n",
       "      <td>2010</td>\n",
       "      <td>1255</td>\n",
       "    </tr>\n",
       "    <tr>\n",
       "      <th>3</th>\n",
       "      <td>2007</td>\n",
       "      <td>1197</td>\n",
       "    </tr>\n",
       "    <tr>\n",
       "      <th>4</th>\n",
       "      <td>2011</td>\n",
       "      <td>1136</td>\n",
       "    </tr>\n",
       "    <tr>\n",
       "      <th>5</th>\n",
       "      <td>2006</td>\n",
       "      <td>1006</td>\n",
       "    </tr>\n",
       "    <tr>\n",
       "      <th>6</th>\n",
       "      <td>2005</td>\n",
       "      <td>939</td>\n",
       "    </tr>\n",
       "    <tr>\n",
       "      <th>7</th>\n",
       "      <td>2002</td>\n",
       "      <td>829</td>\n",
       "    </tr>\n",
       "    <tr>\n",
       "      <th>8</th>\n",
       "      <td>2003</td>\n",
       "      <td>775</td>\n",
       "    </tr>\n",
       "    <tr>\n",
       "      <th>9</th>\n",
       "      <td>2004</td>\n",
       "      <td>762</td>\n",
       "    </tr>\n",
       "  </tbody>\n",
       "</table>\n",
       "</div>"
      ],
      "text/plain": [
       "   year  qty_games\n",
       "0  2008       1427\n",
       "1  2009       1426\n",
       "2  2010       1255\n",
       "3  2007       1197\n",
       "4  2011       1136\n",
       "5  2006       1006\n",
       "6  2005        939\n",
       "7  2002        829\n",
       "8  2003        775\n",
       "9  2004        762"
      ]
     },
     "execution_count": 16,
     "metadata": {},
     "output_type": "execute_result"
    }
   ],
   "source": [
    "#Перекрасим фон графиков в серый\n",
    "sns.set(style=\"darkgrid\")\n",
    "\n",
    "#Посчитаем сколько игр выпускалось в разные годы\n",
    "quantity_game_per_year = df.year_of_release.value_counts().reset_index() \\\n",
    "    .rename(columns={'index': 'year', 'year_of_release': 'qty_games'})\n",
    "\n",
    "#Посмотрим на динамику выпуска игр по годам\n",
    "quantity_game_per_year.plot(y='qty_games', x='year', style='o', alpha=0.5, grid=True)\n",
    "\n",
    "#Добавила названия графика и осей\n",
    "plt.xlabel(\"Период\")\n",
    "plt.ylabel(\"Количество игр\")\n",
    "plt.title('Изменения количества выпускаемых игр по годам')\n",
    "plt.show()\n",
    "\n",
    "quantity_game_per_year.head(10)"
   ]
  },
  {
   "cell_type": "markdown",
   "id": "e847eaa3",
   "metadata": {},
   "source": [
    "---------\n",
    "\n",
    "*Количество выпускаемых игр заметно возрасло с 2001 года, бум наблюдается в 2008-2009 годах. Примечательно: количество выпускаемых игр начало падать с 2011 года, вплоть до 2016. Для того, чтобы корректно выделить актуальный период более подробно посмотрим на данные:*\n",
    "\n",
    "- *выделим лидеров продаж среди платформ*\n",
    "- *посчитаем количество выпущенных игр и продажи этих платформ по годам*\n",
    "- *построим график, обратим внимание на взаимосвязь этих показателей*\n",
    "- *поищем закономерности в жизненном цикле платформ*\n",
    "- *определим актуальный период для исследования*"
   ]
  },
  {
   "cell_type": "code",
   "execution_count": 17,
   "id": "aa3bf0c2",
   "metadata": {},
   "outputs": [
    {
     "data": {
      "text/html": [
       "<div>\n",
       "<style scoped>\n",
       "    .dataframe tbody tr th:only-of-type {\n",
       "        vertical-align: middle;\n",
       "    }\n",
       "\n",
       "    .dataframe tbody tr th {\n",
       "        vertical-align: top;\n",
       "    }\n",
       "\n",
       "    .dataframe thead th {\n",
       "        text-align: right;\n",
       "    }\n",
       "</style>\n",
       "<table border=\"1\" class=\"dataframe\">\n",
       "  <thead>\n",
       "    <tr style=\"text-align: right;\">\n",
       "      <th></th>\n",
       "      <th>total</th>\n",
       "    </tr>\n",
       "    <tr>\n",
       "      <th>platform</th>\n",
       "      <th></th>\n",
       "    </tr>\n",
       "  </thead>\n",
       "  <tbody>\n",
       "    <tr>\n",
       "      <th>PS2</th>\n",
       "      <td>1233.56</td>\n",
       "    </tr>\n",
       "    <tr>\n",
       "      <th>X360</th>\n",
       "      <td>961.24</td>\n",
       "    </tr>\n",
       "    <tr>\n",
       "      <th>PS3</th>\n",
       "      <td>931.34</td>\n",
       "    </tr>\n",
       "    <tr>\n",
       "      <th>Wii</th>\n",
       "      <td>891.18</td>\n",
       "    </tr>\n",
       "    <tr>\n",
       "      <th>DS</th>\n",
       "      <td>802.78</td>\n",
       "    </tr>\n",
       "    <tr>\n",
       "      <th>PS</th>\n",
       "      <td>727.58</td>\n",
       "    </tr>\n",
       "    <tr>\n",
       "      <th>PS4</th>\n",
       "      <td>314.14</td>\n",
       "    </tr>\n",
       "    <tr>\n",
       "      <th>GBA</th>\n",
       "      <td>312.88</td>\n",
       "    </tr>\n",
       "    <tr>\n",
       "      <th>PSP</th>\n",
       "      <td>289.53</td>\n",
       "    </tr>\n",
       "    <tr>\n",
       "      <th>3DS</th>\n",
       "      <td>257.81</td>\n",
       "    </tr>\n",
       "  </tbody>\n",
       "</table>\n",
       "</div>"
      ],
      "text/plain": [
       "            total\n",
       "platform         \n",
       "PS2       1233.56\n",
       "X360       961.24\n",
       "PS3        931.34\n",
       "Wii        891.18\n",
       "DS         802.78\n",
       "PS         727.58\n",
       "PS4        314.14\n",
       "GBA        312.88\n",
       "PSP        289.53\n",
       "3DS        257.81"
      ]
     },
     "execution_count": 17,
     "metadata": {},
     "output_type": "execute_result"
    }
   ],
   "source": [
    "#Выделим платформы с наибольшими продажами\n",
    "max_sales_platform = df.pivot_table(index='platform', values='total', aggfunc='sum') \\\n",
    "    .sort_values(by='total', ascending=False)\n",
    "\n",
    "max_sales_platform.head(10)"
   ]
  },
  {
   "cell_type": "code",
   "execution_count": 18,
   "id": "7958cbe6",
   "metadata": {},
   "outputs": [
    {
     "data": {
      "text/plain": [
       "array(['PS2', 'X360', 'PS3', 'Wii', 'DS', 'PS', 'PS4', 'GBA', 'PSP',\n",
       "       '3DS', 'PC', 'GB', 'XB', 'NES', 'N64', 'SNES', 'GC', 'XOne',\n",
       "       '2600', 'WiiU', 'PSV', 'SAT', 'GEN', 'DC', 'SCD', 'NG', 'WS',\n",
       "       'TG16', '3DO', 'GG', 'PCFX'], dtype=object)"
      ]
     },
     "execution_count": 18,
     "metadata": {},
     "output_type": "execute_result"
    }
   ],
   "source": [
    "max_sales_platform.reset_index().platform.unique()"
   ]
  },
  {
   "cell_type": "code",
   "execution_count": 19,
   "id": "154ce213",
   "metadata": {},
   "outputs": [],
   "source": [
    "#Возьмем срез данных по первым шести платформам\n",
    "popular_platforms = df.query(\"platform in ['PS2', 'X360', 'PS3', 'Wii', 'DS', 'PS']\")"
   ]
  },
  {
   "cell_type": "code",
   "execution_count": 20,
   "id": "9145f352",
   "metadata": {},
   "outputs": [
    {
     "data": {
      "image/png": "[encoded data removed]",
      "text/plain": [
       "<Figure size 1440x360 with 1 Axes>"
      ]
     },
     "metadata": {},
     "output_type": "display_data"
    },
    {
     "data": {
      "text/plain": [
       "0.7915641281827359"
      ]
     },
     "execution_count": 20,
     "metadata": {},
     "output_type": "execute_result"
    }
   ],
   "source": [
    "#Посчитаем количество выпущенных игр и продажи этих платформ по годам\n",
    "qty_sales_platform_per_year = popular_platforms \\\n",
    "    .groupby(['platform', 'year_of_release']) \\\n",
    "    .agg({'total': 'sum', 'name': 'count'}) \\\n",
    "    .rename(columns={'total': 'total_sales', 'name': 'count_of_games'})\n",
    "\n",
    "#Построим график \n",
    "qty_sales_platform_per_year.plot(\n",
    "    style='-o', \n",
    "    figsize=(20,5), \n",
    "    grid=True, \n",
    "    alpha=0.4, \n",
    "    color=['black', 'red'], \n",
    "    title='Динамика продаж и количества игр популярных платформ по годам')\n",
    "\n",
    "plt.show()\n",
    "\n",
    "#Посмотрим на корреляцию\n",
    "qty_sales_platform_per_year['total_sales'].corr(qty_sales_platform_per_year['count_of_games'])"
   ]
  },
  {
   "cell_type": "markdown",
   "id": "2d69d93e",
   "metadata": {},
   "source": [
    "----\n",
    "*По количесту игр мы выделили **6 лидеров продаж** среди платформ. В среднем, пик продаж каждой из платформ приходится на пик по количеству выпущенных ими игр, что подтверждает рассчитанный коэффициент Пирсона.*"
   ]
  },
  {
   "cell_type": "code",
   "execution_count": 21,
   "id": "75493e0d",
   "metadata": {},
   "outputs": [
    {
     "data": {
      "image/png": "[encoded data removed]",
      "text/plain": [
       "<Figure size 576x288 with 1 Axes>"
      ]
     },
     "metadata": {},
     "output_type": "display_data"
    },
    {
     "data": {
      "image/png": "[encoded data removed]",
      "text/plain": [
       "<Figure size 1296x432 with 1 Axes>"
      ]
     },
     "metadata": {},
     "output_type": "display_data"
    }
   ],
   "source": [
    "#Построим график 'Динамика продаж популярных платформ по годам'\n",
    "(popular_platforms\n",
    " .pivot_table(index=['year_of_release'], columns='platform', values='total', aggfunc=['sum']) \\\n",
    " .plot(\n",
    "     grid=True, \n",
    "     alpha=0.9,\n",
    "     figsize=(8,4),\n",
    "     title='Динамика продаж популярных платформ по годам'))\n",
    "\n",
    "#Добавила название осей\n",
    "plt.xlabel(\"Период\")\n",
    "plt.ylabel(\"Объем продаж\")\n",
    "plt.show()\n",
    "\n",
    "#Построим график 'Динамика продаж всех платформ по годам'\n",
    "(df\n",
    " .pivot_table(index=['year_of_release'], columns='platform', values='total', aggfunc= 'sum') \\\n",
    " .plot(\n",
    "     grid=True, \n",
    "     alpha=0.9,\n",
    "     figsize = (18, 6),\n",
    "     title='Динамика продаж всех платформ по годам')\n",
    ")\n",
    "#Добавила название осей\n",
    "plt.xlabel(\"Период\")\n",
    "plt.ylabel(\"Объем продаж\")\n",
    "plt.show()"
   ]
  },
  {
   "cell_type": "markdown",
   "id": "0611195a",
   "metadata": {},
   "source": [
    "---\n",
    "\n",
    "*На графике 'Динамика продаж популярных платформ по годам' мы видим, что каждая из платформ имеет выраженный цикл, в среднем 10 лет. Выбирая актуальный период для исследования, необходимо учитывать жизненный цикл платформ. Наиболее информативный для нас период с **2013 - 2016 год**, см график 'Динамика продаж всех платформ по годам'. Три из самых популярных платформ на этом отрезке имеют нисходящий тренд. Остальные на отрезке 2015-2016 после пика резко идут вниз, хотя продажи этих платформ росли. Это может происходить из-за того, что данные за 2016 год неполные. Предположительно, эти платформы только в начале пути, у таких - тренд будет восходящим.*"
   ]
  },
  {
   "cell_type": "code",
   "execution_count": 22,
   "id": "4a421cb6",
   "metadata": {},
   "outputs": [],
   "source": [
    "#Возьмем срез данных за период 2013-2016\n",
    "df_actual = df.query('year_of_release >= 2013')"
   ]
  },
  {
   "cell_type": "code",
   "execution_count": 23,
   "id": "d4199345",
   "metadata": {},
   "outputs": [
    {
     "data": {
      "text/html": [
       "<div>\n",
       "<style scoped>\n",
       "    .dataframe tbody tr th:only-of-type {\n",
       "        vertical-align: middle;\n",
       "    }\n",
       "\n",
       "    .dataframe tbody tr th {\n",
       "        vertical-align: top;\n",
       "    }\n",
       "\n",
       "    .dataframe thead th {\n",
       "        text-align: right;\n",
       "    }\n",
       "</style>\n",
       "<table border=\"1\" class=\"dataframe\">\n",
       "  <thead>\n",
       "    <tr style=\"text-align: right;\">\n",
       "      <th></th>\n",
       "      <th>total</th>\n",
       "    </tr>\n",
       "    <tr>\n",
       "      <th>platform</th>\n",
       "      <th></th>\n",
       "    </tr>\n",
       "  </thead>\n",
       "  <tbody>\n",
       "    <tr>\n",
       "      <th>PS4</th>\n",
       "      <td>314.14</td>\n",
       "    </tr>\n",
       "    <tr>\n",
       "      <th>PS3</th>\n",
       "      <td>181.43</td>\n",
       "    </tr>\n",
       "    <tr>\n",
       "      <th>XOne</th>\n",
       "      <td>159.32</td>\n",
       "    </tr>\n",
       "    <tr>\n",
       "      <th>3DS</th>\n",
       "      <td>143.25</td>\n",
       "    </tr>\n",
       "    <tr>\n",
       "      <th>X360</th>\n",
       "      <td>136.80</td>\n",
       "    </tr>\n",
       "    <tr>\n",
       "      <th>WiiU</th>\n",
       "      <td>64.63</td>\n",
       "    </tr>\n",
       "    <tr>\n",
       "      <th>PC</th>\n",
       "      <td>39.43</td>\n",
       "    </tr>\n",
       "    <tr>\n",
       "      <th>PSV</th>\n",
       "      <td>32.99</td>\n",
       "    </tr>\n",
       "    <tr>\n",
       "      <th>Wii</th>\n",
       "      <td>13.66</td>\n",
       "    </tr>\n",
       "    <tr>\n",
       "      <th>PSP</th>\n",
       "      <td>3.50</td>\n",
       "    </tr>\n",
       "    <tr>\n",
       "      <th>DS</th>\n",
       "      <td>1.54</td>\n",
       "    </tr>\n",
       "  </tbody>\n",
       "</table>\n",
       "</div>"
      ],
      "text/plain": [
       "           total\n",
       "platform        \n",
       "PS4       314.14\n",
       "PS3       181.43\n",
       "XOne      159.32\n",
       "3DS       143.25\n",
       "X360      136.80\n",
       "WiiU       64.63\n",
       "PC         39.43\n",
       "PSV        32.99\n",
       "Wii        13.66\n",
       "PSP         3.50\n",
       "DS          1.54"
      ]
     },
     "execution_count": 23,
     "metadata": {},
     "output_type": "execute_result"
    }
   ],
   "source": [
    "#Платформы лидирующие по продажам\n",
    "df_actual.pivot_table(index='platform', values='total', aggfunc='sum').sort_values(by='total', ascending=False)"
   ]
  },
  {
   "cell_type": "code",
   "execution_count": 24,
   "id": "c012debc",
   "metadata": {},
   "outputs": [
    {
     "data": {
      "image/png": "[encoded data removed]",
      "text/plain": [
       "<Figure size 432x288 with 1 Axes>"
      ]
     },
     "metadata": {},
     "output_type": "display_data"
    }
   ],
   "source": [
    "#Посмотрим на распределение продаж лидиющих платформ\n",
    "lead_platforms = df_actual.query(\"platform in ['PS4', 'PS3', 'XOne', '3DS', 'X360']\")\n",
    "lead_platforms.pivot_table(index=['year_of_release'], columns='platform', values='total', aggfunc=['sum']) \\\n",
    " .plot(\n",
    "     grid=True, \n",
    "     alpha=0.7,\n",
    "     figsize = (6, 4), title='Динамика продаж лидирующих пла/тформ')\n",
    "\n",
    "plt.xticks(range(2013, 2017, 1))\n",
    "#Добавила название осей\n",
    "plt.xlabel(\"Период\")\n",
    "plt.ylabel(\"Объем продаж\")\n",
    "plt.show()"
   ]
  },
  {
   "cell_type": "markdown",
   "id": "23c2c7fb",
   "metadata": {},
   "source": [
    "------\n",
    "*PS4, PS3, XOne, 3DS, X360 - платформы, лидирующие по продажам. Из них PS3, X360, 3DS имеют нисходящую тенденцию, **PS4, XOne** - считаю потенциально прибыльными.*"
   ]
  },
  {
   "cell_type": "code",
   "execution_count": 25,
   "id": "9d73202c",
   "metadata": {},
   "outputs": [
    {
     "data": {
      "image/png": "[encoded data removed]",
      "text/plain": [
       "<Figure size 864x432 with 1 Axes>"
      ]
     },
     "metadata": {},
     "output_type": "display_data"
    }
   ],
   "source": [
    "#Построим диаграмму размаха по глобальным продажам игр в разбивке по платформам\n",
    "plt.figure(figsize=(12,6))\n",
    "\n",
    "sns.boxplot(x='platform', y='total', data=df_actual)\n",
    "plt.ylim(0,1)\n",
    "\n",
    "plt.title('Диаграмма размаха по продажам игр в разбивке по платформам')\n",
    "#Добавила название осей\n",
    "plt.xlabel(\"Игровые платформы\")\n",
    "plt.ylabel(\"Объем продаж\")\n",
    "plt.show()"
   ]
  },
  {
   "cell_type": "code",
   "execution_count": 26,
   "id": "b3bc09cf",
   "metadata": {},
   "outputs": [
    {
     "data": {
      "text/plain": [
       "array(['Call of Duty: Black Ops 3', 'Grand Theft Auto V'], dtype=object)"
      ]
     },
     "execution_count": 26,
     "metadata": {},
     "output_type": "execute_result"
    }
   ],
   "source": [
    "#По выбросам можно посмотреть культовые игры, которые принесли мах доход платформе\n",
    "df.query('platform == \"PS4\" and total > 9').sort_values(by='total', ascending=False).name.unique()"
   ]
  },
  {
   "cell_type": "markdown",
   "id": "556c5f87",
   "metadata": {},
   "source": [
    "---\n",
    "\n",
    "*Построив диаграмму размаха по продажам для каждой платформы, мы видим какой разброс значений по глобальным продажам каждой из игр отдельной платформы за период с 2013 г. по 2016 г. включительно. По диаграмме видно, что у многих платформ есть существенные выбросы. По таким выбросам можно отследить культовые игры платформ, которые принесли мах результаты по продажам. Примечательно, **медиана более крупных платформ не превышвет 300 тыс**.* \n",
    "\n",
    "---"
   ]
  },
  {
   "cell_type": "markdown",
   "id": "6096a8ee",
   "metadata": {},
   "source": [
    "*Выделим одну популярную платформу. Критериями для отбора популярной платформы будут: высокие оценки пользователей и критиков, безусловно и продажи. Далее посмотрим, как влияют на продажи оценки пользователей и критиков. Построим графики и посчитаем корреляцию.*"
   ]
  },
  {
   "cell_type": "code",
   "execution_count": 27,
   "id": "42279f11",
   "metadata": {},
   "outputs": [
    {
     "data": {
      "text/html": [
       "<div>\n",
       "<style scoped>\n",
       "    .dataframe tbody tr th:only-of-type {\n",
       "        vertical-align: middle;\n",
       "    }\n",
       "\n",
       "    .dataframe tbody tr th {\n",
       "        vertical-align: top;\n",
       "    }\n",
       "\n",
       "    .dataframe thead th {\n",
       "        text-align: right;\n",
       "    }\n",
       "</style>\n",
       "<table border=\"1\" class=\"dataframe\">\n",
       "  <thead>\n",
       "    <tr style=\"text-align: right;\">\n",
       "      <th></th>\n",
       "      <th>user_score</th>\n",
       "      <th>critic_score</th>\n",
       "      <th>total</th>\n",
       "    </tr>\n",
       "    <tr>\n",
       "      <th>platform</th>\n",
       "      <th></th>\n",
       "      <th></th>\n",
       "      <th></th>\n",
       "    </tr>\n",
       "  </thead>\n",
       "  <tbody>\n",
       "    <tr>\n",
       "      <th>PS4</th>\n",
       "      <td>7.00</td>\n",
       "      <td>73.0</td>\n",
       "      <td>314.14</td>\n",
       "    </tr>\n",
       "    <tr>\n",
       "      <th>PS3</th>\n",
       "      <td>6.90</td>\n",
       "      <td>73.0</td>\n",
       "      <td>181.43</td>\n",
       "    </tr>\n",
       "    <tr>\n",
       "      <th>XOne</th>\n",
       "      <td>6.80</td>\n",
       "      <td>76.0</td>\n",
       "      <td>159.32</td>\n",
       "    </tr>\n",
       "    <tr>\n",
       "      <th>3DS</th>\n",
       "      <td>7.30</td>\n",
       "      <td>69.0</td>\n",
       "      <td>143.25</td>\n",
       "    </tr>\n",
       "    <tr>\n",
       "      <th>X360</th>\n",
       "      <td>6.20</td>\n",
       "      <td>74.0</td>\n",
       "      <td>136.80</td>\n",
       "    </tr>\n",
       "    <tr>\n",
       "      <th>WiiU</th>\n",
       "      <td>7.30</td>\n",
       "      <td>73.5</td>\n",
       "      <td>64.63</td>\n",
       "    </tr>\n",
       "    <tr>\n",
       "      <th>PC</th>\n",
       "      <td>6.80</td>\n",
       "      <td>77.0</td>\n",
       "      <td>39.43</td>\n",
       "    </tr>\n",
       "    <tr>\n",
       "      <th>PSV</th>\n",
       "      <td>7.80</td>\n",
       "      <td>72.0</td>\n",
       "      <td>32.99</td>\n",
       "    </tr>\n",
       "    <tr>\n",
       "      <th>Wii</th>\n",
       "      <td>4.30</td>\n",
       "      <td>NaN</td>\n",
       "      <td>13.66</td>\n",
       "    </tr>\n",
       "    <tr>\n",
       "      <th>PSP</th>\n",
       "      <td>5.85</td>\n",
       "      <td>74.0</td>\n",
       "      <td>3.50</td>\n",
       "    </tr>\n",
       "    <tr>\n",
       "      <th>DS</th>\n",
       "      <td>4.80</td>\n",
       "      <td>NaN</td>\n",
       "      <td>1.54</td>\n",
       "    </tr>\n",
       "  </tbody>\n",
       "</table>\n",
       "</div>"
      ],
      "text/plain": [
       "          user_score  critic_score   total\n",
       "platform                                  \n",
       "PS4             7.00          73.0  314.14\n",
       "PS3             6.90          73.0  181.43\n",
       "XOne            6.80          76.0  159.32\n",
       "3DS             7.30          69.0  143.25\n",
       "X360            6.20          74.0  136.80\n",
       "WiiU            7.30          73.5   64.63\n",
       "PC              6.80          77.0   39.43\n",
       "PSV             7.80          72.0   32.99\n",
       "Wii             4.30           NaN   13.66\n",
       "PSP             5.85          74.0    3.50\n",
       "DS              4.80           NaN    1.54"
      ]
     },
     "execution_count": 27,
     "metadata": {},
     "output_type": "execute_result"
    }
   ],
   "source": [
    "(df_actual\n",
    " .groupby('platform')\n",
    " .agg({'user_score':'median', 'critic_score': 'median', 'total':'sum'}) \\\n",
    " .sort_values(by=['total','critic_score','user_score'], ascending=False)\n",
    ")"
   ]
  },
  {
   "cell_type": "markdown",
   "id": "6bf3dd74",
   "metadata": {},
   "source": [
    "*Платформа **'PS4'** имеет один из самых высоких рейтингов среди пользователей и критиков одновременно, а также лидирует по продажам игр. Посмотрим, как влияют эти оценки на продажи данной платформы.*\n",
    "\n",
    "---\n",
    "*Из-за пропусков в данных (столбцы 'user_score', 'critic_score'), коэфициент Пирсона может быть вычислен некорректно, поэтому избавимся от строк с пропусками.*"
   ]
  },
  {
   "cell_type": "code",
   "execution_count": 28,
   "id": "aa9571b8",
   "metadata": {},
   "outputs": [],
   "source": [
    "#Избавимся от пропусков\n",
    "df_actual_without_na = df_actual.dropna()\n",
    "#Возьмем срез данных только по популярной платформе\n",
    "PS4_platform = df_actual_without_na.query('platform == \"PS4\"')"
   ]
  },
  {
   "cell_type": "code",
   "execution_count": 29,
   "id": "fb466ad2",
   "metadata": {},
   "outputs": [
    {
     "data": {
      "text/plain": [
       "-0.03088781296873357"
      ]
     },
     "execution_count": 29,
     "metadata": {},
     "output_type": "execute_result"
    },
    {
     "data": {
      "image/png": "[encoded data removed]",
      "text/plain": [
       "<Figure size 432x288 with 1 Axes>"
      ]
     },
     "metadata": {},
     "output_type": "display_data"
    }
   ],
   "source": [
    "#Построим диаграмму рассеяния продажи-отзывы пользователей\n",
    "PS4_platform.plot(\n",
    "    kind='scatter', \n",
    "    y='total', \n",
    "    x='user_score', \n",
    "    color=\"black\", \n",
    "    style = 'o', \n",
    "    alpha = 0.4, \n",
    "    title='Влияние оценок пользователей на продажи')\n",
    "\n",
    "#Добавила название осей\n",
    "plt.xlabel(\"Оценки пользователей\")\n",
    "plt.ylabel(\"Объем продаж\")\n",
    "\n",
    "#Посмотрим на корреляцию продажи-отзывы пользователей\n",
    "PS4_platform['total'].corr(PS4_platform['user_score'])"
   ]
  },
  {
   "cell_type": "code",
   "execution_count": 30,
   "id": "a883821d",
   "metadata": {},
   "outputs": [
    {
     "data": {
      "text/plain": [
       "0.40357291073577817"
      ]
     },
     "execution_count": 30,
     "metadata": {},
     "output_type": "execute_result"
    },
    {
     "data": {
      "image/png": "[encoded data removed]",
      "text/plain": [
       "<Figure size 432x288 with 1 Axes>"
      ]
     },
     "metadata": {},
     "output_type": "display_data"
    }
   ],
   "source": [
    "#Построим диаграмму рассеяния продажи-отзывы критиков\n",
    "PS4_platform.plot(\n",
    "    kind='scatter', \n",
    "    y='total', \n",
    "    x='critic_score', \n",
    "    color=\"black\", \n",
    "    style = 'o', \n",
    "    alpha = 0.4, \n",
    "    title='Влияние оценок критиков на продажи')\n",
    "\n",
    "#Добавила название осей\n",
    "plt.xlabel(\"Оценки критиков\")\n",
    "plt.ylabel(\"Объем продаж\")\n",
    "\n",
    "#Посмотрим на корреляцию продажи-отзывы критиков\n",
    "PS4_platform['total'].corr(PS4_platform['critic_score'])"
   ]
  },
  {
   "cell_type": "markdown",
   "id": "a6ebdf0a",
   "metadata": {},
   "source": [
    "-----\n",
    "\n",
    "*Связь между оценками критиков и продажами платформы PS4 **прослеживается, но выражена незначительно**. Связь между оценками пользователей и продажами отсутствует, значения коэффициента Пирсона минимальны.*\n",
    "\n",
    "\n",
    "-----"
   ]
  },
  {
   "cell_type": "markdown",
   "id": "a34f8856",
   "metadata": {},
   "source": [
    "*Посмотрим как обстоят дела с остальными платформами. Посчитаем корреляцию продажи - оценки пользователей и продажи - оценки критиков по всем платформам. Для удобства занесем данные в таблицу.*"
   ]
  },
  {
   "cell_type": "code",
   "execution_count": 31,
   "id": "e4e9e6ae",
   "metadata": {},
   "outputs": [
    {
     "data": {
      "text/plain": [
       "array(['PS3', 'X360', 'PS4', 'WiiU', 'XOne', '3DS', 'PC', 'PSV', 'PSP'],\n",
       "      dtype=object)"
      ]
     },
     "execution_count": 31,
     "metadata": {},
     "output_type": "execute_result"
    }
   ],
   "source": [
    "#Список платформ\n",
    "df_actual_without_na.platform.unique()"
   ]
  },
  {
   "cell_type": "code",
   "execution_count": 32,
   "id": "11cc540e",
   "metadata": {},
   "outputs": [
    {
     "data": {
      "text/plain": [
       "([0.026, -0.0, -0.031, 0.409, -0.076, 0.273, -0.085, 0.265],\n",
       " [0.334, 0.355, 0.404, 0.38, 0.41, 0.339, 0.177, 0.254])"
      ]
     },
     "execution_count": 32,
     "metadata": {},
     "output_type": "execute_result"
    }
   ],
   "source": [
    "#Соберем данные по всем платформам, кроме PSP (там всего одна строка)\n",
    "platform_list = ['PS3', 'X360', 'PS4', 'WiiU', 'XOne', '3DS', 'PC', 'PSV']\n",
    "user_corr_list = []\n",
    "critic_corr_list = []\n",
    "\n",
    "for i in platform_list:\n",
    "    unique_platform = df_actual_without_na[df_actual_without_na.platform == i]\n",
    "    user_corr = round(unique_platform['total'].corr(unique_platform['user_score']), 3)\n",
    "    user_corr_list.append(user_corr)\n",
    "    critic_corr = round(unique_platform['total'].corr(unique_platform['critic_score']), 3)\n",
    "    critic_corr_list.append(critic_corr)\n",
    "        \n",
    "#Посмотрим, что получилось\n",
    "user_corr_list, critic_corr_list"
   ]
  },
  {
   "cell_type": "code",
   "execution_count": 33,
   "id": "13849162",
   "metadata": {},
   "outputs": [
    {
     "data": {
      "text/html": [
       "<div>\n",
       "<style scoped>\n",
       "    .dataframe tbody tr th:only-of-type {\n",
       "        vertical-align: middle;\n",
       "    }\n",
       "\n",
       "    .dataframe tbody tr th {\n",
       "        vertical-align: top;\n",
       "    }\n",
       "\n",
       "    .dataframe thead th {\n",
       "        text-align: right;\n",
       "    }\n",
       "</style>\n",
       "<table border=\"1\" class=\"dataframe\">\n",
       "  <thead>\n",
       "    <tr style=\"text-align: right;\">\n",
       "      <th></th>\n",
       "      <th>platform_name</th>\n",
       "      <th>user_sales_corr</th>\n",
       "      <th>critic_sales_corr</th>\n",
       "    </tr>\n",
       "  </thead>\n",
       "  <tbody>\n",
       "    <tr>\n",
       "      <th>0</th>\n",
       "      <td>PS3</td>\n",
       "      <td>0.026</td>\n",
       "      <td>0.334</td>\n",
       "    </tr>\n",
       "    <tr>\n",
       "      <th>1</th>\n",
       "      <td>X360</td>\n",
       "      <td>-0.000</td>\n",
       "      <td>0.355</td>\n",
       "    </tr>\n",
       "    <tr>\n",
       "      <th>2</th>\n",
       "      <td>PS4</td>\n",
       "      <td>-0.031</td>\n",
       "      <td>0.404</td>\n",
       "    </tr>\n",
       "    <tr>\n",
       "      <th>3</th>\n",
       "      <td>WiiU</td>\n",
       "      <td>0.409</td>\n",
       "      <td>0.380</td>\n",
       "    </tr>\n",
       "    <tr>\n",
       "      <th>4</th>\n",
       "      <td>XOne</td>\n",
       "      <td>-0.076</td>\n",
       "      <td>0.410</td>\n",
       "    </tr>\n",
       "    <tr>\n",
       "      <th>5</th>\n",
       "      <td>3DS</td>\n",
       "      <td>0.273</td>\n",
       "      <td>0.339</td>\n",
       "    </tr>\n",
       "    <tr>\n",
       "      <th>6</th>\n",
       "      <td>PC</td>\n",
       "      <td>-0.085</td>\n",
       "      <td>0.177</td>\n",
       "    </tr>\n",
       "    <tr>\n",
       "      <th>7</th>\n",
       "      <td>PSV</td>\n",
       "      <td>0.265</td>\n",
       "      <td>0.254</td>\n",
       "    </tr>\n",
       "  </tbody>\n",
       "</table>\n",
       "</div>"
      ],
      "text/plain": [
       "  platform_name  user_sales_corr  critic_sales_corr\n",
       "0           PS3            0.026              0.334\n",
       "1          X360           -0.000              0.355\n",
       "2           PS4           -0.031              0.404\n",
       "3          WiiU            0.409              0.380\n",
       "4          XOne           -0.076              0.410\n",
       "5           3DS            0.273              0.339\n",
       "6            PC           -0.085              0.177\n",
       "7           PSV            0.265              0.254"
      ]
     },
     "execution_count": 33,
     "metadata": {},
     "output_type": "execute_result"
    }
   ],
   "source": [
    "#Пропуски заполним нулями\n",
    "platform_sales_score_corr = pd.DataFrame(\n",
    "    {\n",
    "        'platform_name': ['PS3', 'X360', 'PS4', 'WiiU', 'XOne', '3DS', 'PC', 'PSV'],\n",
    "        'user_sales_corr': [0.026, -0.0, -0.031, 0.409, -0.076, 0.273, -0.085, 0.265],\n",
    "        'critic_sales_corr': [0.334, 0.355, 0.404, 0.38, 0.41, 0.339, 0.177, 0.254]\n",
    "    }\n",
    ")\n",
    "\n",
    "#Посмотрим что получилось\n",
    "platform_sales_score_corr"
   ]
  },
  {
   "cell_type": "markdown",
   "id": "6d89cb0d",
   "metadata": {},
   "source": [
    "---\n",
    " \n",
    "*Связи между оценками критиков и продажами прослеживаются у всех платформ. Коэффициента Пирсона принимает значения от 0.18 - 0.41. Связь между оценками пользователей и продажами отсутствует в большинстве случаев, однако у некоторых платформ связь тоже есть - WiiU, PSV, 3DS.*\n",
    "\n",
    "-----"
   ]
  },
  {
   "cell_type": "markdown",
   "id": "186dc679",
   "metadata": {},
   "source": [
    "*Построим сводную таблицу по жанрам. Посмотрим на распределение продаж и на количество игр для соответствующих жанров.*"
   ]
  },
  {
   "cell_type": "code",
   "execution_count": 34,
   "id": "a24b2b4c",
   "metadata": {},
   "outputs": [
    {
     "data": {
      "text/html": [
       "<style  type=\"text/css\" >\n",
       "#T_0b3e9_row0_col0{\n",
       "            background-color:  #85a8fc;\n",
       "            color:  #000000;\n",
       "        }#T_0b3e9_row0_col1{\n",
       "            background-color:  #f6a586;\n",
       "            color:  #000000;\n",
       "        }#T_0b3e9_row0_col2,#T_0b3e9_row6_col0,#T_0b3e9_row6_col1{\n",
       "            background-color:  #b40426;\n",
       "            color:  #f1f1f1;\n",
       "        }#T_0b3e9_row1_col0{\n",
       "            background-color:  #92b4fe;\n",
       "            color:  #000000;\n",
       "        }#T_0b3e9_row1_col1,#T_0b3e9_row2_col2{\n",
       "            background-color:  #d3dbe7;\n",
       "            color:  #000000;\n",
       "        }#T_0b3e9_row1_col2{\n",
       "            background-color:  #dddcdc;\n",
       "            color:  #000000;\n",
       "        }#T_0b3e9_row2_col0{\n",
       "            background-color:  #516ddb;\n",
       "            color:  #000000;\n",
       "        }#T_0b3e9_row2_col1{\n",
       "            background-color:  #6180e9;\n",
       "            color:  #000000;\n",
       "        }#T_0b3e9_row3_col0{\n",
       "            background-color:  #b5cdfa;\n",
       "            color:  #000000;\n",
       "        }#T_0b3e9_row3_col1{\n",
       "            background-color:  #cedaeb;\n",
       "            color:  #000000;\n",
       "        }#T_0b3e9_row3_col2,#T_0b3e9_row4_col2{\n",
       "            background-color:  #84a7fc;\n",
       "            color:  #000000;\n",
       "        }#T_0b3e9_row4_col0{\n",
       "            background-color:  #5470de;\n",
       "            color:  #000000;\n",
       "        }#T_0b3e9_row4_col1{\n",
       "            background-color:  #5977e3;\n",
       "            color:  #000000;\n",
       "        }#T_0b3e9_row5_col0{\n",
       "            background-color:  #5673e0;\n",
       "            color:  #000000;\n",
       "        }#T_0b3e9_row5_col1{\n",
       "            background-color:  #5e7de7;\n",
       "            color:  #000000;\n",
       "        }#T_0b3e9_row5_col2{\n",
       "            background-color:  #80a3fa;\n",
       "            color:  #000000;\n",
       "        }#T_0b3e9_row6_col2{\n",
       "            background-color:  #779af7;\n",
       "            color:  #000000;\n",
       "        }#T_0b3e9_row7_col0{\n",
       "            background-color:  #4c66d6;\n",
       "            color:  #000000;\n",
       "        }#T_0b3e9_row7_col1{\n",
       "            background-color:  #4b64d5;\n",
       "            color:  #f1f1f1;\n",
       "        }#T_0b3e9_row7_col2,#T_0b3e9_row8_col2{\n",
       "            background-color:  #6f92f3;\n",
       "            color:  #000000;\n",
       "        }#T_0b3e9_row8_col0,#T_0b3e9_row8_col1{\n",
       "            background-color:  #7699f6;\n",
       "            color:  #000000;\n",
       "        }#T_0b3e9_row9_col0{\n",
       "            background-color:  #4a63d3;\n",
       "            color:  #f1f1f1;\n",
       "        }#T_0b3e9_row9_col1{\n",
       "            background-color:  #4055c8;\n",
       "            color:  #f1f1f1;\n",
       "        }#T_0b3e9_row9_col2{\n",
       "            background-color:  #5f7fe8;\n",
       "            color:  #000000;\n",
       "        }#T_0b3e9_row10_col0,#T_0b3e9_row10_col1,#T_0b3e9_row11_col2{\n",
       "            background-color:  #3b4cc0;\n",
       "            color:  #f1f1f1;\n",
       "        }#T_0b3e9_row10_col2{\n",
       "            background-color:  #506bda;\n",
       "            color:  #000000;\n",
       "        }#T_0b3e9_row11_col0{\n",
       "            background-color:  #9fbfff;\n",
       "            color:  #000000;\n",
       "        }#T_0b3e9_row11_col1{\n",
       "            background-color:  #4e68d8;\n",
       "            color:  #000000;\n",
       "        }</style><table id=\"T_0b3e9_\" ><thead>    <tr>        <th class=\"blank level0\" ></th>        <th class=\"col_heading level0 col0\" >game_qty</th>        <th class=\"col_heading level0 col1\" >total_sales</th>        <th class=\"col_heading level0 col2\" >median_sale</th>    </tr>    <tr>        <th class=\"index_name level0\" >genre</th>        <th class=\"blank\" ></th>        <th class=\"blank\" ></th>        <th class=\"blank\" ></th>    </tr></thead><tbody>\n",
       "                <tr>\n",
       "                        <th id=\"T_0b3e9_level0_row0\" class=\"row_heading level0 row0\" >Shooter</th>\n",
       "                        <td id=\"T_0b3e9_row0_col0\" class=\"data row0 col0\" >187</td>\n",
       "                        <td id=\"T_0b3e9_row0_col1\" class=\"data row0 col1\" >232.980000</td>\n",
       "                        <td id=\"T_0b3e9_row0_col2\" class=\"data row0 col2\" >0.450000</td>\n",
       "            </tr>\n",
       "            <tr>\n",
       "                        <th id=\"T_0b3e9_level0_row1\" class=\"row_heading level0 row1\" >Sports</th>\n",
       "                        <td id=\"T_0b3e9_row1_col0\" class=\"data row1 col0\" >214</td>\n",
       "                        <td id=\"T_0b3e9_row1_col1\" class=\"data row1 col1\" >150.650000</td>\n",
       "                        <td id=\"T_0b3e9_row1_col2\" class=\"data row1 col2\" >0.240000</td>\n",
       "            </tr>\n",
       "            <tr>\n",
       "                        <th id=\"T_0b3e9_level0_row2\" class=\"row_heading level0 row2\" >Platform</th>\n",
       "                        <td id=\"T_0b3e9_row2_col0\" class=\"data row2 col0\" >74</td>\n",
       "                        <td id=\"T_0b3e9_row2_col1\" class=\"data row2 col1\" >42.630000</td>\n",
       "                        <td id=\"T_0b3e9_row2_col2\" class=\"data row2 col2\" >0.225000</td>\n",
       "            </tr>\n",
       "            <tr>\n",
       "                        <th id=\"T_0b3e9_level0_row3\" class=\"row_heading level0 row3\" >Role-Playing</th>\n",
       "                        <td id=\"T_0b3e9_row3_col0\" class=\"data row3 col0\" >292</td>\n",
       "                        <td id=\"T_0b3e9_row3_col1\" class=\"data row3 col1\" >145.890000</td>\n",
       "                        <td id=\"T_0b3e9_row3_col2\" class=\"data row3 col2\" >0.125000</td>\n",
       "            </tr>\n",
       "            <tr>\n",
       "                        <th id=\"T_0b3e9_level0_row4\" class=\"row_heading level0 row4\" >Fighting</th>\n",
       "                        <td id=\"T_0b3e9_row4_col0\" class=\"data row4 col0\" >80</td>\n",
       "                        <td id=\"T_0b3e9_row4_col1\" class=\"data row4 col1\" >35.310000</td>\n",
       "                        <td id=\"T_0b3e9_row4_col2\" class=\"data row4 col2\" >0.125000</td>\n",
       "            </tr>\n",
       "            <tr>\n",
       "                        <th id=\"T_0b3e9_level0_row5\" class=\"row_heading level0 row5\" >Racing</th>\n",
       "                        <td id=\"T_0b3e9_row5_col0\" class=\"data row5 col0\" >85</td>\n",
       "                        <td id=\"T_0b3e9_row5_col1\" class=\"data row5 col1\" >39.890000</td>\n",
       "                        <td id=\"T_0b3e9_row5_col2\" class=\"data row5 col2\" >0.120000</td>\n",
       "            </tr>\n",
       "            <tr>\n",
       "                        <th id=\"T_0b3e9_level0_row6\" class=\"row_heading level0 row6\" >Action</th>\n",
       "                        <td id=\"T_0b3e9_row6_col0\" class=\"data row6 col0\" >766</td>\n",
       "                        <td id=\"T_0b3e9_row6_col1\" class=\"data row6 col1\" >321.870000</td>\n",
       "                        <td id=\"T_0b3e9_row6_col2\" class=\"data row6 col2\" >0.110000</td>\n",
       "            </tr>\n",
       "            <tr>\n",
       "                        <th id=\"T_0b3e9_level0_row7\" class=\"row_heading level0 row7\" >Simulation</th>\n",
       "                        <td id=\"T_0b3e9_row7_col0\" class=\"data row7 col0\" >62</td>\n",
       "                        <td id=\"T_0b3e9_row7_col1\" class=\"data row7 col1\" >21.760000</td>\n",
       "                        <td id=\"T_0b3e9_row7_col2\" class=\"data row7 col2\" >0.100000</td>\n",
       "            </tr>\n",
       "            <tr>\n",
       "                        <th id=\"T_0b3e9_level0_row8\" class=\"row_heading level0 row8\" >Misc</th>\n",
       "                        <td id=\"T_0b3e9_row8_col0\" class=\"data row8 col0\" >155</td>\n",
       "                        <td id=\"T_0b3e9_row8_col1\" class=\"data row8 col1\" >62.820000</td>\n",
       "                        <td id=\"T_0b3e9_row8_col2\" class=\"data row8 col2\" >0.100000</td>\n",
       "            </tr>\n",
       "            <tr>\n",
       "                        <th id=\"T_0b3e9_level0_row9\" class=\"row_heading level0 row9\" >Strategy</th>\n",
       "                        <td id=\"T_0b3e9_row9_col0\" class=\"data row9 col0\" >56</td>\n",
       "                        <td id=\"T_0b3e9_row9_col1\" class=\"data row9 col1\" >10.080000</td>\n",
       "                        <td id=\"T_0b3e9_row9_col2\" class=\"data row9 col2\" >0.080000</td>\n",
       "            </tr>\n",
       "            <tr>\n",
       "                        <th id=\"T_0b3e9_level0_row10\" class=\"row_heading level0 row10\" >Puzzle</th>\n",
       "                        <td id=\"T_0b3e9_row10_col0\" class=\"data row10 col0\" >17</td>\n",
       "                        <td id=\"T_0b3e9_row10_col1\" class=\"data row10 col1\" >3.170000</td>\n",
       "                        <td id=\"T_0b3e9_row10_col2\" class=\"data row10 col2\" >0.060000</td>\n",
       "            </tr>\n",
       "            <tr>\n",
       "                        <th id=\"T_0b3e9_level0_row11\" class=\"row_heading level0 row11\" >Adventure</th>\n",
       "                        <td id=\"T_0b3e9_row11_col0\" class=\"data row11 col0\" >245</td>\n",
       "                        <td id=\"T_0b3e9_row11_col1\" class=\"data row11 col1\" >23.640000</td>\n",
       "                        <td id=\"T_0b3e9_row11_col2\" class=\"data row11 col2\" >0.030000</td>\n",
       "            </tr>\n",
       "    </tbody></table>"
      ],
      "text/plain": [
       "<pandas.io.formats.style.Styler at 0x7fbd474c07f0>"
      ]
     },
     "execution_count": 34,
     "metadata": {},
     "output_type": "execute_result"
    }
   ],
   "source": [
    "game_genre = df_actual.pivot_table(index='genre', values='total', aggfunc=['count', 'sum', 'median']) #добавила медиану в расчеты\n",
    "game_genre.columns = ['game_qty', 'total_sales', 'median_sale']\n",
    "\n",
    "game_genre.sort_values(by='median_sale', ascending=False).style.background_gradient('coolwarm') #сортировка по медиане"
   ]
  },
  {
   "cell_type": "markdown",
   "id": "dc68a10c",
   "metadata": {},
   "source": [
    "---\n",
    "\n",
    "*Несмотря на лидирующие показатели по количеству игр и общим продажам жанра <b>'Action'</b> , самым прибыльным жанром стал <b>'Shooter'</b> . В среднем за игры этого жанра готовы платить в 4 раза больше, чем за игры того же <b> 'Action'</b>. Низкоприбыльными жанрами из всех стали <b> Adventure, Puzzle </b>.*\n",
    "\n",
    "---"
   ]
  },
  {
   "cell_type": "markdown",
   "id": "d0348fbd",
   "metadata": {},
   "source": [
    "**Вывод**\n",
    "\n",
    "-----\n",
    "\n",
    "*Активный рост игровой индустрии произошел в 2001 году, появилось больше платфор и как следствие игр. Для изучения и построения гипотез нам будет достаточно периода 2013 - 2016 г. Данные за этот период содержат информацию по растущим, потенциально прибыльным, и уже исчезающим платформам. Выборка для изучения будет взята только за актуальный период.*\n",
    "\n",
    "*Исследовательский анализ показал, что при планировании необходимо учитывать следующие факторы:*\n",
    "1. *Жизненный цикл игровой платформы. В среднем продолжительность жизни составляет 10 лет, поэтому необходимо понимать на каком этапе существования платформы проводится рекламная кампания.*\n",
    "2. *Глобальные продажи игр по платформам смогут дать представление о возможных результатах от кампании.*\n",
    "3. *Обращать внимание на оценки критиков, они могут незначительно, но исказать результаты продаж.*\n",
    "4. *Жанры игр влият напрямую на продажи, потому как есть наиболее прибыльные жанры, которые уже завоевали любовь аудитории.* \n",
    "\n",
    "---"
   ]
  },
  {
   "cell_type": "markdown",
   "id": "ebd897f2",
   "metadata": {},
   "source": [
    "## 3 этап. Формирование портрета пользователя по каждому региону"
   ]
  },
  {
   "cell_type": "markdown",
   "id": "066cb243",
   "metadata": {},
   "source": [
    "**Задачи**\n",
    "\n",
    "-----\n",
    "Определим для пользователя каждого региона (NA, EU, JP):\n",
    "- самые популярные платформы (топ-5)\n",
    "- самые популярные жанры (топ-5)\n",
    "- слияет ли рейтинг ESRB на продажи в отдельном регионе?"
   ]
  },
  {
   "cell_type": "code",
   "execution_count": 35,
   "id": "a99b4778",
   "metadata": {},
   "outputs": [
    {
     "data": {
      "text/html": [
       "<style  type=\"text/css\" >\n",
       "#T_a3705_row0_col0{\n",
       "            background-color:  #81a4fb;\n",
       "            color:  #000000;\n",
       "        }#T_a3705_row0_col1,#T_a3705_row4_col0,#T_a3705_row4_col2{\n",
       "            background-color:  #b40426;\n",
       "            color:  #f1f1f1;\n",
       "        }#T_a3705_row0_col2{\n",
       "            background-color:  #afcafc;\n",
       "            color:  #000000;\n",
       "        }#T_a3705_row1_col0,#T_a3705_row1_col2,#T_a3705_row9_col1,#T_a3705_row10_col1{\n",
       "            background-color:  #3c4ec2;\n",
       "            color:  #f1f1f1;\n",
       "        }#T_a3705_row1_col1,#T_a3705_row2_col1,#T_a3705_row5_col0,#T_a3705_row5_col2,#T_a3705_row7_col1{\n",
       "            background-color:  #3b4cc0;\n",
       "            color:  #f1f1f1;\n",
       "        }#T_a3705_row2_col0{\n",
       "            background-color:  #7396f5;\n",
       "            color:  #000000;\n",
       "        }#T_a3705_row2_col2{\n",
       "            background-color:  #5a78e4;\n",
       "            color:  #000000;\n",
       "        }#T_a3705_row3_col0{\n",
       "            background-color:  #d7dce3;\n",
       "            color:  #000000;\n",
       "        }#T_a3705_row3_col1{\n",
       "            background-color:  #aec9fc;\n",
       "            color:  #000000;\n",
       "        }#T_a3705_row3_col2{\n",
       "            background-color:  #efcebd;\n",
       "            color:  #000000;\n",
       "        }#T_a3705_row4_col1{\n",
       "            background-color:  #88abfd;\n",
       "            color:  #000000;\n",
       "        }#T_a3705_row5_col1{\n",
       "            background-color:  #4961d2;\n",
       "            color:  #f1f1f1;\n",
       "        }#T_a3705_row6_col0,#T_a3705_row7_col0{\n",
       "            background-color:  #465ecf;\n",
       "            color:  #f1f1f1;\n",
       "        }#T_a3705_row6_col1{\n",
       "            background-color:  #96b7ff;\n",
       "            color:  #000000;\n",
       "        }#T_a3705_row6_col2{\n",
       "            background-color:  #485fd1;\n",
       "            color:  #f1f1f1;\n",
       "        }#T_a3705_row7_col2{\n",
       "            background-color:  #4c66d6;\n",
       "            color:  #000000;\n",
       "        }#T_a3705_row8_col0{\n",
       "            background-color:  #6687ed;\n",
       "            color:  #000000;\n",
       "        }#T_a3705_row8_col1{\n",
       "            background-color:  #6e90f2;\n",
       "            color:  #000000;\n",
       "        }#T_a3705_row8_col2{\n",
       "            background-color:  #93b5fe;\n",
       "            color:  #000000;\n",
       "        }#T_a3705_row9_col0{\n",
       "            background-color:  #9ebeff;\n",
       "            color:  #000000;\n",
       "        }#T_a3705_row9_col2{\n",
       "            background-color:  #f4987a;\n",
       "            color:  #000000;\n",
       "        }#T_a3705_row10_col0{\n",
       "            background-color:  #b5cdfa;\n",
       "            color:  #000000;\n",
       "        }#T_a3705_row10_col2{\n",
       "            background-color:  #e26952;\n",
       "            color:  #000000;\n",
       "        }</style><table id=\"T_a3705_\" ><thead>    <tr>        <th class=\"blank level0\" ></th>        <th class=\"col_heading level0 col0\" >eu_sales</th>        <th class=\"col_heading level0 col1\" >jp_sales</th>        <th class=\"col_heading level0 col2\" >na_sales</th>    </tr>    <tr>        <th class=\"index_name level0\" >platform</th>        <th class=\"blank\" ></th>        <th class=\"blank\" ></th>        <th class=\"blank\" ></th>    </tr></thead><tbody>\n",
       "                <tr>\n",
       "                        <th id=\"T_a3705_level0_row0\" class=\"row_heading level0 row0\" >3DS</th>\n",
       "                        <td id=\"T_a3705_row0_col0\" class=\"data row0 col0\" >30.960000</td>\n",
       "                        <td id=\"T_a3705_row0_col1\" class=\"data row0 col1\" >67.810000</td>\n",
       "                        <td id=\"T_a3705_row0_col2\" class=\"data row0 col2\" >38.200000</td>\n",
       "            </tr>\n",
       "            <tr>\n",
       "                        <th id=\"T_a3705_level0_row1\" class=\"row_heading level0 row1\" >DS</th>\n",
       "                        <td id=\"T_a3705_row1_col0\" class=\"data row1 col0\" >0.850000</td>\n",
       "                        <td id=\"T_a3705_row1_col1\" class=\"data row1 col1\" >0.000000</td>\n",
       "                        <td id=\"T_a3705_row1_col2\" class=\"data row1 col2\" >0.570000</td>\n",
       "            </tr>\n",
       "            <tr>\n",
       "                        <th id=\"T_a3705_level0_row2\" class=\"row_heading level0 row2\" >PC</th>\n",
       "                        <td id=\"T_a3705_row2_col0\" class=\"data row2 col0\" >25.360000</td>\n",
       "                        <td id=\"T_a3705_row2_col1\" class=\"data row2 col1\" >0.000000</td>\n",
       "                        <td id=\"T_a3705_row2_col2\" class=\"data row2 col2\" >11.110000</td>\n",
       "            </tr>\n",
       "            <tr>\n",
       "                        <th id=\"T_a3705_level0_row3\" class=\"row_heading level0 row3\" >PS3</th>\n",
       "                        <td id=\"T_a3705_row3_col0\" class=\"data row3 col0\" >67.810000</td>\n",
       "                        <td id=\"T_a3705_row3_col1\" class=\"data row3 col1\" >23.350000</td>\n",
       "                        <td id=\"T_a3705_row3_col2\" class=\"data row3 col2\" >63.500000</td>\n",
       "            </tr>\n",
       "            <tr>\n",
       "                        <th id=\"T_a3705_level0_row4\" class=\"row_heading level0 row4\" >PS4</th>\n",
       "                        <td id=\"T_a3705_row4_col0\" class=\"data row4 col0\" >141.090000</td>\n",
       "                        <td id=\"T_a3705_row4_col1\" class=\"data row4 col1\" >15.960000</td>\n",
       "                        <td id=\"T_a3705_row4_col2\" class=\"data row4 col2\" >108.740000</td>\n",
       "            </tr>\n",
       "            <tr>\n",
       "                        <th id=\"T_a3705_level0_row5\" class=\"row_heading level0 row5\" >PSP</th>\n",
       "                        <td id=\"T_a3705_row5_col0\" class=\"data row5 col0\" >0.170000</td>\n",
       "                        <td id=\"T_a3705_row5_col1\" class=\"data row5 col1\" >3.290000</td>\n",
       "                        <td id=\"T_a3705_row5_col2\" class=\"data row5 col2\" >0.000000</td>\n",
       "            </tr>\n",
       "            <tr>\n",
       "                        <th id=\"T_a3705_level0_row6\" class=\"row_heading level0 row6\" >PSV</th>\n",
       "                        <td id=\"T_a3705_row6_col0\" class=\"data row6 col0\" >6.100000</td>\n",
       "                        <td id=\"T_a3705_row6_col1\" class=\"data row6 col1\" >18.590000</td>\n",
       "                        <td id=\"T_a3705_row6_col2\" class=\"data row6 col2\" >5.040000</td>\n",
       "            </tr>\n",
       "            <tr>\n",
       "                        <th id=\"T_a3705_level0_row7\" class=\"row_heading level0 row7\" >Wii</th>\n",
       "                        <td id=\"T_a3705_row7_col0\" class=\"data row7 col0\" >5.930000</td>\n",
       "                        <td id=\"T_a3705_row7_col1\" class=\"data row7 col1\" >0.050000</td>\n",
       "                        <td id=\"T_a3705_row7_col2\" class=\"data row7 col2\" >6.560000</td>\n",
       "            </tr>\n",
       "            <tr>\n",
       "                        <th id=\"T_a3705_level0_row8\" class=\"row_heading level0 row8\" >WiiU</th>\n",
       "                        <td id=\"T_a3705_row8_col0\" class=\"data row8 col0\" >19.850000</td>\n",
       "                        <td id=\"T_a3705_row8_col1\" class=\"data row8 col1\" >10.880000</td>\n",
       "                        <td id=\"T_a3705_row8_col2\" class=\"data row8 col2\" >29.210000</td>\n",
       "            </tr>\n",
       "            <tr>\n",
       "                        <th id=\"T_a3705_level0_row9\" class=\"row_heading level0 row9\" >X360</th>\n",
       "                        <td id=\"T_a3705_row9_col0\" class=\"data row9 col0\" >42.520000</td>\n",
       "                        <td id=\"T_a3705_row9_col1\" class=\"data row9 col1\" >0.510000</td>\n",
       "                        <td id=\"T_a3705_row9_col2\" class=\"data row9 col2\" >81.660000</td>\n",
       "            </tr>\n",
       "            <tr>\n",
       "                        <th id=\"T_a3705_level0_row10\" class=\"row_heading level0 row10\" >XOne</th>\n",
       "                        <td id=\"T_a3705_row10_col0\" class=\"data row10 col0\" >51.590000</td>\n",
       "                        <td id=\"T_a3705_row10_col1\" class=\"data row10 col1\" >0.340000</td>\n",
       "                        <td id=\"T_a3705_row10_col2\" class=\"data row10 col2\" >93.120000</td>\n",
       "            </tr>\n",
       "    </tbody></table>"
      ],
      "text/plain": [
       "<pandas.io.formats.style.Styler at 0x7fbd47520070>"
      ]
     },
     "execution_count": 35,
     "metadata": {},
     "output_type": "execute_result"
    }
   ],
   "source": [
    "#Найдем самые популярные платформы по регионам\n",
    "(df_actual\n",
    " .pivot_table(index='platform', values=['na_sales', 'eu_sales', 'jp_sales'], aggfunc='sum')\n",
    " .style.background_gradient('coolwarm')\n",
    ")"
   ]
  },
  {
   "cell_type": "markdown",
   "id": "f41d2dd7",
   "metadata": {},
   "source": [
    "-----\n",
    "*Самые популярные платформы по регионам:*\n",
    "- *для Европы: PS4, PS3, XOne, X360, 3DS*\n",
    "- *для Японии: 3DS, PS3, PSV, PS4, WiiU*\n",
    "- *для Северной Америки: PS4, XOne, X360, PS3, 3DS*\n",
    "-----"
   ]
  },
  {
   "cell_type": "code",
   "execution_count": 36,
   "id": "542fd21e",
   "metadata": {},
   "outputs": [
    {
     "data": {
      "text/html": [
       "<style  type=\"text/css\" >\n",
       "#T_ae269_row0_col0,#T_ae269_row0_col2,#T_ae269_row7_col1{\n",
       "            background-color:  #b40426;\n",
       "            color:  #f1f1f1;\n",
       "        }#T_ae269_row0_col1{\n",
       "            background-color:  #f08a6c;\n",
       "            color:  #000000;\n",
       "        }#T_ae269_row1_col0{\n",
       "            background-color:  #4c66d6;\n",
       "            color:  #000000;\n",
       "        }#T_ae269_row1_col1{\n",
       "            background-color:  #5673e0;\n",
       "            color:  #000000;\n",
       "        }#T_ae269_row1_col2{\n",
       "            background-color:  #4961d2;\n",
       "            color:  #f1f1f1;\n",
       "        }#T_ae269_row2_col0{\n",
       "            background-color:  #4e68d8;\n",
       "            color:  #000000;\n",
       "        }#T_ae269_row2_col1{\n",
       "            background-color:  #6384eb;\n",
       "            color:  #000000;\n",
       "        }#T_ae269_row2_col2{\n",
       "            background-color:  #5f7fe8;\n",
       "            color:  #000000;\n",
       "        }#T_ae269_row3_col0,#T_ae269_row3_col1,#T_ae269_row6_col0{\n",
       "            background-color:  #6e90f2;\n",
       "            color:  #000000;\n",
       "        }#T_ae269_row3_col2{\n",
       "            background-color:  #80a3fa;\n",
       "            color:  #000000;\n",
       "        }#T_ae269_row4_col0{\n",
       "            background-color:  #6180e9;\n",
       "            color:  #000000;\n",
       "        }#T_ae269_row4_col1{\n",
       "            background-color:  #506bda;\n",
       "            color:  #000000;\n",
       "        }#T_ae269_row4_col2{\n",
       "            background-color:  #6687ed;\n",
       "            color:  #000000;\n",
       "        }#T_ae269_row5_col0,#T_ae269_row5_col1,#T_ae269_row5_col2{\n",
       "            background-color:  #3b4cc0;\n",
       "            color:  #f1f1f1;\n",
       "        }#T_ae269_row6_col1,#T_ae269_row11_col2{\n",
       "            background-color:  #4055c8;\n",
       "            color:  #f1f1f1;\n",
       "        }#T_ae269_row6_col2{\n",
       "            background-color:  #5875e1;\n",
       "            color:  #000000;\n",
       "        }#T_ae269_row7_col0{\n",
       "            background-color:  #a1c0ff;\n",
       "            color:  #000000;\n",
       "        }#T_ae269_row7_col2{\n",
       "            background-color:  #b5cdfa;\n",
       "            color:  #000000;\n",
       "        }#T_ae269_row8_col0{\n",
       "            background-color:  #f59d7e;\n",
       "            color:  #000000;\n",
       "        }#T_ae269_row8_col1{\n",
       "            background-color:  #5b7ae5;\n",
       "            color:  #000000;\n",
       "        }#T_ae269_row8_col2{\n",
       "            background-color:  #df634e;\n",
       "            color:  #000000;\n",
       "        }#T_ae269_row9_col0,#T_ae269_row10_col1{\n",
       "            background-color:  #5470de;\n",
       "            color:  #000000;\n",
       "        }#T_ae269_row9_col1{\n",
       "            background-color:  #4f69d9;\n",
       "            color:  #000000;\n",
       "        }#T_ae269_row9_col2{\n",
       "            background-color:  #445acc;\n",
       "            color:  #f1f1f1;\n",
       "        }#T_ae269_row10_col0{\n",
       "            background-color:  #dfdbd9;\n",
       "            color:  #000000;\n",
       "        }#T_ae269_row10_col2{\n",
       "            background-color:  #e0dbd8;\n",
       "            color:  #000000;\n",
       "        }#T_ae269_row11_col0{\n",
       "            background-color:  #4358cb;\n",
       "            color:  #f1f1f1;\n",
       "        }#T_ae269_row11_col1{\n",
       "            background-color:  #3e51c5;\n",
       "            color:  #f1f1f1;\n",
       "        }</style><table id=\"T_ae269_\" ><thead>    <tr>        <th class=\"blank level0\" ></th>        <th class=\"col_heading level0 col0\" >eu_sales</th>        <th class=\"col_heading level0 col1\" >jp_sales</th>        <th class=\"col_heading level0 col2\" >na_sales</th>    </tr>    <tr>        <th class=\"index_name level0\" >genre</th>        <th class=\"blank\" ></th>        <th class=\"blank\" ></th>        <th class=\"blank\" ></th>    </tr></thead><tbody>\n",
       "                <tr>\n",
       "                        <th id=\"T_ae269_level0_row0\" class=\"row_heading level0 row0\" >Action</th>\n",
       "                        <td id=\"T_ae269_row0_col0\" class=\"data row0 col0\" >118.130000</td>\n",
       "                        <td id=\"T_ae269_row0_col1\" class=\"data row0 col1\" >40.490000</td>\n",
       "                        <td id=\"T_ae269_row0_col2\" class=\"data row0 col2\" >126.050000</td>\n",
       "            </tr>\n",
       "            <tr>\n",
       "                        <th id=\"T_ae269_level0_row1\" class=\"row_heading level0 row1\" >Adventure</th>\n",
       "                        <td id=\"T_ae269_row1_col0\" class=\"data row1 col0\" >8.250000</td>\n",
       "                        <td id=\"T_ae269_row1_col1\" class=\"data row1 col1\" >5.820000</td>\n",
       "                        <td id=\"T_ae269_row1_col2\" class=\"data row1 col2\" >7.140000</td>\n",
       "            </tr>\n",
       "            <tr>\n",
       "                        <th id=\"T_ae269_level0_row2\" class=\"row_heading level0 row2\" >Fighting</th>\n",
       "                        <td id=\"T_ae269_row2_col0\" class=\"data row2 col0\" >8.550000</td>\n",
       "                        <td id=\"T_ae269_row2_col1\" class=\"data row2 col1\" >7.650000</td>\n",
       "                        <td id=\"T_ae269_row2_col2\" class=\"data row2 col2\" >15.550000</td>\n",
       "            </tr>\n",
       "            <tr>\n",
       "                        <th id=\"T_ae269_level0_row3\" class=\"row_heading level0 row3\" >Misc</th>\n",
       "                        <td id=\"T_ae269_row3_col0\" class=\"data row3 col0\" >20.040000</td>\n",
       "                        <td id=\"T_ae269_row3_col1\" class=\"data row3 col1\" >9.200000</td>\n",
       "                        <td id=\"T_ae269_row3_col2\" class=\"data row3 col2\" >27.490000</td>\n",
       "            </tr>\n",
       "            <tr>\n",
       "                        <th id=\"T_ae269_level0_row4\" class=\"row_heading level0 row4\" >Platform</th>\n",
       "                        <td id=\"T_ae269_row4_col0\" class=\"data row4 col0\" >15.580000</td>\n",
       "                        <td id=\"T_ae269_row4_col1\" class=\"data row4 col1\" >4.790000</td>\n",
       "                        <td id=\"T_ae269_row4_col2\" class=\"data row4 col2\" >18.140000</td>\n",
       "            </tr>\n",
       "            <tr>\n",
       "                        <th id=\"T_ae269_level0_row5\" class=\"row_heading level0 row5\" >Puzzle</th>\n",
       "                        <td id=\"T_ae269_row5_col0\" class=\"data row5 col0\" >1.000000</td>\n",
       "                        <td id=\"T_ae269_row5_col1\" class=\"data row5 col1\" >1.180000</td>\n",
       "                        <td id=\"T_ae269_row5_col2\" class=\"data row5 col2\" >0.830000</td>\n",
       "            </tr>\n",
       "            <tr>\n",
       "                        <th id=\"T_ae269_level0_row6\" class=\"row_heading level0 row6\" >Racing</th>\n",
       "                        <td id=\"T_ae269_row6_col0\" class=\"data row6 col0\" >20.190000</td>\n",
       "                        <td id=\"T_ae269_row6_col1\" class=\"data row6 col1\" >2.300000</td>\n",
       "                        <td id=\"T_ae269_row6_col2\" class=\"data row6 col2\" >12.960000</td>\n",
       "            </tr>\n",
       "            <tr>\n",
       "                        <th id=\"T_ae269_level0_row7\" class=\"row_heading level0 row7\" >Role-Playing</th>\n",
       "                        <td id=\"T_ae269_row7_col0\" class=\"data row7 col0\" >36.970000</td>\n",
       "                        <td id=\"T_ae269_row7_col1\" class=\"data row7 col1\" >51.040000</td>\n",
       "                        <td id=\"T_ae269_row7_col2\" class=\"data row7 col2\" >46.400000</td>\n",
       "            </tr>\n",
       "            <tr>\n",
       "                        <th id=\"T_ae269_level0_row8\" class=\"row_heading level0 row8\" >Shooter</th>\n",
       "                        <td id=\"T_ae269_row8_col0\" class=\"data row8 col0\" >87.860000</td>\n",
       "                        <td id=\"T_ae269_row8_col1\" class=\"data row8 col1\" >6.610000</td>\n",
       "                        <td id=\"T_ae269_row8_col2\" class=\"data row8 col2\" >109.740000</td>\n",
       "            </tr>\n",
       "            <tr>\n",
       "                        <th id=\"T_ae269_level0_row9\" class=\"row_heading level0 row9\" >Simulation</th>\n",
       "                        <td id=\"T_ae269_row9_col0\" class=\"data row9 col0\" >10.920000</td>\n",
       "                        <td id=\"T_ae269_row9_col1\" class=\"data row9 col1\" >4.520000</td>\n",
       "                        <td id=\"T_ae269_row9_col2\" class=\"data row9 col2\" >4.860000</td>\n",
       "            </tr>\n",
       "            <tr>\n",
       "                        <th id=\"T_ae269_level0_row10\" class=\"row_heading level0 row10\" >Sports</th>\n",
       "                        <td id=\"T_ae269_row10_col0\" class=\"data row10 col0\" >60.520000</td>\n",
       "                        <td id=\"T_ae269_row10_col1\" class=\"data row10 col1\" >5.410000</td>\n",
       "                        <td id=\"T_ae269_row10_col2\" class=\"data row10 col2\" >65.270000</td>\n",
       "            </tr>\n",
       "            <tr>\n",
       "                        <th id=\"T_ae269_level0_row11\" class=\"row_heading level0 row11\" >Strategy</th>\n",
       "                        <td id=\"T_ae269_row11_col0\" class=\"data row11 col0\" >4.220000</td>\n",
       "                        <td id=\"T_ae269_row11_col1\" class=\"data row11 col1\" >1.770000</td>\n",
       "                        <td id=\"T_ae269_row11_col2\" class=\"data row11 col2\" >3.280000</td>\n",
       "            </tr>\n",
       "    </tbody></table>"
      ],
      "text/plain": [
       "<pandas.io.formats.style.Styler at 0x7fbd45a0c5e0>"
      ]
     },
     "execution_count": 36,
     "metadata": {},
     "output_type": "execute_result"
    }
   ],
   "source": [
    "#Найдем самые популярные жанры по регионам\n",
    "(df_actual\n",
    " .pivot_table(index='genre', values=['na_sales', 'eu_sales', 'jp_sales'], aggfunc='sum')\n",
    " .style.background_gradient('coolwarm')\n",
    ")"
   ]
  },
  {
   "cell_type": "markdown",
   "id": "18bed5fc",
   "metadata": {},
   "source": [
    "-----\n",
    "*Самые популярные жанры по регионам:*\n",
    "- *для Европы: Action, Shooter, Sports, Role-Playing, Racing*\n",
    "- *для Японии: Role-Playing, Action, Misc*\n",
    "- *для Северной Америки: Action, Shooter, Sports, Role-Playing, Misc*\n",
    "---"
   ]
  },
  {
   "cell_type": "code",
   "execution_count": 37,
   "id": "885bb9da",
   "metadata": {},
   "outputs": [
    {
     "data": {
      "text/html": [
       "<style  type=\"text/css\" >\n",
       "#T_7960c_row0_col0{\n",
       "            background-color:  #c0d4f5;\n",
       "            color:  #000000;\n",
       "        }#T_7960c_row0_col1{\n",
       "            background-color:  #5e7de7;\n",
       "            color:  #000000;\n",
       "        }#T_7960c_row0_col2{\n",
       "            background-color:  #8db0fe;\n",
       "            color:  #000000;\n",
       "        }#T_7960c_row1_col0{\n",
       "            background-color:  #3c4ec2;\n",
       "            color:  #f1f1f1;\n",
       "        }#T_7960c_row1_col1,#T_7960c_row3_col0,#T_7960c_row3_col2{\n",
       "            background-color:  #3b4cc0;\n",
       "            color:  #f1f1f1;\n",
       "        }#T_7960c_row1_col2{\n",
       "            background-color:  #455cce;\n",
       "            color:  #f1f1f1;\n",
       "        }#T_7960c_row2_col0,#T_7960c_row2_col2,#T_7960c_row4_col1{\n",
       "            background-color:  #b40426;\n",
       "            color:  #f1f1f1;\n",
       "        }#T_7960c_row2_col1{\n",
       "            background-color:  #5a78e4;\n",
       "            color:  #000000;\n",
       "        }#T_7960c_row3_col1{\n",
       "            background-color:  #7699f6;\n",
       "            color:  #000000;\n",
       "        }#T_7960c_row4_col0{\n",
       "            background-color:  #b2ccfb;\n",
       "            color:  #000000;\n",
       "        }#T_7960c_row4_col2{\n",
       "            background-color:  #adc9fd;\n",
       "            color:  #000000;\n",
       "        }</style><table id=\"T_7960c_\" ><thead>    <tr>        <th class=\"blank level0\" ></th>        <th class=\"col_heading level0 col0\" >eu_sales</th>        <th class=\"col_heading level0 col1\" >jp_sales</th>        <th class=\"col_heading level0 col2\" >na_sales</th>    </tr>    <tr>        <th class=\"index_name level0\" >rating</th>        <th class=\"blank\" ></th>        <th class=\"blank\" ></th>        <th class=\"blank\" ></th>    </tr></thead><tbody>\n",
       "                <tr>\n",
       "                        <th id=\"T_7960c_level0_row0\" class=\"row_heading level0 row0\" >E</th>\n",
       "                        <td id=\"T_7960c_row0_col0\" class=\"data row0 col0\" >83.360000</td>\n",
       "                        <td id=\"T_7960c_row0_col1\" class=\"data row0 col1\" >15.140000</td>\n",
       "                        <td id=\"T_7960c_row0_col2\" class=\"data row0 col2\" >79.050000</td>\n",
       "            </tr>\n",
       "            <tr>\n",
       "                        <th id=\"T_7960c_level0_row1\" class=\"row_heading level0 row1\" >E10+</th>\n",
       "                        <td id=\"T_7960c_row1_col0\" class=\"data row1 col0\" >42.690000</td>\n",
       "                        <td id=\"T_7960c_row1_col1\" class=\"data row1 col1\" >5.890000</td>\n",
       "                        <td id=\"T_7960c_row1_col2\" class=\"data row1 col2\" >54.240000</td>\n",
       "            </tr>\n",
       "            <tr>\n",
       "                        <th id=\"T_7960c_level0_row2\" class=\"row_heading level0 row2\" >M</th>\n",
       "                        <td id=\"T_7960c_row2_col0\" class=\"data row2 col0\" >145.320000</td>\n",
       "                        <td id=\"T_7960c_row2_col1\" class=\"data row2 col1\" >14.110000</td>\n",
       "                        <td id=\"T_7960c_row2_col2\" class=\"data row2 col2\" >165.210000</td>\n",
       "            </tr>\n",
       "            <tr>\n",
       "                        <th id=\"T_7960c_level0_row3\" class=\"row_heading level0 row3\" >T</th>\n",
       "                        <td id=\"T_7960c_row3_col0\" class=\"data row3 col0\" >41.950000</td>\n",
       "                        <td id=\"T_7960c_row3_col1\" class=\"data row3 col1\" >20.590000</td>\n",
       "                        <td id=\"T_7960c_row3_col2\" class=\"data row3 col2\" >49.790000</td>\n",
       "            </tr>\n",
       "            <tr>\n",
       "                        <th id=\"T_7960c_level0_row4\" class=\"row_heading level0 row4\" >no_category</th>\n",
       "                        <td id=\"T_7960c_row4_col0\" class=\"data row4 col0\" >78.910000</td>\n",
       "                        <td id=\"T_7960c_row4_col1\" class=\"data row4 col1\" >85.050000</td>\n",
       "                        <td id=\"T_7960c_row4_col2\" class=\"data row4 col2\" >89.420000</td>\n",
       "            </tr>\n",
       "    </tbody></table>"
      ],
      "text/plain": [
       "<pandas.io.formats.style.Styler at 0x7fbd474c0640>"
      ]
     },
     "execution_count": 37,
     "metadata": {},
     "output_type": "execute_result"
    }
   ],
   "source": [
    "#Заполним пропуски в rating\n",
    "df_actual_rating = df_actual.fillna('no_category') #вместо удаления, заполнила пропуски\n",
    "\n",
    "#Постороим сводную таблицу по продажам в регионах на основании рейтинга ESRB\n",
    "rating_data = df_actual_rating \\\n",
    ".pivot_table(index=['rating'], values=['na_sales', 'eu_sales', 'jp_sales'], aggfunc='sum')\n",
    "\n",
    "rating_data.style.background_gradient('coolwarm')"
   ]
  },
  {
   "cell_type": "code",
   "execution_count": 38,
   "id": "7c8ea84a",
   "metadata": {},
   "outputs": [
    {
     "data": {
      "text/plain": [
       "'Доля пропусков по Европе: 20.12, по Японии: 60.41, по Северной Америке: 20.43'"
      ]
     },
     "metadata": {},
     "output_type": "display_data"
    }
   ],
   "source": [
    "#Посчитаем долю пропусков по отдельным регионам\n",
    "eu_sales_na_ratio = round(78.91 / sum(df_actual['eu_sales']) * 100, 2)\n",
    "jp_sales_na_ratio = round(85.05 / sum(df_actual['jp_sales']) * 100, 2)\n",
    "na_sales_na_ratio = round(89.42 / sum(df_actual['na_sales']) * 100, 2)\n",
    "\n",
    "display('Доля пропусков по Европе: {}, по Японии: {}, по Северной Америке: {}'.format(eu_sales_na_ratio, jp_sales_na_ratio, na_sales_na_ratio))"
   ]
  },
  {
   "cell_type": "code",
   "execution_count": 39,
   "id": "09cdb999",
   "metadata": {},
   "outputs": [
    {
     "data": {
      "image/png": "[encoded data removed]",
      "text/plain": [
       "<Figure size 864x360 with 1 Axes>"
      ]
     },
     "metadata": {},
     "output_type": "display_data"
    }
   ],
   "source": [
    "from matplotlib import rc\n",
    "plt.figure(figsize=(12,5))\n",
    "\n",
    "#Значения на оси х\n",
    "names = ['E','E10+','M','T', 'no_category']\n",
    "\n",
    "#Распределение по Северной Америке\n",
    "plt.bar(rating_data.index, rating_data['na_sales'], color='#2d7f5e', edgecolor='white', label='Северная Америка') #зеленый\n",
    "#Распределение по Европе\n",
    "plt.bar(rating_data.index, rating_data['eu_sales'], color='#7f6d5f', edgecolor='white', label='Европа') #коричневый\n",
    "#Распределение по Японии\n",
    "plt.bar(rating_data.index, rating_data['jp_sales'], color='#557f2d', edgecolor='white', label='Япония') #салатовый\n",
    "\n",
    "plt.legend()\n",
    "#Добавила названия графика и осей\n",
    "plt.xlabel(\"Категории рейтинга ESRB\")\n",
    "plt.ylabel(\"Объем продаж\")\n",
    "plt.title('Распределение продаж между регионами по категориям рейтинга')\n",
    "plt.show()"
   ]
  },
  {
   "cell_type": "markdown",
   "id": "7dae240e",
   "metadata": {},
   "source": [
    "---\n",
    "\n",
    "*По Европе и Северной Америке мы наблюдаем схожую картину, большая доля продаж принадлежит играм для взрослых - категория M . В Японии люди больше покупают игры для подростков - категория T. Однако, судя по доли пропусков, которая составляет 60%, картина может поменяться. Необходимо изучить данный факт при выгрузке данных, либо обратиться к другим открытым источникам, где будет полная информация по рейтингам данного региона.*\n",
    "\n",
    "\n",
    "---\n",
    "\n",
    "- E - Everyone — для всех\n",
    "- E10+ - Everyone 10 and older — для всех от 10 лет и старше\n",
    "- M - Mature — для взрослых\n",
    "- T - Teen — для всех от 13 лет и старше"
   ]
  },
  {
   "cell_type": "markdown",
   "id": "4f69264f",
   "metadata": {},
   "source": [
    "**Вывод**\n",
    "\n",
    "---\n",
    "\n",
    "*Типичный пользователь в Северной Америке предпочитает игры следующий платформ: PS4, XOne, X360, PS3, 3DS. Как правило, жанр игры: Action, Shooter, Sports, Role-Playing, Misc, а категория - для взрослых(М).*\n",
    "\n",
    "*Типичный пользователь в Европе предпочитает игры следующий платформ: PS4, PS3, XOne, X360, 3DS. Как правило, жанр игры: Action, Shooter, Sports, Role-Playing, Racing, а категория - для взрослых(М).*\n",
    "\n",
    "\n",
    "*Типичный пользователь в Японии предпочитает игры следующий платформ: 3DS, PS3, PSV, PS4, WiiU. Как правило жанр игры: ARole-Playing, Action, Misc, а категория - для подростков(Т).*\n",
    "\n",
    "--------\n",
    "*Вышесказанное еще раз доказывает, что при планировании рекламной кампании необходимо учитывать регион и особенности аудитории этого региона.* "
   ]
  },
  {
   "cell_type": "markdown",
   "id": "5ff6997b",
   "metadata": {},
   "source": [
    "## 4 этап. Проверка гипотез"
   ]
  },
  {
   "cell_type": "markdown",
   "id": "fc1ff9a3",
   "metadata": {},
   "source": [
    "**Проверка первой гипотезы:** средние пользовательские рейтинги платформ Xbox One и PC одинаковые.\n",
    "\n",
    "```\n",
    "H_0: Средний пользовательский рейтинг платформы Xbox One = Средний пользовательский рейтинг платформы PC`\n",
    "H_a: Средний пользовательский рейтинг платформы Xbox One ≠ Средний пользовательский рейтинг платформы PC`\n",
    "alpha = 0.01\n",
    "```"
   ]
  },
  {
   "cell_type": "code",
   "execution_count": 40,
   "id": "8d3ca72b",
   "metadata": {},
   "outputs": [
    {
     "name": "stdout",
     "output_type": "stream",
     "text": [
      "0.1475959401343032\n",
      "Не получилось отвергнуть нулевую гипотезу\n"
     ]
    }
   ],
   "source": [
    "# results = вызов метода для проверки гипотезы\n",
    "results = st.ttest_ind(\n",
    "    df_actual.query('platform == \"XOne\"').user_score,\n",
    "    df_actual.query('platform == \"PC\"').user_score,\n",
    "    equal_var=False, \n",
    "    nan_policy = 'omit')                              \n",
    "\n",
    "# alpha = задайте значение уровня значимости\n",
    "alpha = 0.05\n",
    "\n",
    "# вывод значения p-value на экран \n",
    "print(results.pvalue)\n",
    "\n",
    "# условный оператор с выводом строки с ответом\n",
    "if results.pvalue < alpha:\n",
    "    print('Отвергаем нулевую гипотезу')\n",
    "else:\n",
    "    print('Не получилось отвергнуть нулевую гипотезу')"
   ]
  },
  {
   "cell_type": "markdown",
   "id": "25429f48",
   "metadata": {},
   "source": [
    "---\n",
    "\n",
    "*Пороговое значение было выбрано - 5%.*\n",
    "\n",
    "*В данном случае мы имеем дело с двустровонней гипотезой (нулевой и альтернативной двустровонней). Выясняя, могут ли совокупности быть одинаковыми, принимает Н_0: «они одинаковые, исследуемые параметры равны». Таким образом, мы берем утверждение о равенстве, - это будет нулевая гипотеза, которую мы хотим проверить, а алтернативная - утверждение, что средние пользовательские рейтинги платформ Xbox One и PC разные.*\n",
    "\n",
    "*Метод для исследования scipy.stats.ttest_ind (array1, array2, equal_var). Данный метод используется для проверки гипотезы о равенстве среднего двух совокупностей в Python. Все условия для проведения t-теста соблюдаются:*\n",
    "- *выборки независимые*\n",
    "- *изменения в выборка не происходят во время исследования*\n",
    "- *выборочные средние нормально распределены (данных в вывборках достаточно)*\n",
    "\n",
    "---"
   ]
  },
  {
   "cell_type": "markdown",
   "id": "b1085bf0",
   "metadata": {},
   "source": [
    "**Проверка второй гипотезы:** Средние пользовательские рейтинги жанров Action и Sports разные.\n",
    "\n",
    "```\n",
    "H_0: Средний пользовательский рейтинг жанра Action = Средний пользовательский рейтинг жанра Sports`\n",
    "H_a: Средний пользовательский рейтинг жанра Action ≠ Средний пользовательский рейтинг жанра Sports`\n",
    "alpha = 0.01\n",
    "```"
   ]
  },
  {
   "cell_type": "code",
   "execution_count": 41,
   "id": "801689fd",
   "metadata": {},
   "outputs": [
    {
     "name": "stdout",
     "output_type": "stream",
     "text": [
      "7.136312729062867e-13\n",
      "Отвергаем нулевую гипотезу\n"
     ]
    }
   ],
   "source": [
    "# results = вызов метода для проверки гипотезы\n",
    "results = st.ttest_ind(\n",
    "    df_actual_without_na.query('genre == \"Action\"').user_score,\n",
    "    df_actual_without_na.query('genre == \"Sports\"').user_score,\n",
    "    equal_var=False)\n",
    "\n",
    "# alpha = задайте значение уровня значимости\n",
    "alpha = 0.05\n",
    "\n",
    "# вывод значения p-value на экран \n",
    "print(results.pvalue)\n",
    "\n",
    "# условный оператор с выводом строки с ответом\n",
    "if results.pvalue < alpha:\n",
    "    print('Отвергаем нулевую гипотезу')\n",
    "else:\n",
    "    print('Не получилось отвергнуть нулевую гипотезу')"
   ]
  },
  {
   "cell_type": "markdown",
   "id": "516c0df7",
   "metadata": {},
   "source": [
    "---\n",
    "*Пороговое значение было выбрано - 5%.* \n",
    "\n",
    "*Исследование построено на нулевой и альтернативной двустровонней гипотезах. Выясняя, различны две совокупности или нет, принимает Н_0: «они одинаковые, исследуемые параметры равны». Таким образом, мы берем противоположное утверждение - это будет нулевая гипотеза, а алтернативная - утверждение, которые мы хотим проверить, а именно различны ли средние пользовательские рейтинги жанров Action и Sports.*\n",
    "\n",
    "*Метод для исследования scipy.stats.ttest_ind (array1, array2, equal_var). Данный метод используется для проверки гипотезы о равенстве среднего двух совокупностей в Python. Все условия для проведения t-теста соблюдаются:*\n",
    "- *выборки независимые*\n",
    "- *изменения в выборка не происходят во время исследования*\n",
    "- *выборочные средние нормально распределены (данных в вывборках достаточно)*\n",
    "\n",
    "---"
   ]
  },
  {
   "cell_type": "markdown",
   "id": "206fa021",
   "metadata": {},
   "source": [
    "**Вывод**\n",
    "\n",
    "---\n",
    "\n",
    "*Полученное р-значение 14% по первой гипотезе не дает нам право отвергнуть нулевую гипотезу. Значит мы можем допустить, что средние пользовательские рейтинги платформ Xbox One и PC могут быть равны.*\n",
    "\n",
    "*На основании полученного р-значения менее 1% по второй гипотезе, мы можем допустить, что средние пользовательские рейтинги жанров Action и Sports действительно могут быть различны. В дальнейшем мы сможем проверить какие значения больше, а какие меньше, так же с помощью гипотез: нулевой и альтернативной односторонней.*\n",
    "\n",
    "---"
   ]
  },
  {
   "cell_type": "markdown",
   "id": "ef1020e2",
   "metadata": {},
   "source": [
    "## Вывод по исследованию "
   ]
  },
  {
   "cell_type": "markdown",
   "id": "abeda8f0",
   "metadata": {},
   "source": [
    "*В ходе исследования мы провели подготовку данных к исследованию. Для удобства и во избежании ошибок привели названия столбцов к нижнему регистру. Нашли неточности в типах данных, исправили их. Избавились от незначительных пропусков и анамалий в данных. К сожалению, большая часть данных, практически половина, по оценкам пользователей, критиков и рейтингам отсутствовала. Заполнение пропусков, могло исказить исследование, поэтому они остались пустыми.*\n",
    "\n",
    "\n",
    "\n",
    "*Предварительно мы обратились к динамике игр по годам. Интересующие нас данные совпали с расцветом индустрии игр - 2001 год. Проанализировали платформы, лидирующие по количеству продаж и выяснили, жизненный цикл платформ составляет в среднем 10 лет. Эта важная закономерность, при планирование рекламной кампании. Компании необходимо точно знать на каком этапе сейчас платформа, чтобы оценить целесообразность проведения кампаний и сделать корректные прогнозы.*\n",
    "\n",
    "*Для исследования мы не могли взять период в 10 лет, за это время платформы в принципе могли прекратить существование, поэтому было принято решение взять следующий актуальный период для исследования: 2013-2016 года. Данный отрезок включает платформы, которые находятся как в начале пути, так и угасают. Выявлены потенциально прибыльные платформы: PS4, XOne. Изучив распределение глобальных продаж игр отдельных платфор, мы увидели средние значения по продажам, они не превышают 300 тыс. Разброс в значениях большой, выбросы - это результаты культовых игр, которые принесли платформам не только прибыль, но и сделали их популярными, что также повлияло на их средние результаты по остальным играм. Проанализировав взаимосвязь оценок пользователей, критиков и продаж, мы пришли к выводу: влияние оценок пользователей на продажи ничтожно мало, а вот оценки критиков могут повлиять, но незначительно. В процессе изучения жанров был выявлен самый прибыльный - 'Shooter', низкоприбыльными стали - 'Adventure', 'Puzzle'.*\n",
    "\n",
    "\n",
    "*Для проведения рекламной кампании, необходим портрет пользователя. Предположения, что портрет пользователя по регионам будет отличатся, подтвердилось:*\n",
    "\n",
    "\n",
    "*Типичный пользователь в Северной Америке предпочитает игры следующий платформ: PS4, XOne, X360, PS3, 3DS. Как правило, жанр игры: Action, Shooter, Sports, Role-Playing, Misc, а категория - для взрослых(М)*\n",
    "\n",
    "\n",
    "*Типичный пользователь в Европе предпочитает игры следующий платформ: PS4, PS3, XOne, X360, 3DS. Как правило, жанр игры: Action, Shooter, Sports, Role-Playing, Racing, а категория - для взрослых(М).*\n",
    "\n",
    "\n",
    "*Типичный пользователь в Японии предпочитает игры следующий платформ: 3DS, PS3, PSV, PS4, WiiU. Как правило жанр игры: ARole-Playing, Action, Misc, а категория - для подростков(Т). По данному региону, в вопросе предпочтений категории игр, необходимо провести дополнительные исследования. Большая часть данных отсутствует, выводы могут быть неточными.*\n",
    "\n",
    "*Мы проверили две гипотезы. В результате, по первой - вполне возможно допустить, что средние пользовательские рейтинги платформ Xbox One и PC могут быть одинаковыми. По второй гипотезе - мы можем допустить, что средние пользовательские рейтинги жанров Action и Sports действительно могут быть различны. В дальнейшем мы сможем проверить какие значения больше, а какие меньше, так же с помощью гипотез: нулевой и альтернативной односторонней, при необходимости.*\n",
    "\n",
    "*Закономерности, выявленные во время исследования, должны быть учтены при выборе продукта и планировании для него рекламной кампании.*"
   ]
  }
 ],
 "metadata": {
  "ExecuteTimeLog": [
   {
    "duration": 1295,
    "start_time": "2022-11-06T05:13:43.161Z"
   },
   {
    "duration": 96,
    "start_time": "2022-11-06T05:13:44.458Z"
   },
   {
    "duration": 17,
    "start_time": "2022-11-06T05:13:44.556Z"
   },
   {
    "duration": 15,
    "start_time": "2022-11-06T05:13:44.575Z"
   },
   {
    "duration": 8,
    "start_time": "2022-11-06T05:13:44.591Z"
   },
   {
    "duration": 12,
    "start_time": "2022-11-06T05:13:44.601Z"
   },
   {
    "duration": 120,
    "start_time": "2022-11-06T05:13:44.614Z"
   },
   {
    "duration": 0,
    "start_time": "2022-11-06T05:13:44.737Z"
   },
   {
    "duration": 0,
    "start_time": "2022-11-06T05:13:44.738Z"
   },
   {
    "duration": 0,
    "start_time": "2022-11-06T05:13:44.739Z"
   },
   {
    "duration": 0,
    "start_time": "2022-11-06T05:13:44.740Z"
   },
   {
    "duration": 0,
    "start_time": "2022-11-06T05:13:44.741Z"
   },
   {
    "duration": 0,
    "start_time": "2022-11-06T05:13:44.742Z"
   },
   {
    "duration": 0,
    "start_time": "2022-11-06T05:13:44.743Z"
   },
   {
    "duration": 0,
    "start_time": "2022-11-06T05:13:44.744Z"
   },
   {
    "duration": 0,
    "start_time": "2022-11-06T05:13:44.744Z"
   },
   {
    "duration": 0,
    "start_time": "2022-11-06T05:13:44.745Z"
   },
   {
    "duration": 0,
    "start_time": "2022-11-06T05:13:44.747Z"
   },
   {
    "duration": 0,
    "start_time": "2022-11-06T05:13:44.747Z"
   },
   {
    "duration": 0,
    "start_time": "2022-11-06T05:13:44.748Z"
   },
   {
    "duration": 0,
    "start_time": "2022-11-06T05:13:44.749Z"
   },
   {
    "duration": 0,
    "start_time": "2022-11-06T05:13:44.750Z"
   },
   {
    "duration": 0,
    "start_time": "2022-11-06T05:13:44.751Z"
   },
   {
    "duration": 0,
    "start_time": "2022-11-06T05:13:44.752Z"
   },
   {
    "duration": 0,
    "start_time": "2022-11-06T05:13:44.753Z"
   },
   {
    "duration": 0,
    "start_time": "2022-11-06T05:13:44.753Z"
   },
   {
    "duration": 0,
    "start_time": "2022-11-06T05:13:44.754Z"
   },
   {
    "duration": 0,
    "start_time": "2022-11-06T05:13:44.755Z"
   },
   {
    "duration": 0,
    "start_time": "2022-11-06T05:13:44.756Z"
   },
   {
    "duration": 0,
    "start_time": "2022-11-06T05:13:44.757Z"
   },
   {
    "duration": 0,
    "start_time": "2022-11-06T05:13:44.758Z"
   },
   {
    "duration": 0,
    "start_time": "2022-11-06T05:13:44.759Z"
   },
   {
    "duration": 0,
    "start_time": "2022-11-06T05:13:44.760Z"
   },
   {
    "duration": 0,
    "start_time": "2022-11-06T05:13:44.761Z"
   },
   {
    "duration": 0,
    "start_time": "2022-11-06T05:13:44.762Z"
   },
   {
    "duration": 0,
    "start_time": "2022-11-06T05:13:44.763Z"
   },
   {
    "duration": 0,
    "start_time": "2022-11-06T05:13:44.764Z"
   },
   {
    "duration": 0,
    "start_time": "2022-11-06T05:13:44.765Z"
   },
   {
    "duration": 0,
    "start_time": "2022-11-06T05:13:44.766Z"
   },
   {
    "duration": 3,
    "start_time": "2022-11-06T05:16:11.927Z"
   },
   {
    "duration": 1160,
    "start_time": "2022-11-06T05:19:03.700Z"
   },
   {
    "duration": 50,
    "start_time": "2022-11-06T05:19:04.862Z"
   },
   {
    "duration": 17,
    "start_time": "2022-11-06T05:19:04.914Z"
   },
   {
    "duration": 14,
    "start_time": "2022-11-06T05:19:04.933Z"
   },
   {
    "duration": 18,
    "start_time": "2022-11-06T05:19:04.949Z"
   },
   {
    "duration": 22,
    "start_time": "2022-11-06T05:19:04.968Z"
   },
   {
    "duration": 2,
    "start_time": "2022-11-06T05:19:04.992Z"
   },
   {
    "duration": 10,
    "start_time": "2022-11-06T05:19:04.995Z"
   },
   {
    "duration": 5,
    "start_time": "2022-11-06T05:19:05.007Z"
   },
   {
    "duration": 23,
    "start_time": "2022-11-06T05:19:05.014Z"
   },
   {
    "duration": 12,
    "start_time": "2022-11-06T05:19:05.039Z"
   },
   {
    "duration": 120,
    "start_time": "2022-11-06T05:19:05.053Z"
   },
   {
    "duration": 0,
    "start_time": "2022-11-06T05:19:05.175Z"
   },
   {
    "duration": 0,
    "start_time": "2022-11-06T05:19:05.176Z"
   },
   {
    "duration": 0,
    "start_time": "2022-11-06T05:19:05.176Z"
   },
   {
    "duration": 0,
    "start_time": "2022-11-06T05:19:05.178Z"
   },
   {
    "duration": 1,
    "start_time": "2022-11-06T05:19:05.178Z"
   },
   {
    "duration": 0,
    "start_time": "2022-11-06T05:19:05.179Z"
   },
   {
    "duration": 0,
    "start_time": "2022-11-06T05:19:05.181Z"
   },
   {
    "duration": 0,
    "start_time": "2022-11-06T05:19:05.182Z"
   },
   {
    "duration": 0,
    "start_time": "2022-11-06T05:19:05.183Z"
   },
   {
    "duration": 0,
    "start_time": "2022-11-06T05:19:05.184Z"
   },
   {
    "duration": 0,
    "start_time": "2022-11-06T05:19:05.184Z"
   },
   {
    "duration": 0,
    "start_time": "2022-11-06T05:19:05.185Z"
   },
   {
    "duration": 0,
    "start_time": "2022-11-06T05:19:05.186Z"
   },
   {
    "duration": 0,
    "start_time": "2022-11-06T05:19:05.187Z"
   },
   {
    "duration": 0,
    "start_time": "2022-11-06T05:19:05.188Z"
   },
   {
    "duration": 0,
    "start_time": "2022-11-06T05:19:05.189Z"
   },
   {
    "duration": 0,
    "start_time": "2022-11-06T05:19:05.190Z"
   },
   {
    "duration": 0,
    "start_time": "2022-11-06T05:19:05.191Z"
   },
   {
    "duration": 0,
    "start_time": "2022-11-06T05:19:05.192Z"
   },
   {
    "duration": 0,
    "start_time": "2022-11-06T05:19:05.192Z"
   },
   {
    "duration": 0,
    "start_time": "2022-11-06T05:19:05.193Z"
   },
   {
    "duration": 0,
    "start_time": "2022-11-06T05:19:05.194Z"
   },
   {
    "duration": 0,
    "start_time": "2022-11-06T05:19:05.195Z"
   },
   {
    "duration": 0,
    "start_time": "2022-11-06T05:19:05.196Z"
   },
   {
    "duration": 0,
    "start_time": "2022-11-06T05:19:05.197Z"
   },
   {
    "duration": 0,
    "start_time": "2022-11-06T05:19:05.198Z"
   },
   {
    "duration": 0,
    "start_time": "2022-11-06T05:19:05.199Z"
   },
   {
    "duration": 45,
    "start_time": "2022-11-06T09:09:22.162Z"
   },
   {
    "duration": 1228,
    "start_time": "2022-11-06T09:09:28.091Z"
   },
   {
    "duration": 95,
    "start_time": "2022-11-06T09:09:29.321Z"
   },
   {
    "duration": 17,
    "start_time": "2022-11-06T09:09:29.420Z"
   },
   {
    "duration": 14,
    "start_time": "2022-11-06T09:09:29.438Z"
   },
   {
    "duration": 6,
    "start_time": "2022-11-06T09:09:29.453Z"
   },
   {
    "duration": 21,
    "start_time": "2022-11-06T09:09:29.460Z"
   },
   {
    "duration": 23,
    "start_time": "2022-11-06T09:09:29.482Z"
   },
   {
    "duration": 27,
    "start_time": "2022-11-06T09:09:29.506Z"
   },
   {
    "duration": 20,
    "start_time": "2022-11-06T09:09:29.536Z"
   },
   {
    "duration": 27,
    "start_time": "2022-11-06T09:09:29.557Z"
   },
   {
    "duration": 30,
    "start_time": "2022-11-06T09:09:29.585Z"
   },
   {
    "duration": 32,
    "start_time": "2022-11-06T09:09:29.617Z"
   },
   {
    "duration": 99,
    "start_time": "2022-11-06T09:09:29.651Z"
   },
   {
    "duration": 0,
    "start_time": "2022-11-06T09:09:29.752Z"
   },
   {
    "duration": 0,
    "start_time": "2022-11-06T09:09:29.753Z"
   },
   {
    "duration": 0,
    "start_time": "2022-11-06T09:09:29.755Z"
   },
   {
    "duration": 0,
    "start_time": "2022-11-06T09:09:29.756Z"
   },
   {
    "duration": 0,
    "start_time": "2022-11-06T09:09:29.757Z"
   },
   {
    "duration": 0,
    "start_time": "2022-11-06T09:09:29.758Z"
   },
   {
    "duration": 0,
    "start_time": "2022-11-06T09:09:29.759Z"
   },
   {
    "duration": 0,
    "start_time": "2022-11-06T09:09:29.760Z"
   },
   {
    "duration": 0,
    "start_time": "2022-11-06T09:09:29.761Z"
   },
   {
    "duration": 0,
    "start_time": "2022-11-06T09:09:29.762Z"
   },
   {
    "duration": 0,
    "start_time": "2022-11-06T09:09:29.763Z"
   },
   {
    "duration": 0,
    "start_time": "2022-11-06T09:09:29.764Z"
   },
   {
    "duration": 0,
    "start_time": "2022-11-06T09:09:29.765Z"
   },
   {
    "duration": 0,
    "start_time": "2022-11-06T09:09:29.766Z"
   },
   {
    "duration": 0,
    "start_time": "2022-11-06T09:09:29.767Z"
   },
   {
    "duration": 0,
    "start_time": "2022-11-06T09:09:29.768Z"
   },
   {
    "duration": 0,
    "start_time": "2022-11-06T09:09:29.768Z"
   },
   {
    "duration": 0,
    "start_time": "2022-11-06T09:09:29.769Z"
   },
   {
    "duration": 0,
    "start_time": "2022-11-06T09:09:29.770Z"
   },
   {
    "duration": 0,
    "start_time": "2022-11-06T09:09:29.771Z"
   },
   {
    "duration": 0,
    "start_time": "2022-11-06T09:09:29.772Z"
   },
   {
    "duration": 0,
    "start_time": "2022-11-06T09:09:29.773Z"
   },
   {
    "duration": 0,
    "start_time": "2022-11-06T09:09:29.774Z"
   },
   {
    "duration": 0,
    "start_time": "2022-11-06T09:09:29.775Z"
   },
   {
    "duration": 0,
    "start_time": "2022-11-06T09:09:29.776Z"
   },
   {
    "duration": 0,
    "start_time": "2022-11-06T09:09:29.822Z"
   },
   {
    "duration": 0,
    "start_time": "2022-11-06T09:09:29.823Z"
   },
   {
    "duration": 9,
    "start_time": "2022-11-06T09:10:12.824Z"
   },
   {
    "duration": 9,
    "start_time": "2022-11-06T09:10:43.328Z"
   },
   {
    "duration": 8,
    "start_time": "2022-11-06T09:10:48.456Z"
   },
   {
    "duration": 8,
    "start_time": "2022-11-06T09:11:38.480Z"
   },
   {
    "duration": 8,
    "start_time": "2022-11-06T09:11:44.426Z"
   },
   {
    "duration": 8,
    "start_time": "2022-11-06T09:16:36.156Z"
   },
   {
    "duration": 1072,
    "start_time": "2022-11-06T09:17:02.922Z"
   },
   {
    "duration": 51,
    "start_time": "2022-11-06T09:17:03.996Z"
   },
   {
    "duration": 17,
    "start_time": "2022-11-06T09:17:04.048Z"
   },
   {
    "duration": 13,
    "start_time": "2022-11-06T09:17:04.067Z"
   },
   {
    "duration": 7,
    "start_time": "2022-11-06T09:17:04.082Z"
   },
   {
    "duration": 33,
    "start_time": "2022-11-06T09:17:04.090Z"
   },
   {
    "duration": 9,
    "start_time": "2022-11-06T09:17:04.124Z"
   },
   {
    "duration": 15,
    "start_time": "2022-11-06T09:17:04.134Z"
   },
   {
    "duration": 12,
    "start_time": "2022-11-06T09:17:04.151Z"
   },
   {
    "duration": 21,
    "start_time": "2022-11-06T09:17:04.164Z"
   },
   {
    "duration": 13,
    "start_time": "2022-11-06T09:17:04.187Z"
   },
   {
    "duration": 11,
    "start_time": "2022-11-06T09:17:04.202Z"
   },
   {
    "duration": 25,
    "start_time": "2022-11-06T09:17:04.214Z"
   },
   {
    "duration": 4,
    "start_time": "2022-11-06T09:17:04.243Z"
   },
   {
    "duration": 184,
    "start_time": "2022-11-06T09:17:04.248Z"
   },
   {
    "duration": 15,
    "start_time": "2022-11-06T09:17:04.433Z"
   },
   {
    "duration": 17,
    "start_time": "2022-11-06T09:17:04.450Z"
   },
   {
    "duration": 8,
    "start_time": "2022-11-06T09:17:04.468Z"
   },
   {
    "duration": 232,
    "start_time": "2022-11-06T09:17:04.477Z"
   },
   {
    "duration": 711,
    "start_time": "2022-11-06T09:17:04.711Z"
   },
   {
    "duration": 5,
    "start_time": "2022-11-06T09:17:05.424Z"
   },
   {
    "duration": 19,
    "start_time": "2022-11-06T09:17:05.430Z"
   },
   {
    "duration": 246,
    "start_time": "2022-11-06T09:17:05.451Z"
   },
   {
    "duration": 254,
    "start_time": "2022-11-06T09:17:05.699Z"
   },
   {
    "duration": 7,
    "start_time": "2022-11-06T09:17:05.955Z"
   },
   {
    "duration": 15,
    "start_time": "2022-11-06T09:17:05.964Z"
   },
   {
    "duration": 7,
    "start_time": "2022-11-06T09:17:05.980Z"
   },
   {
    "duration": 248,
    "start_time": "2022-11-06T09:17:05.989Z"
   },
   {
    "duration": 182,
    "start_time": "2022-11-06T09:17:06.239Z"
   },
   {
    "duration": 5,
    "start_time": "2022-11-06T09:17:06.423Z"
   },
   {
    "duration": 18,
    "start_time": "2022-11-06T09:17:06.429Z"
   },
   {
    "duration": 9,
    "start_time": "2022-11-06T09:17:06.449Z"
   },
   {
    "duration": 22,
    "start_time": "2022-11-06T09:17:06.460Z"
   },
   {
    "duration": 76,
    "start_time": "2022-11-06T09:17:06.483Z"
   },
   {
    "duration": 17,
    "start_time": "2022-11-06T09:17:06.561Z"
   },
   {
    "duration": 20,
    "start_time": "2022-11-06T09:17:06.580Z"
   },
   {
    "duration": 141,
    "start_time": "2022-11-06T09:17:06.601Z"
   },
   {
    "duration": 8,
    "start_time": "2022-11-06T09:17:06.744Z"
   },
   {
    "duration": 17,
    "start_time": "2022-11-06T09:17:06.754Z"
   },
   {
    "duration": 4,
    "start_time": "2022-11-06T09:17:41.335Z"
   },
   {
    "duration": 98,
    "start_time": "2022-11-06T09:17:48.246Z"
   },
   {
    "duration": 3,
    "start_time": "2022-11-06T09:17:58.764Z"
   },
   {
    "duration": 49,
    "start_time": "2022-11-06T09:17:59.397Z"
   },
   {
    "duration": 12,
    "start_time": "2022-11-06T09:18:00.949Z"
   },
   {
    "duration": 13,
    "start_time": "2022-11-06T09:18:02.101Z"
   },
   {
    "duration": 6,
    "start_time": "2022-11-06T09:18:05.126Z"
   },
   {
    "duration": 14,
    "start_time": "2022-11-06T09:18:07.285Z"
   },
   {
    "duration": 9,
    "start_time": "2022-11-06T09:18:08.038Z"
   },
   {
    "duration": 11,
    "start_time": "2022-11-06T09:18:16.045Z"
   },
   {
    "duration": 5,
    "start_time": "2022-11-06T09:18:17.253Z"
   },
   {
    "duration": 18,
    "start_time": "2022-11-06T09:18:39.686Z"
   },
   {
    "duration": 18,
    "start_time": "2022-11-06T09:18:44.754Z"
   },
   {
    "duration": 9,
    "start_time": "2022-11-06T09:18:49.644Z"
   },
   {
    "duration": 14,
    "start_time": "2022-11-06T09:18:50.925Z"
   },
   {
    "duration": 5,
    "start_time": "2022-11-06T09:18:51.541Z"
   },
   {
    "duration": 176,
    "start_time": "2022-11-06T09:18:53.208Z"
   },
   {
    "duration": 14,
    "start_time": "2022-11-06T09:18:53.845Z"
   },
   {
    "duration": 5,
    "start_time": "2022-11-06T09:18:54.143Z"
   },
   {
    "duration": 6,
    "start_time": "2022-11-06T09:18:54.445Z"
   },
   {
    "duration": 209,
    "start_time": "2022-11-06T09:18:54.725Z"
   },
   {
    "duration": 758,
    "start_time": "2022-11-06T09:18:55.342Z"
   },
   {
    "duration": 5,
    "start_time": "2022-11-06T09:18:56.102Z"
   },
   {
    "duration": 13,
    "start_time": "2022-11-06T09:18:56.222Z"
   },
   {
    "duration": 225,
    "start_time": "2022-11-06T09:18:56.493Z"
   },
   {
    "duration": 345,
    "start_time": "2022-11-06T09:18:57.005Z"
   },
   {
    "duration": 8,
    "start_time": "2022-11-06T09:18:57.352Z"
   },
   {
    "duration": 18,
    "start_time": "2022-11-06T09:18:58.100Z"
   },
   {
    "duration": 10,
    "start_time": "2022-11-06T09:18:58.644Z"
   },
   {
    "duration": 224,
    "start_time": "2022-11-06T09:18:58.890Z"
   },
   {
    "duration": 192,
    "start_time": "2022-11-06T09:18:59.161Z"
   },
   {
    "duration": 4,
    "start_time": "2022-11-06T09:18:59.845Z"
   },
   {
    "duration": 21,
    "start_time": "2022-11-06T09:19:00.122Z"
   },
   {
    "duration": 9,
    "start_time": "2022-11-06T09:19:00.358Z"
   },
   {
    "duration": 21,
    "start_time": "2022-11-06T09:19:01.053Z"
   },
   {
    "duration": 27,
    "start_time": "2022-11-06T09:19:02.122Z"
   },
   {
    "duration": 20,
    "start_time": "2022-11-06T09:19:02.605Z"
   },
   {
    "duration": 25,
    "start_time": "2022-11-06T09:19:03.095Z"
   },
   {
    "duration": 142,
    "start_time": "2022-11-06T09:19:03.322Z"
   },
   {
    "duration": 9,
    "start_time": "2022-11-06T09:19:04.445Z"
   },
   {
    "duration": 10,
    "start_time": "2022-11-06T09:19:05.077Z"
   },
   {
    "duration": 8,
    "start_time": "2022-11-06T09:20:31.953Z"
   },
   {
    "duration": 7,
    "start_time": "2022-11-06T09:20:35.006Z"
   },
   {
    "duration": 11,
    "start_time": "2022-11-06T09:20:35.421Z"
   },
   {
    "duration": 6,
    "start_time": "2022-11-06T09:20:37.122Z"
   },
   {
    "duration": 18,
    "start_time": "2022-11-06T09:20:40.521Z"
   },
   {
    "duration": 7,
    "start_time": "2022-11-06T09:20:58.935Z"
   },
   {
    "duration": 5,
    "start_time": "2022-11-06T09:21:04.647Z"
   },
   {
    "duration": 4,
    "start_time": "2022-11-06T09:21:18.752Z"
   },
   {
    "duration": 15,
    "start_time": "2022-11-06T09:41:58.800Z"
   },
   {
    "duration": 16,
    "start_time": "2022-11-06T09:42:19.642Z"
   },
   {
    "duration": 18,
    "start_time": "2022-11-06T09:45:00.020Z"
   },
   {
    "duration": 15,
    "start_time": "2022-11-06T09:45:05.471Z"
   },
   {
    "duration": 7,
    "start_time": "2022-11-06T09:45:08.806Z"
   },
   {
    "duration": 5,
    "start_time": "2022-11-06T09:45:10.447Z"
   },
   {
    "duration": 6,
    "start_time": "2022-11-06T09:45:11.541Z"
   },
   {
    "duration": 4,
    "start_time": "2022-11-06T09:45:14.662Z"
   },
   {
    "duration": 14,
    "start_time": "2022-11-06T09:45:18.134Z"
   },
   {
    "duration": 4,
    "start_time": "2022-11-06T09:45:19.895Z"
   },
   {
    "duration": 12,
    "start_time": "2022-11-06T09:45:58.073Z"
   },
   {
    "duration": 12,
    "start_time": "2022-11-06T09:46:46.696Z"
   },
   {
    "duration": 14,
    "start_time": "2022-11-06T09:48:59.033Z"
   },
   {
    "duration": 12,
    "start_time": "2022-11-06T09:49:06.457Z"
   },
   {
    "duration": 18,
    "start_time": "2022-11-06T09:49:09.620Z"
   },
   {
    "duration": 6,
    "start_time": "2022-11-06T09:49:13.703Z"
   },
   {
    "duration": 12,
    "start_time": "2022-11-06T09:49:14.808Z"
   },
   {
    "duration": 1024,
    "start_time": "2022-11-06T09:49:21.174Z"
   },
   {
    "duration": 58,
    "start_time": "2022-11-06T09:49:22.200Z"
   },
   {
    "duration": 16,
    "start_time": "2022-11-06T09:49:22.260Z"
   },
   {
    "duration": 12,
    "start_time": "2022-11-06T09:49:22.278Z"
   },
   {
    "duration": 6,
    "start_time": "2022-11-06T09:49:22.291Z"
   },
   {
    "duration": 14,
    "start_time": "2022-11-06T09:49:22.299Z"
   },
   {
    "duration": 16,
    "start_time": "2022-11-06T09:49:22.331Z"
   },
   {
    "duration": 7,
    "start_time": "2022-11-06T09:49:22.348Z"
   },
   {
    "duration": 7,
    "start_time": "2022-11-06T09:49:22.356Z"
   },
   {
    "duration": 9,
    "start_time": "2022-11-06T09:49:22.366Z"
   },
   {
    "duration": 13,
    "start_time": "2022-11-06T09:49:22.376Z"
   },
   {
    "duration": 7,
    "start_time": "2022-11-06T09:49:22.390Z"
   },
   {
    "duration": 35,
    "start_time": "2022-11-06T09:49:22.398Z"
   },
   {
    "duration": 4,
    "start_time": "2022-11-06T09:49:22.434Z"
   },
   {
    "duration": 193,
    "start_time": "2022-11-06T09:49:22.440Z"
   },
   {
    "duration": 14,
    "start_time": "2022-11-06T09:49:22.636Z"
   },
   {
    "duration": 4,
    "start_time": "2022-11-06T09:49:22.652Z"
   },
   {
    "duration": 9,
    "start_time": "2022-11-06T09:49:22.658Z"
   },
   {
    "duration": 268,
    "start_time": "2022-11-06T09:49:22.669Z"
   },
   {
    "duration": 760,
    "start_time": "2022-11-06T09:49:22.939Z"
   },
   {
    "duration": 6,
    "start_time": "2022-11-06T09:49:23.701Z"
   },
   {
    "duration": 43,
    "start_time": "2022-11-06T09:49:23.709Z"
   },
   {
    "duration": 242,
    "start_time": "2022-11-06T09:49:23.754Z"
   },
   {
    "duration": 293,
    "start_time": "2022-11-06T09:49:23.998Z"
   },
   {
    "duration": 8,
    "start_time": "2022-11-06T09:49:24.292Z"
   },
   {
    "duration": 35,
    "start_time": "2022-11-06T09:49:24.301Z"
   },
   {
    "duration": 9,
    "start_time": "2022-11-06T09:49:24.338Z"
   },
   {
    "duration": 260,
    "start_time": "2022-11-06T09:49:24.350Z"
   },
   {
    "duration": 195,
    "start_time": "2022-11-06T09:49:24.611Z"
   },
   {
    "duration": 5,
    "start_time": "2022-11-06T09:49:24.808Z"
   },
   {
    "duration": 26,
    "start_time": "2022-11-06T09:49:24.814Z"
   },
   {
    "duration": 9,
    "start_time": "2022-11-06T09:49:24.842Z"
   },
   {
    "duration": 19,
    "start_time": "2022-11-06T09:49:24.853Z"
   },
   {
    "duration": 74,
    "start_time": "2022-11-06T09:49:24.873Z"
   },
   {
    "duration": 20,
    "start_time": "2022-11-06T09:49:24.948Z"
   },
   {
    "duration": 21,
    "start_time": "2022-11-06T09:49:24.969Z"
   },
   {
    "duration": 167,
    "start_time": "2022-11-06T09:49:24.991Z"
   },
   {
    "duration": 9,
    "start_time": "2022-11-06T09:49:25.159Z"
   },
   {
    "duration": 19,
    "start_time": "2022-11-06T09:49:25.169Z"
   },
   {
    "duration": 141,
    "start_time": "2022-11-06T09:50:49.363Z"
   },
   {
    "duration": 5,
    "start_time": "2022-11-06T09:50:53.464Z"
   },
   {
    "duration": 3,
    "start_time": "2022-11-06T09:50:59.652Z"
   },
   {
    "duration": 59,
    "start_time": "2022-11-06T09:51:00.138Z"
   },
   {
    "duration": 14,
    "start_time": "2022-11-06T09:51:01.773Z"
   },
   {
    "duration": 13,
    "start_time": "2022-11-06T09:51:02.337Z"
   },
   {
    "duration": 7,
    "start_time": "2022-11-06T09:51:07.235Z"
   },
   {
    "duration": 14,
    "start_time": "2022-11-06T09:51:09.178Z"
   },
   {
    "duration": 25,
    "start_time": "2022-11-06T09:51:09.908Z"
   },
   {
    "duration": 10,
    "start_time": "2022-11-06T09:51:14.545Z"
   },
   {
    "duration": 5,
    "start_time": "2022-11-06T09:51:15.089Z"
   },
   {
    "duration": 6,
    "start_time": "2022-11-06T09:51:16.037Z"
   },
   {
    "duration": 6,
    "start_time": "2022-11-06T09:51:24.037Z"
   },
   {
    "duration": 19,
    "start_time": "2022-11-06T09:52:39.920Z"
   },
   {
    "duration": 8,
    "start_time": "2022-11-06T09:53:23.203Z"
   },
   {
    "duration": 14,
    "start_time": "2022-11-06T09:53:26.791Z"
   },
   {
    "duration": 19,
    "start_time": "2022-11-06T09:53:29.157Z"
   },
   {
    "duration": 20,
    "start_time": "2022-11-06T09:53:31.923Z"
   },
   {
    "duration": 5,
    "start_time": "2022-11-06T09:53:33.978Z"
   },
   {
    "duration": 1343,
    "start_time": "2022-11-06T09:53:51.639Z"
   },
   {
    "duration": 66,
    "start_time": "2022-11-06T09:53:52.984Z"
   },
   {
    "duration": 24,
    "start_time": "2022-11-06T09:53:53.052Z"
   },
   {
    "duration": 58,
    "start_time": "2022-11-06T09:53:53.078Z"
   },
   {
    "duration": 58,
    "start_time": "2022-11-06T09:53:53.138Z"
   },
   {
    "duration": 46,
    "start_time": "2022-11-06T09:53:53.197Z"
   },
   {
    "duration": 35,
    "start_time": "2022-11-06T09:53:53.245Z"
   },
   {
    "duration": 10,
    "start_time": "2022-11-06T09:53:53.282Z"
   },
   {
    "duration": 51,
    "start_time": "2022-11-06T09:53:53.294Z"
   },
   {
    "duration": 20,
    "start_time": "2022-11-06T09:53:53.349Z"
   },
   {
    "duration": 45,
    "start_time": "2022-11-06T09:53:53.372Z"
   },
   {
    "duration": 33,
    "start_time": "2022-11-06T09:53:53.419Z"
   },
   {
    "duration": 27,
    "start_time": "2022-11-06T09:53:53.454Z"
   },
   {
    "duration": 5,
    "start_time": "2022-11-06T09:53:53.482Z"
   },
   {
    "duration": 297,
    "start_time": "2022-11-06T09:53:53.489Z"
   },
   {
    "duration": 22,
    "start_time": "2022-11-06T09:53:53.789Z"
   },
   {
    "duration": 53,
    "start_time": "2022-11-06T09:53:53.813Z"
   },
   {
    "duration": 21,
    "start_time": "2022-11-06T09:53:53.868Z"
   },
   {
    "duration": 263,
    "start_time": "2022-11-06T09:53:53.891Z"
   },
   {
    "duration": 773,
    "start_time": "2022-11-06T09:53:54.189Z"
   },
   {
    "duration": 6,
    "start_time": "2022-11-06T09:53:54.964Z"
   },
   {
    "duration": 48,
    "start_time": "2022-11-06T09:53:54.971Z"
   },
   {
    "duration": 262,
    "start_time": "2022-11-06T09:53:55.021Z"
   },
   {
    "duration": 293,
    "start_time": "2022-11-06T09:53:55.285Z"
   },
   {
    "duration": 10,
    "start_time": "2022-11-06T09:53:55.580Z"
   },
   {
    "duration": 26,
    "start_time": "2022-11-06T09:53:55.592Z"
   },
   {
    "duration": 31,
    "start_time": "2022-11-06T09:53:55.620Z"
   },
   {
    "duration": 310,
    "start_time": "2022-11-06T09:53:55.655Z"
   },
   {
    "duration": 196,
    "start_time": "2022-11-06T09:53:55.966Z"
   },
   {
    "duration": 4,
    "start_time": "2022-11-06T09:53:56.164Z"
   },
   {
    "duration": 18,
    "start_time": "2022-11-06T09:53:56.170Z"
   },
   {
    "duration": 9,
    "start_time": "2022-11-06T09:53:56.190Z"
   },
   {
    "duration": 37,
    "start_time": "2022-11-06T09:53:56.200Z"
   },
   {
    "duration": 54,
    "start_time": "2022-11-06T09:53:56.240Z"
   },
   {
    "duration": 46,
    "start_time": "2022-11-06T09:53:56.295Z"
   },
   {
    "duration": 23,
    "start_time": "2022-11-06T09:53:56.343Z"
   },
   {
    "duration": 161,
    "start_time": "2022-11-06T09:53:56.368Z"
   },
   {
    "duration": 9,
    "start_time": "2022-11-06T09:53:56.533Z"
   },
   {
    "duration": 18,
    "start_time": "2022-11-06T09:53:56.543Z"
   },
   {
    "duration": 1102,
    "start_time": "2022-11-06T09:54:10.124Z"
   },
   {
    "duration": 52,
    "start_time": "2022-11-06T09:54:11.228Z"
   },
   {
    "duration": 16,
    "start_time": "2022-11-06T09:54:11.282Z"
   },
   {
    "duration": 14,
    "start_time": "2022-11-06T09:54:11.299Z"
   },
   {
    "duration": 8,
    "start_time": "2022-11-06T09:54:11.315Z"
   },
   {
    "duration": 14,
    "start_time": "2022-11-06T09:54:11.336Z"
   },
   {
    "duration": 17,
    "start_time": "2022-11-06T09:54:11.352Z"
   },
   {
    "duration": 9,
    "start_time": "2022-11-06T09:54:11.371Z"
   },
   {
    "duration": 11,
    "start_time": "2022-11-06T09:54:11.382Z"
   },
   {
    "duration": 8,
    "start_time": "2022-11-06T09:54:11.395Z"
   },
   {
    "duration": 31,
    "start_time": "2022-11-06T09:54:11.404Z"
   },
   {
    "duration": 12,
    "start_time": "2022-11-06T09:54:11.438Z"
   },
   {
    "duration": 18,
    "start_time": "2022-11-06T09:54:11.452Z"
   },
   {
    "duration": 5,
    "start_time": "2022-11-06T09:54:11.472Z"
   },
   {
    "duration": 241,
    "start_time": "2022-11-06T09:54:11.479Z"
   },
   {
    "duration": 20,
    "start_time": "2022-11-06T09:54:11.729Z"
   },
   {
    "duration": 5,
    "start_time": "2022-11-06T09:54:11.751Z"
   },
   {
    "duration": 8,
    "start_time": "2022-11-06T09:54:11.758Z"
   },
   {
    "duration": 263,
    "start_time": "2022-11-06T09:54:11.768Z"
   },
   {
    "duration": 765,
    "start_time": "2022-11-06T09:54:12.036Z"
   },
   {
    "duration": 6,
    "start_time": "2022-11-06T09:54:12.802Z"
   },
   {
    "duration": 30,
    "start_time": "2022-11-06T09:54:12.810Z"
   },
   {
    "duration": 269,
    "start_time": "2022-11-06T09:54:12.841Z"
   },
   {
    "duration": 274,
    "start_time": "2022-11-06T09:54:13.112Z"
   },
   {
    "duration": 9,
    "start_time": "2022-11-06T09:54:13.388Z"
   },
   {
    "duration": 35,
    "start_time": "2022-11-06T09:54:13.398Z"
   },
   {
    "duration": 15,
    "start_time": "2022-11-06T09:54:13.435Z"
   },
   {
    "duration": 251,
    "start_time": "2022-11-06T09:54:13.454Z"
   },
   {
    "duration": 197,
    "start_time": "2022-11-06T09:54:13.707Z"
   },
   {
    "duration": 4,
    "start_time": "2022-11-06T09:54:13.906Z"
   },
   {
    "duration": 29,
    "start_time": "2022-11-06T09:54:13.912Z"
   },
   {
    "duration": 16,
    "start_time": "2022-11-06T09:54:13.943Z"
   },
   {
    "duration": 28,
    "start_time": "2022-11-06T09:54:13.961Z"
   },
   {
    "duration": 68,
    "start_time": "2022-11-06T09:54:13.991Z"
   },
   {
    "duration": 20,
    "start_time": "2022-11-06T09:54:14.061Z"
   },
   {
    "duration": 51,
    "start_time": "2022-11-06T09:54:14.082Z"
   },
   {
    "duration": 134,
    "start_time": "2022-11-06T09:54:14.135Z"
   },
   {
    "duration": 9,
    "start_time": "2022-11-06T09:54:14.270Z"
   },
   {
    "duration": 9,
    "start_time": "2022-11-06T09:54:14.281Z"
   },
   {
    "duration": 3,
    "start_time": "2022-11-06T09:54:33.541Z"
   },
   {
    "duration": 60,
    "start_time": "2022-11-06T09:54:33.948Z"
   },
   {
    "duration": 20,
    "start_time": "2022-11-06T09:54:35.060Z"
   },
   {
    "duration": 12,
    "start_time": "2022-11-06T09:54:38.177Z"
   },
   {
    "duration": 13,
    "start_time": "2022-11-06T09:54:38.677Z"
   },
   {
    "duration": 6,
    "start_time": "2022-11-06T09:54:39.540Z"
   },
   {
    "duration": 9,
    "start_time": "2022-11-06T09:54:41.164Z"
   },
   {
    "duration": 16,
    "start_time": "2022-11-06T09:54:41.587Z"
   },
   {
    "duration": 12,
    "start_time": "2022-11-06T09:54:44.328Z"
   },
   {
    "duration": 5,
    "start_time": "2022-11-06T09:54:44.875Z"
   },
   {
    "duration": 6,
    "start_time": "2022-11-06T09:54:48.307Z"
   },
   {
    "duration": 13,
    "start_time": "2022-11-06T09:54:54.683Z"
   },
   {
    "duration": 8,
    "start_time": "2022-11-06T09:54:56.737Z"
   },
   {
    "duration": 4,
    "start_time": "2022-11-06T09:55:39.965Z"
   },
   {
    "duration": 126,
    "start_time": "2022-11-06T09:55:47.156Z"
   },
   {
    "duration": 9,
    "start_time": "2022-11-06T09:56:06.949Z"
   },
   {
    "duration": 11,
    "start_time": "2022-11-06T09:56:10.956Z"
   },
   {
    "duration": 5,
    "start_time": "2022-11-06T09:56:32.745Z"
   },
   {
    "duration": 4,
    "start_time": "2022-11-06T09:56:40.920Z"
   },
   {
    "duration": 82,
    "start_time": "2022-11-06T09:56:41.540Z"
   },
   {
    "duration": 20,
    "start_time": "2022-11-06T09:56:42.720Z"
   },
   {
    "duration": 15,
    "start_time": "2022-11-06T09:56:43.491Z"
   },
   {
    "duration": 7,
    "start_time": "2022-11-06T09:56:44.108Z"
   },
   {
    "duration": 16,
    "start_time": "2022-11-06T09:56:45.735Z"
   },
   {
    "duration": 17,
    "start_time": "2022-11-06T09:56:47.452Z"
   },
   {
    "duration": 8,
    "start_time": "2022-11-06T09:56:52.195Z"
   },
   {
    "duration": 4,
    "start_time": "2022-11-06T09:56:53.184Z"
   },
   {
    "duration": 6,
    "start_time": "2022-11-06T09:56:54.508Z"
   },
   {
    "duration": 15,
    "start_time": "2022-11-06T09:56:58.965Z"
   },
   {
    "duration": 11,
    "start_time": "2022-11-06T09:56:59.869Z"
   },
   {
    "duration": 8,
    "start_time": "2022-11-06T09:57:04.980Z"
   },
   {
    "duration": 6,
    "start_time": "2022-11-06T10:02:21.956Z"
   },
   {
    "duration": 12,
    "start_time": "2022-11-06T10:02:27.120Z"
   },
   {
    "duration": 49,
    "start_time": "2022-11-06T10:02:27.236Z"
   },
   {
    "duration": 21,
    "start_time": "2022-11-06T10:02:28.119Z"
   },
   {
    "duration": 21,
    "start_time": "2022-11-06T10:02:28.990Z"
   },
   {
    "duration": 10,
    "start_time": "2022-11-06T10:02:29.619Z"
   },
   {
    "duration": 10,
    "start_time": "2022-11-06T10:02:31.782Z"
   },
   {
    "duration": 16,
    "start_time": "2022-11-06T10:02:32.374Z"
   },
   {
    "duration": 8,
    "start_time": "2022-11-06T10:02:36.587Z"
   },
   {
    "duration": 5,
    "start_time": "2022-11-06T10:02:36.742Z"
   },
   {
    "duration": 19,
    "start_time": "2022-11-06T10:02:38.919Z"
   },
   {
    "duration": 5,
    "start_time": "2022-11-06T10:02:41.301Z"
   },
   {
    "duration": 11,
    "start_time": "2022-11-06T10:02:43.122Z"
   },
   {
    "duration": 8,
    "start_time": "2022-11-06T10:02:44.486Z"
   },
   {
    "duration": 7,
    "start_time": "2022-11-06T10:02:50.959Z"
   },
   {
    "duration": 79,
    "start_time": "2022-11-06T10:04:32.288Z"
   },
   {
    "duration": 61,
    "start_time": "2022-11-06T10:04:39.583Z"
   },
   {
    "duration": 1093,
    "start_time": "2022-11-06T10:05:17.152Z"
   },
   {
    "duration": 52,
    "start_time": "2022-11-06T10:05:18.247Z"
   },
   {
    "duration": 17,
    "start_time": "2022-11-06T10:05:18.301Z"
   },
   {
    "duration": 24,
    "start_time": "2022-11-06T10:05:18.321Z"
   },
   {
    "duration": 11,
    "start_time": "2022-11-06T10:05:18.347Z"
   },
   {
    "duration": 14,
    "start_time": "2022-11-06T10:05:18.360Z"
   },
   {
    "duration": 21,
    "start_time": "2022-11-06T10:05:18.376Z"
   },
   {
    "duration": 39,
    "start_time": "2022-11-06T10:05:18.399Z"
   },
   {
    "duration": 8,
    "start_time": "2022-11-06T10:05:18.440Z"
   },
   {
    "duration": 10,
    "start_time": "2022-11-06T10:05:18.451Z"
   },
   {
    "duration": 9,
    "start_time": "2022-11-06T10:05:18.462Z"
   },
   {
    "duration": 17,
    "start_time": "2022-11-06T10:05:18.472Z"
   },
   {
    "duration": 11,
    "start_time": "2022-11-06T10:05:18.491Z"
   },
   {
    "duration": 17,
    "start_time": "2022-11-06T10:05:18.504Z"
   },
   {
    "duration": 7,
    "start_time": "2022-11-06T10:05:18.528Z"
   },
   {
    "duration": 214,
    "start_time": "2022-11-06T10:05:18.537Z"
   },
   {
    "duration": 14,
    "start_time": "2022-11-06T10:05:18.753Z"
   },
   {
    "duration": 6,
    "start_time": "2022-11-06T10:05:18.768Z"
   },
   {
    "duration": 9,
    "start_time": "2022-11-06T10:05:18.776Z"
   },
   {
    "duration": 304,
    "start_time": "2022-11-06T10:05:18.786Z"
   },
   {
    "duration": 1010,
    "start_time": "2022-11-06T10:05:19.093Z"
   },
   {
    "duration": 7,
    "start_time": "2022-11-06T10:05:20.105Z"
   },
   {
    "duration": 25,
    "start_time": "2022-11-06T10:05:20.132Z"
   },
   {
    "duration": 275,
    "start_time": "2022-11-06T10:05:20.160Z"
   },
   {
    "duration": 295,
    "start_time": "2022-11-06T10:05:20.439Z"
   },
   {
    "duration": 12,
    "start_time": "2022-11-06T10:05:20.738Z"
   },
   {
    "duration": 24,
    "start_time": "2022-11-06T10:05:20.751Z"
   },
   {
    "duration": 9,
    "start_time": "2022-11-06T10:05:20.778Z"
   },
   {
    "duration": 271,
    "start_time": "2022-11-06T10:05:20.789Z"
   },
   {
    "duration": 190,
    "start_time": "2022-11-06T10:05:21.061Z"
   },
   {
    "duration": 4,
    "start_time": "2022-11-06T10:05:21.252Z"
   },
   {
    "duration": 22,
    "start_time": "2022-11-06T10:05:21.258Z"
   },
   {
    "duration": 9,
    "start_time": "2022-11-06T10:05:21.282Z"
   },
   {
    "duration": 49,
    "start_time": "2022-11-06T10:05:21.292Z"
   },
   {
    "duration": 52,
    "start_time": "2022-11-06T10:05:21.342Z"
   },
   {
    "duration": 55,
    "start_time": "2022-11-06T10:05:21.396Z"
   },
   {
    "duration": 34,
    "start_time": "2022-11-06T10:05:21.453Z"
   },
   {
    "duration": 158,
    "start_time": "2022-11-06T10:05:21.489Z"
   },
   {
    "duration": 13,
    "start_time": "2022-11-06T10:05:21.649Z"
   },
   {
    "duration": 11,
    "start_time": "2022-11-06T10:05:21.664Z"
   },
   {
    "duration": 3,
    "start_time": "2022-11-06T10:05:41.044Z"
   },
   {
    "duration": 53,
    "start_time": "2022-11-06T10:05:45.379Z"
   },
   {
    "duration": 16,
    "start_time": "2022-11-06T10:05:48.241Z"
   },
   {
    "duration": 16,
    "start_time": "2022-11-06T10:05:50.534Z"
   },
   {
    "duration": 7,
    "start_time": "2022-11-06T10:05:51.348Z"
   },
   {
    "duration": 10,
    "start_time": "2022-11-06T10:05:59.299Z"
   },
   {
    "duration": 19,
    "start_time": "2022-11-06T10:06:01.549Z"
   },
   {
    "duration": 8,
    "start_time": "2022-11-06T10:06:35.139Z"
   },
   {
    "duration": 6,
    "start_time": "2022-11-06T10:06:36.756Z"
   },
   {
    "duration": 6,
    "start_time": "2022-11-06T10:06:37.340Z"
   },
   {
    "duration": 5,
    "start_time": "2022-11-06T10:06:41.437Z"
   },
   {
    "duration": 7,
    "start_time": "2022-11-06T10:06:42.437Z"
   },
   {
    "duration": 13,
    "start_time": "2022-11-06T10:06:46.136Z"
   },
   {
    "duration": 20,
    "start_time": "2022-11-06T10:06:54.019Z"
   },
   {
    "duration": 4,
    "start_time": "2022-11-06T10:06:55.844Z"
   },
   {
    "duration": 175,
    "start_time": "2022-11-06T10:06:57.745Z"
   },
   {
    "duration": 16,
    "start_time": "2022-11-06T10:06:58.044Z"
   },
   {
    "duration": 15,
    "start_time": "2022-11-06T10:06:58.319Z"
   },
   {
    "duration": 7,
    "start_time": "2022-11-06T10:06:58.675Z"
   },
   {
    "duration": 275,
    "start_time": "2022-11-06T10:06:58.973Z"
   },
   {
    "duration": 775,
    "start_time": "2022-11-06T10:07:00.036Z"
   },
   {
    "duration": 12,
    "start_time": "2022-11-06T10:07:00.814Z"
   },
   {
    "duration": 14,
    "start_time": "2022-11-06T10:07:00.884Z"
   },
   {
    "duration": 237,
    "start_time": "2022-11-06T10:07:01.044Z"
   },
   {
    "duration": 387,
    "start_time": "2022-11-06T10:07:01.388Z"
   },
   {
    "duration": 8,
    "start_time": "2022-11-06T10:07:01.777Z"
   },
   {
    "duration": 16,
    "start_time": "2022-11-06T10:07:02.744Z"
   },
   {
    "duration": 9,
    "start_time": "2022-11-06T10:07:03.444Z"
   },
   {
    "duration": 173,
    "start_time": "2022-11-06T10:07:03.841Z"
   },
   {
    "duration": 186,
    "start_time": "2022-11-06T10:07:04.180Z"
   },
   {
    "duration": 4,
    "start_time": "2022-11-06T10:07:05.395Z"
   },
   {
    "duration": 17,
    "start_time": "2022-11-06T10:07:05.780Z"
   },
   {
    "duration": 10,
    "start_time": "2022-11-06T10:07:06.134Z"
   },
   {
    "duration": 18,
    "start_time": "2022-11-06T10:07:07.176Z"
   },
   {
    "duration": 27,
    "start_time": "2022-11-06T10:07:08.868Z"
   },
   {
    "duration": 19,
    "start_time": "2022-11-06T10:07:09.455Z"
   },
   {
    "duration": 21,
    "start_time": "2022-11-06T10:07:09.892Z"
   },
   {
    "duration": 145,
    "start_time": "2022-11-06T10:07:10.222Z"
   },
   {
    "duration": 10,
    "start_time": "2022-11-06T10:07:11.136Z"
   },
   {
    "duration": 11,
    "start_time": "2022-11-06T10:07:11.737Z"
   },
   {
    "duration": 1235,
    "start_time": "2022-11-07T07:36:59.829Z"
   },
   {
    "duration": 56,
    "start_time": "2022-11-07T07:37:01.066Z"
   },
   {
    "duration": 22,
    "start_time": "2022-11-07T07:37:01.124Z"
   },
   {
    "duration": 45,
    "start_time": "2022-11-07T07:37:01.149Z"
   },
   {
    "duration": 20,
    "start_time": "2022-11-07T07:37:01.196Z"
   },
   {
    "duration": 27,
    "start_time": "2022-11-07T07:37:01.218Z"
   },
   {
    "duration": 49,
    "start_time": "2022-11-07T07:37:01.247Z"
   },
   {
    "duration": 24,
    "start_time": "2022-11-07T07:37:01.298Z"
   },
   {
    "duration": 29,
    "start_time": "2022-11-07T07:37:01.324Z"
   },
   {
    "duration": 25,
    "start_time": "2022-11-07T07:37:01.356Z"
   },
   {
    "duration": 28,
    "start_time": "2022-11-07T07:37:01.383Z"
   },
   {
    "duration": 30,
    "start_time": "2022-11-07T07:37:01.412Z"
   },
   {
    "duration": 45,
    "start_time": "2022-11-07T07:37:01.444Z"
   },
   {
    "duration": 55,
    "start_time": "2022-11-07T07:37:01.491Z"
   },
   {
    "duration": 14,
    "start_time": "2022-11-07T07:37:01.548Z"
   },
   {
    "duration": 218,
    "start_time": "2022-11-07T07:37:01.564Z"
   },
   {
    "duration": 16,
    "start_time": "2022-11-07T07:37:01.783Z"
   },
   {
    "duration": 5,
    "start_time": "2022-11-07T07:37:01.802Z"
   },
   {
    "duration": 27,
    "start_time": "2022-11-07T07:37:01.808Z"
   },
   {
    "duration": 247,
    "start_time": "2022-11-07T07:37:01.837Z"
   },
   {
    "duration": 908,
    "start_time": "2022-11-07T07:37:02.087Z"
   },
   {
    "duration": 6,
    "start_time": "2022-11-07T07:37:02.996Z"
   },
   {
    "duration": 15,
    "start_time": "2022-11-07T07:37:03.004Z"
   },
   {
    "duration": 263,
    "start_time": "2022-11-07T07:37:03.034Z"
   },
   {
    "duration": 294,
    "start_time": "2022-11-07T07:37:03.299Z"
   },
   {
    "duration": 9,
    "start_time": "2022-11-07T07:37:03.595Z"
   },
   {
    "duration": 40,
    "start_time": "2022-11-07T07:37:03.606Z"
   },
   {
    "duration": 11,
    "start_time": "2022-11-07T07:37:03.650Z"
   },
   {
    "duration": 279,
    "start_time": "2022-11-07T07:37:03.664Z"
   },
   {
    "duration": 210,
    "start_time": "2022-11-07T07:37:03.945Z"
   },
   {
    "duration": 6,
    "start_time": "2022-11-07T07:37:04.157Z"
   },
   {
    "duration": 25,
    "start_time": "2022-11-07T07:37:04.167Z"
   },
   {
    "duration": 10,
    "start_time": "2022-11-07T07:37:04.193Z"
   },
   {
    "duration": 46,
    "start_time": "2022-11-07T07:37:04.205Z"
   },
   {
    "duration": 55,
    "start_time": "2022-11-07T07:37:04.252Z"
   },
   {
    "duration": 35,
    "start_time": "2022-11-07T07:37:04.308Z"
   },
   {
    "duration": 23,
    "start_time": "2022-11-07T07:37:04.345Z"
   },
   {
    "duration": 172,
    "start_time": "2022-11-07T07:37:04.369Z"
   },
   {
    "duration": 10,
    "start_time": "2022-11-07T07:37:04.543Z"
   },
   {
    "duration": 17,
    "start_time": "2022-11-07T07:37:04.554Z"
   },
   {
    "duration": 455,
    "start_time": "2022-11-07T07:47:18.085Z"
   },
   {
    "duration": 224,
    "start_time": "2022-11-07T07:47:32.172Z"
   },
   {
    "duration": 219,
    "start_time": "2022-11-07T07:47:38.792Z"
   },
   {
    "duration": 153,
    "start_time": "2022-11-07T07:56:03.663Z"
   },
   {
    "duration": 163,
    "start_time": "2022-11-07T07:56:23.095Z"
   },
   {
    "duration": 185,
    "start_time": "2022-11-07T07:57:19.231Z"
   },
   {
    "duration": 52,
    "start_time": "2022-11-07T08:53:40.112Z"
   },
   {
    "duration": 1521,
    "start_time": "2022-11-07T08:53:51.726Z"
   },
   {
    "duration": 199,
    "start_time": "2022-11-07T08:53:53.249Z"
   },
   {
    "duration": 24,
    "start_time": "2022-11-07T08:53:53.450Z"
   },
   {
    "duration": 17,
    "start_time": "2022-11-07T08:53:53.476Z"
   },
   {
    "duration": 9,
    "start_time": "2022-11-07T08:53:53.495Z"
   },
   {
    "duration": 33,
    "start_time": "2022-11-07T08:53:53.506Z"
   },
   {
    "duration": 21,
    "start_time": "2022-11-07T08:53:53.541Z"
   },
   {
    "duration": 9,
    "start_time": "2022-11-07T08:53:53.564Z"
   },
   {
    "duration": 8,
    "start_time": "2022-11-07T08:53:53.575Z"
   },
   {
    "duration": 9,
    "start_time": "2022-11-07T08:53:53.588Z"
   },
   {
    "duration": 7,
    "start_time": "2022-11-07T08:53:53.632Z"
   },
   {
    "duration": 12,
    "start_time": "2022-11-07T08:53:53.641Z"
   },
   {
    "duration": 13,
    "start_time": "2022-11-07T08:53:53.655Z"
   },
   {
    "duration": 15,
    "start_time": "2022-11-07T08:53:53.670Z"
   },
   {
    "duration": 5,
    "start_time": "2022-11-07T08:53:53.686Z"
   },
   {
    "duration": 264,
    "start_time": "2022-11-07T08:53:53.693Z"
   },
   {
    "duration": 17,
    "start_time": "2022-11-07T08:53:53.959Z"
   },
   {
    "duration": 5,
    "start_time": "2022-11-07T08:53:53.978Z"
   },
   {
    "duration": 8,
    "start_time": "2022-11-07T08:53:53.985Z"
   },
   {
    "duration": 325,
    "start_time": "2022-11-07T08:53:53.994Z"
   },
   {
    "duration": 75,
    "start_time": "2022-11-07T08:53:54.321Z"
   },
   {
    "duration": 0,
    "start_time": "2022-11-07T08:53:54.400Z"
   },
   {
    "duration": 0,
    "start_time": "2022-11-07T08:53:54.401Z"
   },
   {
    "duration": 0,
    "start_time": "2022-11-07T08:53:54.403Z"
   },
   {
    "duration": 0,
    "start_time": "2022-11-07T08:53:54.404Z"
   },
   {
    "duration": 0,
    "start_time": "2022-11-07T08:53:54.405Z"
   },
   {
    "duration": 0,
    "start_time": "2022-11-07T08:53:54.406Z"
   },
   {
    "duration": 0,
    "start_time": "2022-11-07T08:53:54.407Z"
   },
   {
    "duration": 0,
    "start_time": "2022-11-07T08:53:54.408Z"
   },
   {
    "duration": 0,
    "start_time": "2022-11-07T08:53:54.409Z"
   },
   {
    "duration": 0,
    "start_time": "2022-11-07T08:53:54.410Z"
   },
   {
    "duration": 0,
    "start_time": "2022-11-07T08:53:54.411Z"
   },
   {
    "duration": 0,
    "start_time": "2022-11-07T08:53:54.412Z"
   },
   {
    "duration": 0,
    "start_time": "2022-11-07T08:53:54.413Z"
   },
   {
    "duration": 0,
    "start_time": "2022-11-07T08:53:54.414Z"
   },
   {
    "duration": 0,
    "start_time": "2022-11-07T08:53:54.415Z"
   },
   {
    "duration": 0,
    "start_time": "2022-11-07T08:53:54.416Z"
   },
   {
    "duration": 0,
    "start_time": "2022-11-07T08:53:54.417Z"
   },
   {
    "duration": 0,
    "start_time": "2022-11-07T08:53:54.418Z"
   },
   {
    "duration": 0,
    "start_time": "2022-11-07T08:53:54.419Z"
   },
   {
    "duration": 1001,
    "start_time": "2022-11-07T08:54:11.215Z"
   },
   {
    "duration": 982,
    "start_time": "2022-11-07T08:54:17.940Z"
   },
   {
    "duration": 1228,
    "start_time": "2022-11-07T08:54:48.840Z"
   },
   {
    "duration": 920,
    "start_time": "2022-11-07T08:55:03.167Z"
   },
   {
    "duration": 1062,
    "start_time": "2022-11-07T08:55:37.582Z"
   },
   {
    "duration": 1131,
    "start_time": "2022-11-07T08:56:18.025Z"
   },
   {
    "duration": 1047,
    "start_time": "2022-11-07T08:56:27.645Z"
   },
   {
    "duration": 991,
    "start_time": "2022-11-07T08:56:39.909Z"
   },
   {
    "duration": 73,
    "start_time": "2022-11-07T08:57:40.542Z"
   },
   {
    "duration": 116,
    "start_time": "2022-11-07T08:57:52.951Z"
   },
   {
    "duration": 1295,
    "start_time": "2022-11-07T08:58:01.591Z"
   },
   {
    "duration": 63,
    "start_time": "2022-11-07T08:58:02.888Z"
   },
   {
    "duration": 23,
    "start_time": "2022-11-07T08:58:02.953Z"
   },
   {
    "duration": 17,
    "start_time": "2022-11-07T08:58:02.979Z"
   },
   {
    "duration": 37,
    "start_time": "2022-11-07T08:58:02.998Z"
   },
   {
    "duration": 28,
    "start_time": "2022-11-07T08:58:03.037Z"
   },
   {
    "duration": 20,
    "start_time": "2022-11-07T08:58:03.067Z"
   },
   {
    "duration": 12,
    "start_time": "2022-11-07T08:58:03.089Z"
   },
   {
    "duration": 29,
    "start_time": "2022-11-07T08:58:03.104Z"
   },
   {
    "duration": 10,
    "start_time": "2022-11-07T08:58:03.137Z"
   },
   {
    "duration": 6,
    "start_time": "2022-11-07T08:58:03.149Z"
   },
   {
    "duration": 14,
    "start_time": "2022-11-07T08:58:03.157Z"
   },
   {
    "duration": 19,
    "start_time": "2022-11-07T08:58:03.173Z"
   },
   {
    "duration": 38,
    "start_time": "2022-11-07T08:58:03.194Z"
   },
   {
    "duration": 6,
    "start_time": "2022-11-07T08:58:03.234Z"
   },
   {
    "duration": 303,
    "start_time": "2022-11-07T08:58:03.242Z"
   },
   {
    "duration": 18,
    "start_time": "2022-11-07T08:58:03.547Z"
   },
   {
    "duration": 7,
    "start_time": "2022-11-07T08:58:03.567Z"
   },
   {
    "duration": 12,
    "start_time": "2022-11-07T08:58:03.576Z"
   },
   {
    "duration": 283,
    "start_time": "2022-11-07T08:58:03.590Z"
   },
   {
    "duration": 957,
    "start_time": "2022-11-07T08:58:03.904Z"
   },
   {
    "duration": 8,
    "start_time": "2022-11-07T08:58:04.863Z"
   },
   {
    "duration": 25,
    "start_time": "2022-11-07T08:58:04.873Z"
   },
   {
    "duration": 274,
    "start_time": "2022-11-07T08:58:04.900Z"
   },
   {
    "duration": 414,
    "start_time": "2022-11-07T08:58:05.176Z"
   },
   {
    "duration": 10,
    "start_time": "2022-11-07T08:58:05.593Z"
   },
   {
    "duration": 36,
    "start_time": "2022-11-07T08:58:05.605Z"
   },
   {
    "duration": 11,
    "start_time": "2022-11-07T08:58:05.646Z"
   },
   {
    "duration": 321,
    "start_time": "2022-11-07T08:58:05.659Z"
   },
   {
    "duration": 232,
    "start_time": "2022-11-07T08:58:05.983Z"
   },
   {
    "duration": 4,
    "start_time": "2022-11-07T08:58:06.217Z"
   },
   {
    "duration": 34,
    "start_time": "2022-11-07T08:58:06.232Z"
   },
   {
    "duration": 18,
    "start_time": "2022-11-07T08:58:06.268Z"
   },
   {
    "duration": 59,
    "start_time": "2022-11-07T08:58:06.287Z"
   },
   {
    "duration": 61,
    "start_time": "2022-11-07T08:58:06.348Z"
   },
   {
    "duration": 43,
    "start_time": "2022-11-07T08:58:06.411Z"
   },
   {
    "duration": 29,
    "start_time": "2022-11-07T08:58:06.456Z"
   },
   {
    "duration": 220,
    "start_time": "2022-11-07T08:58:06.487Z"
   },
   {
    "duration": 22,
    "start_time": "2022-11-07T08:58:06.710Z"
   },
   {
    "duration": 30,
    "start_time": "2022-11-07T08:58:06.734Z"
   },
   {
    "duration": 76,
    "start_time": "2022-11-07T09:00:00.598Z"
   },
   {
    "duration": 89,
    "start_time": "2022-11-07T09:04:07.855Z"
   },
   {
    "duration": 501,
    "start_time": "2022-11-07T09:05:31.392Z"
   },
   {
    "duration": 36,
    "start_time": "2022-11-07T09:05:43.729Z"
   },
   {
    "duration": 34,
    "start_time": "2022-11-07T09:05:51.383Z"
   },
   {
    "duration": 35,
    "start_time": "2022-11-07T09:06:45.015Z"
   },
   {
    "duration": 95,
    "start_time": "2022-11-07T09:10:48.472Z"
   },
   {
    "duration": 28,
    "start_time": "2022-11-07T09:12:09.722Z"
   },
   {
    "duration": 30,
    "start_time": "2022-11-07T09:12:12.089Z"
   },
   {
    "duration": 41,
    "start_time": "2022-11-07T09:12:33.546Z"
   },
   {
    "duration": 1436,
    "start_time": "2022-11-07T09:18:46.513Z"
   },
   {
    "duration": 69,
    "start_time": "2022-11-07T09:18:47.952Z"
   },
   {
    "duration": 23,
    "start_time": "2022-11-07T09:18:48.024Z"
   },
   {
    "duration": 22,
    "start_time": "2022-11-07T09:18:48.050Z"
   },
   {
    "duration": 10,
    "start_time": "2022-11-07T09:18:48.074Z"
   },
   {
    "duration": 18,
    "start_time": "2022-11-07T09:18:48.086Z"
   },
   {
    "duration": 22,
    "start_time": "2022-11-07T09:18:48.133Z"
   },
   {
    "duration": 21,
    "start_time": "2022-11-07T09:18:48.157Z"
   },
   {
    "duration": 6,
    "start_time": "2022-11-07T09:18:48.181Z"
   },
   {
    "duration": 10,
    "start_time": "2022-11-07T09:18:48.191Z"
   },
   {
    "duration": 30,
    "start_time": "2022-11-07T09:18:48.203Z"
   },
   {
    "duration": 11,
    "start_time": "2022-11-07T09:18:48.235Z"
   },
   {
    "duration": 16,
    "start_time": "2022-11-07T09:18:48.247Z"
   },
   {
    "duration": 15,
    "start_time": "2022-11-07T09:18:48.265Z"
   },
   {
    "duration": 5,
    "start_time": "2022-11-07T09:18:48.282Z"
   },
   {
    "duration": 259,
    "start_time": "2022-11-07T09:18:48.288Z"
   },
   {
    "duration": 17,
    "start_time": "2022-11-07T09:18:48.550Z"
   },
   {
    "duration": 6,
    "start_time": "2022-11-07T09:18:48.569Z"
   },
   {
    "duration": 9,
    "start_time": "2022-11-07T09:18:48.577Z"
   },
   {
    "duration": 327,
    "start_time": "2022-11-07T09:18:48.588Z"
   },
   {
    "duration": 974,
    "start_time": "2022-11-07T09:18:48.917Z"
   },
   {
    "duration": 7,
    "start_time": "2022-11-07T09:18:49.892Z"
   },
   {
    "duration": 36,
    "start_time": "2022-11-07T09:18:49.901Z"
   },
   {
    "duration": 272,
    "start_time": "2022-11-07T09:18:49.938Z"
   },
   {
    "duration": 344,
    "start_time": "2022-11-07T09:18:50.211Z"
   },
   {
    "duration": 13,
    "start_time": "2022-11-07T09:18:50.557Z"
   },
   {
    "duration": 18,
    "start_time": "2022-11-07T09:18:50.572Z"
   },
   {
    "duration": 38,
    "start_time": "2022-11-07T09:18:50.595Z"
   },
   {
    "duration": 325,
    "start_time": "2022-11-07T09:18:50.635Z"
   },
   {
    "duration": 251,
    "start_time": "2022-11-07T09:18:50.962Z"
   },
   {
    "duration": 16,
    "start_time": "2022-11-07T09:18:51.215Z"
   },
   {
    "duration": 56,
    "start_time": "2022-11-07T09:18:51.235Z"
   },
   {
    "duration": 16,
    "start_time": "2022-11-07T09:18:51.293Z"
   },
   {
    "duration": 96,
    "start_time": "2022-11-07T09:18:51.311Z"
   },
   {
    "duration": 32,
    "start_time": "2022-11-07T09:18:51.409Z"
   },
   {
    "duration": 38,
    "start_time": "2022-11-07T09:18:51.443Z"
   },
   {
    "duration": 28,
    "start_time": "2022-11-07T09:18:51.483Z"
   },
   {
    "duration": 216,
    "start_time": "2022-11-07T09:18:51.513Z"
   },
   {
    "duration": 11,
    "start_time": "2022-11-07T09:18:51.731Z"
   },
   {
    "duration": 38,
    "start_time": "2022-11-07T09:18:51.744Z"
   },
   {
    "duration": 24,
    "start_time": "2022-11-07T09:24:24.349Z"
   },
   {
    "duration": 24,
    "start_time": "2022-11-07T09:41:53.533Z"
   },
   {
    "duration": 31,
    "start_time": "2022-11-07T09:44:42.807Z"
   },
   {
    "duration": 32,
    "start_time": "2022-11-07T09:46:23.008Z"
   },
   {
    "duration": 220,
    "start_time": "2022-11-07T09:47:04.801Z"
   },
   {
    "duration": 5,
    "start_time": "2022-11-07T09:50:55.489Z"
   },
   {
    "duration": 5,
    "start_time": "2022-11-07T09:51:04.401Z"
   },
   {
    "duration": 4,
    "start_time": "2022-11-07T09:51:22.282Z"
   },
   {
    "duration": 4,
    "start_time": "2022-11-07T09:53:58.256Z"
   },
   {
    "duration": 6,
    "start_time": "2022-11-07T09:54:15.593Z"
   },
   {
    "duration": 8,
    "start_time": "2022-11-07T09:54:35.441Z"
   },
   {
    "duration": 259,
    "start_time": "2022-11-07T09:55:03.920Z"
   },
   {
    "duration": 8,
    "start_time": "2022-11-07T09:55:56.985Z"
   },
   {
    "duration": 71,
    "start_time": "2022-11-07T09:56:07.553Z"
   },
   {
    "duration": 6,
    "start_time": "2022-11-07T09:56:15.520Z"
   },
   {
    "duration": 6,
    "start_time": "2022-11-07T09:56:36.747Z"
   },
   {
    "duration": 74,
    "start_time": "2022-11-07T10:04:40.598Z"
   },
   {
    "duration": 1182,
    "start_time": "2022-11-07T22:19:06.162Z"
   },
   {
    "duration": 187,
    "start_time": "2022-11-07T22:19:07.346Z"
   },
   {
    "duration": 16,
    "start_time": "2022-11-07T22:19:07.534Z"
   },
   {
    "duration": 13,
    "start_time": "2022-11-07T22:19:07.552Z"
   },
   {
    "duration": 5,
    "start_time": "2022-11-07T22:19:07.566Z"
   },
   {
    "duration": 15,
    "start_time": "2022-11-07T22:19:07.572Z"
   },
   {
    "duration": 20,
    "start_time": "2022-11-07T22:19:07.588Z"
   },
   {
    "duration": 7,
    "start_time": "2022-11-07T22:19:07.610Z"
   },
   {
    "duration": 6,
    "start_time": "2022-11-07T22:19:07.618Z"
   },
   {
    "duration": 6,
    "start_time": "2022-11-07T22:19:07.647Z"
   },
   {
    "duration": 6,
    "start_time": "2022-11-07T22:19:07.654Z"
   },
   {
    "duration": 8,
    "start_time": "2022-11-07T22:19:07.661Z"
   },
   {
    "duration": 7,
    "start_time": "2022-11-07T22:19:07.671Z"
   },
   {
    "duration": 13,
    "start_time": "2022-11-07T22:19:07.679Z"
   },
   {
    "duration": 5,
    "start_time": "2022-11-07T22:19:07.694Z"
   },
   {
    "duration": 198,
    "start_time": "2022-11-07T22:19:07.700Z"
   },
   {
    "duration": 13,
    "start_time": "2022-11-07T22:19:07.900Z"
   },
   {
    "duration": 5,
    "start_time": "2022-11-07T22:19:07.915Z"
   },
   {
    "duration": 26,
    "start_time": "2022-11-07T22:19:07.922Z"
   },
   {
    "duration": 206,
    "start_time": "2022-11-07T22:19:07.949Z"
   },
   {
    "duration": 710,
    "start_time": "2022-11-07T22:19:08.157Z"
   },
   {
    "duration": 6,
    "start_time": "2022-11-07T22:19:08.868Z"
   },
   {
    "duration": 16,
    "start_time": "2022-11-07T22:19:08.875Z"
   },
   {
    "duration": 206,
    "start_time": "2022-11-07T22:19:08.892Z"
   },
   {
    "duration": 252,
    "start_time": "2022-11-07T22:19:09.099Z"
   },
   {
    "duration": 7,
    "start_time": "2022-11-07T22:19:09.353Z"
   },
   {
    "duration": 13,
    "start_time": "2022-11-07T22:19:09.361Z"
   },
   {
    "duration": 7,
    "start_time": "2022-11-07T22:19:09.376Z"
   },
   {
    "duration": 232,
    "start_time": "2022-11-07T22:19:09.384Z"
   },
   {
    "duration": 173,
    "start_time": "2022-11-07T22:19:09.618Z"
   },
   {
    "duration": 3,
    "start_time": "2022-11-07T22:19:09.793Z"
   },
   {
    "duration": 29,
    "start_time": "2022-11-07T22:19:09.798Z"
   },
   {
    "duration": 11,
    "start_time": "2022-11-07T22:19:09.828Z"
   },
   {
    "duration": 59,
    "start_time": "2022-11-07T22:19:09.841Z"
   },
   {
    "duration": 18,
    "start_time": "2022-11-07T22:19:09.902Z"
   },
   {
    "duration": 28,
    "start_time": "2022-11-07T22:19:09.921Z"
   },
   {
    "duration": 22,
    "start_time": "2022-11-07T22:19:09.950Z"
   },
   {
    "duration": 5,
    "start_time": "2022-11-07T22:19:09.973Z"
   },
   {
    "duration": 179,
    "start_time": "2022-11-07T22:19:09.979Z"
   },
   {
    "duration": 9,
    "start_time": "2022-11-07T22:19:10.159Z"
   },
   {
    "duration": 13,
    "start_time": "2022-11-07T22:19:10.169Z"
   },
   {
    "duration": 9,
    "start_time": "2022-11-07T22:31:39.258Z"
   },
   {
    "duration": 11,
    "start_time": "2022-11-07T22:33:21.499Z"
   },
   {
    "duration": 9,
    "start_time": "2022-11-07T22:33:29.796Z"
   },
   {
    "duration": 1114,
    "start_time": "2022-11-07T22:33:35.429Z"
   },
   {
    "duration": 58,
    "start_time": "2022-11-07T22:33:36.544Z"
   },
   {
    "duration": 15,
    "start_time": "2022-11-07T22:33:36.604Z"
   },
   {
    "duration": 12,
    "start_time": "2022-11-07T22:33:36.621Z"
   },
   {
    "duration": 5,
    "start_time": "2022-11-07T22:33:36.635Z"
   },
   {
    "duration": 11,
    "start_time": "2022-11-07T22:33:36.642Z"
   },
   {
    "duration": 13,
    "start_time": "2022-11-07T22:33:36.654Z"
   },
   {
    "duration": 13,
    "start_time": "2022-11-07T22:33:36.668Z"
   },
   {
    "duration": 6,
    "start_time": "2022-11-07T22:33:36.684Z"
   },
   {
    "duration": 10,
    "start_time": "2022-11-07T22:33:36.693Z"
   },
   {
    "duration": 6,
    "start_time": "2022-11-07T22:33:36.705Z"
   },
   {
    "duration": 9,
    "start_time": "2022-11-07T22:33:36.713Z"
   },
   {
    "duration": 30,
    "start_time": "2022-11-07T22:33:36.723Z"
   },
   {
    "duration": 18,
    "start_time": "2022-11-07T22:33:36.754Z"
   },
   {
    "duration": 5,
    "start_time": "2022-11-07T22:33:36.773Z"
   },
   {
    "duration": 192,
    "start_time": "2022-11-07T22:33:36.780Z"
   },
   {
    "duration": 14,
    "start_time": "2022-11-07T22:33:36.974Z"
   },
   {
    "duration": 7,
    "start_time": "2022-11-07T22:33:36.990Z"
   },
   {
    "duration": 8,
    "start_time": "2022-11-07T22:33:36.999Z"
   },
   {
    "duration": 284,
    "start_time": "2022-11-07T22:33:37.008Z"
   },
   {
    "duration": 741,
    "start_time": "2022-11-07T22:33:37.294Z"
   },
   {
    "duration": 12,
    "start_time": "2022-11-07T22:33:38.036Z"
   },
   {
    "duration": 13,
    "start_time": "2022-11-07T22:33:38.049Z"
   },
   {
    "duration": 206,
    "start_time": "2022-11-07T22:33:38.063Z"
   },
   {
    "duration": 263,
    "start_time": "2022-11-07T22:33:38.270Z"
   },
   {
    "duration": 14,
    "start_time": "2022-11-07T22:33:38.534Z"
   },
   {
    "duration": 19,
    "start_time": "2022-11-07T22:33:38.549Z"
   },
   {
    "duration": 9,
    "start_time": "2022-11-07T22:33:38.573Z"
   },
   {
    "duration": 256,
    "start_time": "2022-11-07T22:33:38.584Z"
   },
   {
    "duration": 199,
    "start_time": "2022-11-07T22:33:38.842Z"
   },
   {
    "duration": 4,
    "start_time": "2022-11-07T22:33:39.044Z"
   },
   {
    "duration": 22,
    "start_time": "2022-11-07T22:33:39.049Z"
   },
   {
    "duration": 10,
    "start_time": "2022-11-07T22:33:39.073Z"
   },
   {
    "duration": 82,
    "start_time": "2022-11-07T22:33:39.085Z"
   },
   {
    "duration": 22,
    "start_time": "2022-11-07T22:33:39.169Z"
   },
   {
    "duration": 21,
    "start_time": "2022-11-07T22:33:39.192Z"
   },
   {
    "duration": 43,
    "start_time": "2022-11-07T22:33:39.214Z"
   },
   {
    "duration": 6,
    "start_time": "2022-11-07T22:33:39.258Z"
   },
   {
    "duration": 193,
    "start_time": "2022-11-07T22:33:39.266Z"
   },
   {
    "duration": 9,
    "start_time": "2022-11-07T22:33:39.461Z"
   },
   {
    "duration": 13,
    "start_time": "2022-11-07T22:33:39.471Z"
   },
   {
    "duration": 14,
    "start_time": "2022-11-07T22:33:39.486Z"
   },
   {
    "duration": 10,
    "start_time": "2022-11-07T22:35:25.997Z"
   },
   {
    "duration": 47,
    "start_time": "2022-11-07T22:40:41.152Z"
   },
   {
    "duration": 47,
    "start_time": "2022-11-07T22:45:41.143Z"
   },
   {
    "duration": 1108,
    "start_time": "2022-11-07T23:19:42.195Z"
   },
   {
    "duration": 50,
    "start_time": "2022-11-07T23:19:43.305Z"
   },
   {
    "duration": 22,
    "start_time": "2022-11-07T23:19:43.357Z"
   },
   {
    "duration": 18,
    "start_time": "2022-11-07T23:19:43.382Z"
   },
   {
    "duration": 6,
    "start_time": "2022-11-07T23:19:43.402Z"
   },
   {
    "duration": 16,
    "start_time": "2022-11-07T23:19:43.409Z"
   },
   {
    "duration": 22,
    "start_time": "2022-11-07T23:19:43.449Z"
   },
   {
    "duration": 9,
    "start_time": "2022-11-07T23:19:43.473Z"
   },
   {
    "duration": 9,
    "start_time": "2022-11-07T23:19:43.484Z"
   },
   {
    "duration": 10,
    "start_time": "2022-11-07T23:19:43.497Z"
   },
   {
    "duration": 7,
    "start_time": "2022-11-07T23:19:43.508Z"
   },
   {
    "duration": 8,
    "start_time": "2022-11-07T23:19:43.516Z"
   },
   {
    "duration": 30,
    "start_time": "2022-11-07T23:19:43.526Z"
   },
   {
    "duration": 20,
    "start_time": "2022-11-07T23:19:43.558Z"
   },
   {
    "duration": 5,
    "start_time": "2022-11-07T23:19:43.580Z"
   },
   {
    "duration": 238,
    "start_time": "2022-11-07T23:19:43.586Z"
   },
   {
    "duration": 24,
    "start_time": "2022-11-07T23:19:43.826Z"
   },
   {
    "duration": 6,
    "start_time": "2022-11-07T23:19:43.852Z"
   },
   {
    "duration": 26,
    "start_time": "2022-11-07T23:19:43.859Z"
   },
   {
    "duration": 236,
    "start_time": "2022-11-07T23:19:43.887Z"
   },
   {
    "duration": 913,
    "start_time": "2022-11-07T23:19:44.125Z"
   },
   {
    "duration": 9,
    "start_time": "2022-11-07T23:19:45.040Z"
   },
   {
    "duration": 25,
    "start_time": "2022-11-07T23:19:45.052Z"
   },
   {
    "duration": 263,
    "start_time": "2022-11-07T23:19:45.079Z"
   },
   {
    "duration": 308,
    "start_time": "2022-11-07T23:19:45.348Z"
   },
   {
    "duration": 10,
    "start_time": "2022-11-07T23:19:45.658Z"
   },
   {
    "duration": 25,
    "start_time": "2022-11-07T23:19:45.670Z"
   },
   {
    "duration": 7,
    "start_time": "2022-11-07T23:19:45.698Z"
   },
   {
    "duration": 295,
    "start_time": "2022-11-07T23:19:45.707Z"
   },
   {
    "duration": 211,
    "start_time": "2022-11-07T23:19:46.003Z"
   },
   {
    "duration": 4,
    "start_time": "2022-11-07T23:19:46.215Z"
   },
   {
    "duration": 27,
    "start_time": "2022-11-07T23:19:46.221Z"
   },
   {
    "duration": 14,
    "start_time": "2022-11-07T23:19:46.250Z"
   },
   {
    "duration": 100,
    "start_time": "2022-11-07T23:19:46.266Z"
   },
   {
    "duration": 21,
    "start_time": "2022-11-07T23:19:46.369Z"
   },
   {
    "duration": 28,
    "start_time": "2022-11-07T23:19:46.392Z"
   },
   {
    "duration": 51,
    "start_time": "2022-11-07T23:19:46.421Z"
   },
   {
    "duration": 7,
    "start_time": "2022-11-07T23:19:46.474Z"
   },
   {
    "duration": 233,
    "start_time": "2022-11-07T23:19:46.483Z"
   },
   {
    "duration": 11,
    "start_time": "2022-11-07T23:19:46.718Z"
   },
   {
    "duration": 51,
    "start_time": "2022-11-07T23:19:46.731Z"
   },
   {
    "duration": 255,
    "start_time": "2022-11-07T23:20:35.293Z"
   },
   {
    "duration": 261,
    "start_time": "2022-11-07T23:21:39.974Z"
   },
   {
    "duration": 317,
    "start_time": "2022-11-07T23:21:54.766Z"
   },
   {
    "duration": 203,
    "start_time": "2022-11-07T23:22:54.597Z"
   },
   {
    "duration": 213,
    "start_time": "2022-11-07T23:23:23.974Z"
   },
   {
    "duration": 296,
    "start_time": "2022-11-07T23:24:15.617Z"
   },
   {
    "duration": 219,
    "start_time": "2022-11-07T23:24:44.570Z"
   },
   {
    "duration": 202,
    "start_time": "2022-11-07T23:25:51.007Z"
   },
   {
    "duration": 206,
    "start_time": "2022-11-07T23:27:18.022Z"
   },
   {
    "duration": 1198,
    "start_time": "2022-11-07T23:27:27.417Z"
   },
   {
    "duration": 65,
    "start_time": "2022-11-07T23:27:28.617Z"
   },
   {
    "duration": 25,
    "start_time": "2022-11-07T23:27:28.684Z"
   },
   {
    "duration": 13,
    "start_time": "2022-11-07T23:27:28.711Z"
   },
   {
    "duration": 7,
    "start_time": "2022-11-07T23:27:28.725Z"
   },
   {
    "duration": 34,
    "start_time": "2022-11-07T23:27:28.733Z"
   },
   {
    "duration": 19,
    "start_time": "2022-11-07T23:27:28.769Z"
   },
   {
    "duration": 10,
    "start_time": "2022-11-07T23:27:28.790Z"
   },
   {
    "duration": 11,
    "start_time": "2022-11-07T23:27:28.802Z"
   },
   {
    "duration": 7,
    "start_time": "2022-11-07T23:27:28.816Z"
   },
   {
    "duration": 32,
    "start_time": "2022-11-07T23:27:28.824Z"
   },
   {
    "duration": 11,
    "start_time": "2022-11-07T23:27:28.858Z"
   },
   {
    "duration": 10,
    "start_time": "2022-11-07T23:27:28.871Z"
   },
   {
    "duration": 13,
    "start_time": "2022-11-07T23:27:28.882Z"
   },
   {
    "duration": 4,
    "start_time": "2022-11-07T23:27:28.897Z"
   },
   {
    "duration": 227,
    "start_time": "2022-11-07T23:27:28.903Z"
   },
   {
    "duration": 17,
    "start_time": "2022-11-07T23:27:29.132Z"
   },
   {
    "duration": 6,
    "start_time": "2022-11-07T23:27:29.151Z"
   },
   {
    "duration": 27,
    "start_time": "2022-11-07T23:27:29.159Z"
   },
   {
    "duration": 251,
    "start_time": "2022-11-07T23:27:29.188Z"
   },
   {
    "duration": 795,
    "start_time": "2022-11-07T23:27:29.441Z"
   },
   {
    "duration": 6,
    "start_time": "2022-11-07T23:27:30.238Z"
   },
   {
    "duration": 63,
    "start_time": "2022-11-07T23:27:30.245Z"
   },
   {
    "duration": 271,
    "start_time": "2022-11-07T23:27:30.309Z"
   },
   {
    "duration": 276,
    "start_time": "2022-11-07T23:27:30.581Z"
   },
   {
    "duration": 11,
    "start_time": "2022-11-07T23:27:30.859Z"
   },
   {
    "duration": 32,
    "start_time": "2022-11-07T23:27:30.871Z"
   },
   {
    "duration": 17,
    "start_time": "2022-11-07T23:27:30.906Z"
   },
   {
    "duration": 280,
    "start_time": "2022-11-07T23:27:30.924Z"
   },
   {
    "duration": 215,
    "start_time": "2022-11-07T23:27:31.206Z"
   },
   {
    "duration": 6,
    "start_time": "2022-11-07T23:27:31.423Z"
   },
   {
    "duration": 32,
    "start_time": "2022-11-07T23:27:31.430Z"
   },
   {
    "duration": 10,
    "start_time": "2022-11-07T23:27:31.465Z"
   },
   {
    "duration": 90,
    "start_time": "2022-11-07T23:27:31.478Z"
   },
   {
    "duration": 22,
    "start_time": "2022-11-07T23:27:31.570Z"
   },
   {
    "duration": 19,
    "start_time": "2022-11-07T23:27:31.594Z"
   },
   {
    "duration": 38,
    "start_time": "2022-11-07T23:27:31.615Z"
   },
   {
    "duration": 6,
    "start_time": "2022-11-07T23:27:31.655Z"
   },
   {
    "duration": 219,
    "start_time": "2022-11-07T23:27:31.663Z"
   },
   {
    "duration": 10,
    "start_time": "2022-11-07T23:27:31.884Z"
   },
   {
    "duration": 11,
    "start_time": "2022-11-07T23:27:31.896Z"
   },
   {
    "duration": 4,
    "start_time": "2022-11-07T23:27:44.445Z"
   },
   {
    "duration": 57,
    "start_time": "2022-11-07T23:27:44.814Z"
   },
   {
    "duration": 13,
    "start_time": "2022-11-07T23:27:45.911Z"
   },
   {
    "duration": 14,
    "start_time": "2022-11-07T23:27:46.364Z"
   },
   {
    "duration": 6,
    "start_time": "2022-11-07T23:27:46.879Z"
   },
   {
    "duration": 12,
    "start_time": "2022-11-07T23:27:48.142Z"
   },
   {
    "duration": 14,
    "start_time": "2022-11-07T23:27:48.526Z"
   },
   {
    "duration": 9,
    "start_time": "2022-11-07T23:27:50.717Z"
   },
   {
    "duration": 5,
    "start_time": "2022-11-07T23:27:50.902Z"
   },
   {
    "duration": 6,
    "start_time": "2022-11-07T23:27:51.430Z"
   },
   {
    "duration": 6,
    "start_time": "2022-11-07T23:27:52.370Z"
   },
   {
    "duration": 6,
    "start_time": "2022-11-07T23:27:52.718Z"
   },
   {
    "duration": 12,
    "start_time": "2022-11-07T23:27:54.485Z"
   },
   {
    "duration": 12,
    "start_time": "2022-11-07T23:27:55.605Z"
   },
   {
    "duration": 4,
    "start_time": "2022-11-07T23:27:55.886Z"
   },
   {
    "duration": 201,
    "start_time": "2022-11-07T23:27:58.393Z"
   },
   {
    "duration": 22,
    "start_time": "2022-11-07T23:27:59.050Z"
   },
   {
    "duration": 194,
    "start_time": "2022-11-07T23:30:42.394Z"
   },
   {
    "duration": 253,
    "start_time": "2022-11-07T23:31:41.896Z"
   },
   {
    "duration": 1192,
    "start_time": "2022-11-07T23:31:50.290Z"
   },
   {
    "duration": 61,
    "start_time": "2022-11-07T23:31:51.484Z"
   },
   {
    "duration": 30,
    "start_time": "2022-11-07T23:31:51.546Z"
   },
   {
    "duration": 22,
    "start_time": "2022-11-07T23:31:51.578Z"
   },
   {
    "duration": 9,
    "start_time": "2022-11-07T23:31:51.602Z"
   },
   {
    "duration": 24,
    "start_time": "2022-11-07T23:31:51.613Z"
   },
   {
    "duration": 29,
    "start_time": "2022-11-07T23:31:51.649Z"
   },
   {
    "duration": 9,
    "start_time": "2022-11-07T23:31:51.679Z"
   },
   {
    "duration": 8,
    "start_time": "2022-11-07T23:31:51.690Z"
   },
   {
    "duration": 8,
    "start_time": "2022-11-07T23:31:51.701Z"
   },
   {
    "duration": 41,
    "start_time": "2022-11-07T23:31:51.711Z"
   },
   {
    "duration": 43,
    "start_time": "2022-11-07T23:31:51.755Z"
   },
   {
    "duration": 10,
    "start_time": "2022-11-07T23:31:51.800Z"
   },
   {
    "duration": 16,
    "start_time": "2022-11-07T23:31:51.811Z"
   },
   {
    "duration": 4,
    "start_time": "2022-11-07T23:31:51.829Z"
   },
   {
    "duration": 226,
    "start_time": "2022-11-07T23:31:51.835Z"
   },
   {
    "duration": 17,
    "start_time": "2022-11-07T23:31:52.063Z"
   },
   {
    "duration": 8,
    "start_time": "2022-11-07T23:31:52.082Z"
   },
   {
    "duration": 16,
    "start_time": "2022-11-07T23:31:52.092Z"
   },
   {
    "duration": 322,
    "start_time": "2022-11-07T23:31:52.110Z"
   },
   {
    "duration": 861,
    "start_time": "2022-11-07T23:31:52.433Z"
   },
   {
    "duration": 9,
    "start_time": "2022-11-07T23:31:53.296Z"
   },
   {
    "duration": 17,
    "start_time": "2022-11-07T23:31:53.306Z"
   },
   {
    "duration": 247,
    "start_time": "2022-11-07T23:31:53.324Z"
   },
   {
    "duration": 321,
    "start_time": "2022-11-07T23:31:53.573Z"
   },
   {
    "duration": 16,
    "start_time": "2022-11-07T23:31:53.897Z"
   },
   {
    "duration": 46,
    "start_time": "2022-11-07T23:31:53.915Z"
   },
   {
    "duration": 10,
    "start_time": "2022-11-07T23:31:53.968Z"
   },
   {
    "duration": 304,
    "start_time": "2022-11-07T23:31:53.980Z"
   },
   {
    "duration": 224,
    "start_time": "2022-11-07T23:31:54.286Z"
   },
   {
    "duration": 4,
    "start_time": "2022-11-07T23:31:54.512Z"
   },
   {
    "duration": 49,
    "start_time": "2022-11-07T23:31:54.518Z"
   },
   {
    "duration": 21,
    "start_time": "2022-11-07T23:31:54.569Z"
   },
   {
    "duration": 73,
    "start_time": "2022-11-07T23:31:54.593Z"
   },
   {
    "duration": 43,
    "start_time": "2022-11-07T23:31:54.669Z"
   },
   {
    "duration": 39,
    "start_time": "2022-11-07T23:31:54.715Z"
   },
   {
    "duration": 30,
    "start_time": "2022-11-07T23:31:54.756Z"
   },
   {
    "duration": 7,
    "start_time": "2022-11-07T23:31:54.789Z"
   },
   {
    "duration": 249,
    "start_time": "2022-11-07T23:31:54.798Z"
   },
   {
    "duration": 19,
    "start_time": "2022-11-07T23:31:55.049Z"
   },
   {
    "duration": 12,
    "start_time": "2022-11-07T23:31:55.069Z"
   },
   {
    "duration": 1140,
    "start_time": "2022-11-07T23:31:56.965Z"
   },
   {
    "duration": 55,
    "start_time": "2022-11-07T23:31:58.107Z"
   },
   {
    "duration": 27,
    "start_time": "2022-11-07T23:31:58.164Z"
   },
   {
    "duration": 14,
    "start_time": "2022-11-07T23:31:58.193Z"
   },
   {
    "duration": 6,
    "start_time": "2022-11-07T23:31:58.209Z"
   },
   {
    "duration": 11,
    "start_time": "2022-11-07T23:31:58.217Z"
   },
   {
    "duration": 24,
    "start_time": "2022-11-07T23:31:58.265Z"
   },
   {
    "duration": 7,
    "start_time": "2022-11-07T23:31:58.291Z"
   },
   {
    "duration": 5,
    "start_time": "2022-11-07T23:31:58.300Z"
   },
   {
    "duration": 7,
    "start_time": "2022-11-07T23:31:58.307Z"
   },
   {
    "duration": 6,
    "start_time": "2022-11-07T23:31:58.315Z"
   },
   {
    "duration": 10,
    "start_time": "2022-11-07T23:31:58.322Z"
   },
   {
    "duration": 9,
    "start_time": "2022-11-07T23:31:58.347Z"
   },
   {
    "duration": 34,
    "start_time": "2022-11-07T23:31:58.360Z"
   },
   {
    "duration": 6,
    "start_time": "2022-11-07T23:31:58.396Z"
   },
   {
    "duration": 216,
    "start_time": "2022-11-07T23:31:58.403Z"
   },
   {
    "duration": 14,
    "start_time": "2022-11-07T23:31:58.621Z"
   },
   {
    "duration": 17,
    "start_time": "2022-11-07T23:31:58.648Z"
   },
   {
    "duration": 10,
    "start_time": "2022-11-07T23:31:58.669Z"
   },
   {
    "duration": 250,
    "start_time": "2022-11-07T23:31:58.681Z"
   },
   {
    "duration": 802,
    "start_time": "2022-11-07T23:31:58.933Z"
   },
   {
    "duration": 5,
    "start_time": "2022-11-07T23:31:59.736Z"
   },
   {
    "duration": 39,
    "start_time": "2022-11-07T23:31:59.742Z"
   },
   {
    "duration": 224,
    "start_time": "2022-11-07T23:31:59.783Z"
   },
   {
    "duration": 298,
    "start_time": "2022-11-07T23:32:00.009Z"
   },
   {
    "duration": 8,
    "start_time": "2022-11-07T23:32:00.308Z"
   },
   {
    "duration": 45,
    "start_time": "2022-11-07T23:32:00.318Z"
   },
   {
    "duration": 21,
    "start_time": "2022-11-07T23:32:00.365Z"
   },
   {
    "duration": 292,
    "start_time": "2022-11-07T23:32:00.388Z"
   },
   {
    "duration": 195,
    "start_time": "2022-11-07T23:32:00.682Z"
   },
   {
    "duration": 5,
    "start_time": "2022-11-07T23:32:00.879Z"
   },
   {
    "duration": 29,
    "start_time": "2022-11-07T23:32:00.886Z"
   },
   {
    "duration": 16,
    "start_time": "2022-11-07T23:32:00.916Z"
   },
   {
    "duration": 126,
    "start_time": "2022-11-07T23:32:00.933Z"
   },
   {
    "duration": 29,
    "start_time": "2022-11-07T23:32:01.061Z"
   },
   {
    "duration": 20,
    "start_time": "2022-11-07T23:32:01.092Z"
   },
   {
    "duration": 49,
    "start_time": "2022-11-07T23:32:01.114Z"
   },
   {
    "duration": 7,
    "start_time": "2022-11-07T23:32:01.165Z"
   },
   {
    "duration": 235,
    "start_time": "2022-11-07T23:32:01.174Z"
   },
   {
    "duration": 11,
    "start_time": "2022-11-07T23:32:01.411Z"
   },
   {
    "duration": 58,
    "start_time": "2022-11-07T23:32:01.427Z"
   },
   {
    "duration": 3,
    "start_time": "2022-11-07T23:32:07.623Z"
   },
   {
    "duration": 48,
    "start_time": "2022-11-07T23:32:07.864Z"
   },
   {
    "duration": 12,
    "start_time": "2022-11-07T23:32:08.807Z"
   },
   {
    "duration": 20,
    "start_time": "2022-11-07T23:32:09.145Z"
   },
   {
    "duration": 6,
    "start_time": "2022-11-07T23:32:09.335Z"
   },
   {
    "duration": 11,
    "start_time": "2022-11-07T23:32:10.310Z"
   },
   {
    "duration": 16,
    "start_time": "2022-11-07T23:32:10.565Z"
   },
   {
    "duration": 9,
    "start_time": "2022-11-07T23:32:11.575Z"
   },
   {
    "duration": 4,
    "start_time": "2022-11-07T23:32:11.727Z"
   },
   {
    "duration": 7,
    "start_time": "2022-11-07T23:32:11.984Z"
   },
   {
    "duration": 5,
    "start_time": "2022-11-07T23:32:12.574Z"
   },
   {
    "duration": 6,
    "start_time": "2022-11-07T23:32:12.813Z"
   },
   {
    "duration": 7,
    "start_time": "2022-11-07T23:32:13.495Z"
   },
   {
    "duration": 15,
    "start_time": "2022-11-07T23:32:14.078Z"
   },
   {
    "duration": 5,
    "start_time": "2022-11-07T23:32:14.215Z"
   },
   {
    "duration": 216,
    "start_time": "2022-11-07T23:32:15.813Z"
   },
   {
    "duration": 13,
    "start_time": "2022-11-07T23:32:16.031Z"
   },
   {
    "duration": 6,
    "start_time": "2022-11-07T23:32:16.175Z"
   },
   {
    "duration": 8,
    "start_time": "2022-11-07T23:32:16.607Z"
   },
   {
    "duration": 236,
    "start_time": "2022-11-07T23:32:16.865Z"
   },
   {
    "duration": 892,
    "start_time": "2022-11-07T23:32:17.563Z"
   },
   {
    "duration": 6,
    "start_time": "2022-11-07T23:32:19.064Z"
   },
   {
    "duration": 22,
    "start_time": "2022-11-07T23:32:19.846Z"
   },
   {
    "duration": 234,
    "start_time": "2022-11-07T23:32:20.165Z"
   },
   {
    "duration": 368,
    "start_time": "2022-11-07T23:32:21.571Z"
   },
   {
    "duration": 9,
    "start_time": "2022-11-07T23:32:21.964Z"
   },
   {
    "duration": 15,
    "start_time": "2022-11-07T23:32:23.414Z"
   },
   {
    "duration": 8,
    "start_time": "2022-11-07T23:32:24.310Z"
   },
   {
    "duration": 176,
    "start_time": "2022-11-07T23:32:24.465Z"
   },
   {
    "duration": 205,
    "start_time": "2022-11-07T23:32:24.746Z"
   },
   {
    "duration": 4,
    "start_time": "2022-11-07T23:32:26.070Z"
   },
   {
    "duration": 24,
    "start_time": "2022-11-07T23:32:26.456Z"
   },
   {
    "duration": 15,
    "start_time": "2022-11-07T23:32:26.876Z"
   },
   {
    "duration": 39,
    "start_time": "2022-11-07T23:32:30.771Z"
   },
   {
    "duration": 18,
    "start_time": "2022-11-07T23:32:33.702Z"
   },
   {
    "duration": 18,
    "start_time": "2022-11-07T23:32:34.910Z"
   },
   {
    "duration": 36,
    "start_time": "2022-11-07T23:32:35.764Z"
   },
   {
    "duration": 4,
    "start_time": "2022-11-07T23:32:36.119Z"
   },
   {
    "duration": 201,
    "start_time": "2022-11-07T23:32:37.926Z"
   },
   {
    "duration": 10,
    "start_time": "2022-11-07T23:32:41.990Z"
   },
   {
    "duration": 8,
    "start_time": "2022-11-07T23:32:48.430Z"
   },
   {
    "duration": 1074,
    "start_time": "2022-11-08T07:53:54.483Z"
   },
   {
    "duration": 46,
    "start_time": "2022-11-08T07:53:55.559Z"
   },
   {
    "duration": 16,
    "start_time": "2022-11-08T07:53:55.607Z"
   },
   {
    "duration": 13,
    "start_time": "2022-11-08T07:53:55.626Z"
   },
   {
    "duration": 6,
    "start_time": "2022-11-08T07:53:55.641Z"
   },
   {
    "duration": 13,
    "start_time": "2022-11-08T07:53:55.648Z"
   },
   {
    "duration": 36,
    "start_time": "2022-11-08T07:53:55.662Z"
   },
   {
    "duration": 8,
    "start_time": "2022-11-08T07:53:55.699Z"
   },
   {
    "duration": 10,
    "start_time": "2022-11-08T07:53:55.708Z"
   },
   {
    "duration": 5,
    "start_time": "2022-11-08T07:53:55.721Z"
   },
   {
    "duration": 9,
    "start_time": "2022-11-08T07:53:55.727Z"
   },
   {
    "duration": 9,
    "start_time": "2022-11-08T07:53:55.737Z"
   },
   {
    "duration": 6,
    "start_time": "2022-11-08T07:53:55.747Z"
   },
   {
    "duration": 37,
    "start_time": "2022-11-08T07:53:55.754Z"
   },
   {
    "duration": 4,
    "start_time": "2022-11-08T07:53:55.792Z"
   },
   {
    "duration": 195,
    "start_time": "2022-11-08T07:53:55.798Z"
   },
   {
    "duration": 14,
    "start_time": "2022-11-08T07:53:55.995Z"
   },
   {
    "duration": 9,
    "start_time": "2022-11-08T07:53:56.011Z"
   },
   {
    "duration": 17,
    "start_time": "2022-11-08T07:53:56.022Z"
   },
   {
    "duration": 234,
    "start_time": "2022-11-08T07:53:56.041Z"
   },
   {
    "duration": 746,
    "start_time": "2022-11-08T07:53:56.285Z"
   },
   {
    "duration": 6,
    "start_time": "2022-11-08T07:53:57.033Z"
   },
   {
    "duration": 16,
    "start_time": "2022-11-08T07:53:57.041Z"
   },
   {
    "duration": 241,
    "start_time": "2022-11-08T07:53:57.059Z"
   },
   {
    "duration": 303,
    "start_time": "2022-11-08T07:53:57.302Z"
   },
   {
    "duration": 8,
    "start_time": "2022-11-08T07:53:57.607Z"
   },
   {
    "duration": 15,
    "start_time": "2022-11-08T07:53:57.617Z"
   },
   {
    "duration": 7,
    "start_time": "2022-11-08T07:53:57.636Z"
   },
   {
    "duration": 242,
    "start_time": "2022-11-08T07:53:57.645Z"
   },
   {
    "duration": 179,
    "start_time": "2022-11-08T07:53:57.889Z"
   },
   {
    "duration": 4,
    "start_time": "2022-11-08T07:53:58.069Z"
   },
   {
    "duration": 15,
    "start_time": "2022-11-08T07:53:58.086Z"
   },
   {
    "duration": 9,
    "start_time": "2022-11-08T07:53:58.102Z"
   },
   {
    "duration": 74,
    "start_time": "2022-11-08T07:53:58.112Z"
   },
   {
    "duration": 17,
    "start_time": "2022-11-08T07:53:58.188Z"
   },
   {
    "duration": 24,
    "start_time": "2022-11-08T07:53:58.206Z"
   },
   {
    "duration": 24,
    "start_time": "2022-11-08T07:53:58.232Z"
   },
   {
    "duration": 5,
    "start_time": "2022-11-08T07:53:58.258Z"
   },
   {
    "duration": 192,
    "start_time": "2022-11-08T07:53:58.286Z"
   },
   {
    "duration": 11,
    "start_time": "2022-11-08T07:53:58.479Z"
   },
   {
    "duration": 12,
    "start_time": "2022-11-08T07:53:58.492Z"
   },
   {
    "duration": 9,
    "start_time": "2022-11-08T08:05:14.082Z"
   },
   {
    "duration": 168,
    "start_time": "2022-11-08T08:06:02.388Z"
   },
   {
    "duration": 9,
    "start_time": "2022-11-08T08:06:18.790Z"
   },
   {
    "duration": 99,
    "start_time": "2022-11-08T08:06:29.452Z"
   },
   {
    "duration": 1054,
    "start_time": "2022-11-08T08:18:07.501Z"
   },
   {
    "duration": 46,
    "start_time": "2022-11-08T08:18:08.557Z"
   },
   {
    "duration": 16,
    "start_time": "2022-11-08T08:18:08.605Z"
   },
   {
    "duration": 14,
    "start_time": "2022-11-08T08:18:08.623Z"
   },
   {
    "duration": 5,
    "start_time": "2022-11-08T08:18:08.639Z"
   },
   {
    "duration": 13,
    "start_time": "2022-11-08T08:18:08.646Z"
   },
   {
    "duration": 35,
    "start_time": "2022-11-08T08:18:08.660Z"
   },
   {
    "duration": 7,
    "start_time": "2022-11-08T08:18:08.696Z"
   },
   {
    "duration": 11,
    "start_time": "2022-11-08T08:18:08.704Z"
   },
   {
    "duration": 17,
    "start_time": "2022-11-08T08:18:08.718Z"
   },
   {
    "duration": 10,
    "start_time": "2022-11-08T08:18:08.736Z"
   },
   {
    "duration": 15,
    "start_time": "2022-11-08T08:18:08.747Z"
   },
   {
    "duration": 7,
    "start_time": "2022-11-08T08:18:08.763Z"
   },
   {
    "duration": 16,
    "start_time": "2022-11-08T08:18:08.771Z"
   },
   {
    "duration": 4,
    "start_time": "2022-11-08T08:18:08.789Z"
   },
   {
    "duration": 205,
    "start_time": "2022-11-08T08:18:08.794Z"
   },
   {
    "duration": 13,
    "start_time": "2022-11-08T08:18:09.001Z"
   },
   {
    "duration": 10,
    "start_time": "2022-11-08T08:18:09.015Z"
   },
   {
    "duration": 15,
    "start_time": "2022-11-08T08:18:09.026Z"
   },
   {
    "duration": 209,
    "start_time": "2022-11-08T08:18:09.042Z"
   },
   {
    "duration": 736,
    "start_time": "2022-11-08T08:18:09.253Z"
   },
   {
    "duration": 6,
    "start_time": "2022-11-08T08:18:09.990Z"
   },
   {
    "duration": 38,
    "start_time": "2022-11-08T08:18:09.998Z"
   },
   {
    "duration": 211,
    "start_time": "2022-11-08T08:18:10.039Z"
   },
   {
    "duration": 257,
    "start_time": "2022-11-08T08:18:10.252Z"
   },
   {
    "duration": 7,
    "start_time": "2022-11-08T08:18:10.511Z"
   },
   {
    "duration": 14,
    "start_time": "2022-11-08T08:18:10.520Z"
   },
   {
    "duration": 8,
    "start_time": "2022-11-08T08:18:10.537Z"
   },
   {
    "duration": 252,
    "start_time": "2022-11-08T08:18:10.546Z"
   },
   {
    "duration": 201,
    "start_time": "2022-11-08T08:18:10.800Z"
   },
   {
    "duration": 4,
    "start_time": "2022-11-08T08:18:11.003Z"
   },
   {
    "duration": 22,
    "start_time": "2022-11-08T08:18:11.008Z"
   },
   {
    "duration": 14,
    "start_time": "2022-11-08T08:18:11.032Z"
   },
   {
    "duration": 79,
    "start_time": "2022-11-08T08:18:11.047Z"
   },
   {
    "duration": 18,
    "start_time": "2022-11-08T08:18:11.127Z"
   },
   {
    "duration": 24,
    "start_time": "2022-11-08T08:18:11.147Z"
   },
   {
    "duration": 33,
    "start_time": "2022-11-08T08:18:11.173Z"
   },
   {
    "duration": 4,
    "start_time": "2022-11-08T08:18:11.208Z"
   },
   {
    "duration": 192,
    "start_time": "2022-11-08T08:18:11.214Z"
   },
   {
    "duration": 11,
    "start_time": "2022-11-08T08:18:11.407Z"
   },
   {
    "duration": 26,
    "start_time": "2022-11-08T08:18:11.419Z"
   }
  ],
  "kernelspec": {
   "display_name": "Python 3 (ipykernel)",
   "language": "python",
   "name": "python3"
  },
  "language_info": {
   "codemirror_mode": {
    "name": "ipython",
    "version": 3
   },
   "file_extension": ".py",
   "mimetype": "text/x-python",
   "name": "python",
   "nbconvert_exporter": "python",
   "pygments_lexer": "ipython3",
   "version": "3.9.12"
  },
  "toc": {
   "base_numbering": 1,
   "nav_menu": {},
   "number_sections": true,
   "sideBar": true,
   "skip_h1_title": true,
   "title_cell": "Table of Contents",
   "title_sidebar": "Contents",
   "toc_cell": false,
   "toc_position": {},
   "toc_section_display": true,
   "toc_window_display": false
  }
 },
 "nbformat": 4,
 "nbformat_minor": 5
}
